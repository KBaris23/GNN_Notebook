{
 "cells": [
  {
   "cell_type": "code",
   "execution_count": 5,
   "metadata": {
    "execution": {
     "iopub.execute_input": "2022-10-23T15:32:59.464326Z",
     "iopub.status.busy": "2022-10-23T15:32:59.463913Z",
     "iopub.status.idle": "2022-10-23T15:32:59.472296Z",
     "shell.execute_reply": "2022-10-23T15:32:59.470962Z",
     "shell.execute_reply.started": "2022-10-23T15:32:59.464326Z"
    },
    "id": "RIO91Fu65s6k"
   },
   "outputs": [],
   "source": [
    "import tensorflow\n",
    "import numpy as np\n",
    "import pandas as pd\n",
    "import os\n",
    "import tensorflow.keras as keras\n",
    "zip_file=keras.utils.get_file(\n",
    "    fname=\"gamma_angle_position_5deg_xy.h5\",\n",
    "    origin=\"https://zenodo.org/record/846388/files/gamma_angle_position_5deg_xy.h5?download=1\",\n",
    "    extract=True\n",
    "\n",
    ")\n",
    "#dirnam=os.path.join(os.path.dirname(zip_file), \"gamma_angle_position_5deg_xy.h5\")\n",
    "\n",
    "dirnam=os.path.join(os.path.dirname(zip_file), \"gamma_angle_position_5deg_xy.h5\")\n",
    "\n",
    "import h5py\n"
   ]
  },
  {
   "cell_type": "code",
   "execution_count": 6,
   "metadata": {
    "execution": {
     "iopub.execute_input": "2022-10-23T15:33:00.752102Z",
     "iopub.status.busy": "2022-10-23T15:33:00.751268Z",
     "iopub.status.idle": "2022-10-23T15:33:00.757970Z",
     "shell.execute_reply": "2022-10-23T15:33:00.756584Z",
     "shell.execute_reply.started": "2022-10-23T15:33:00.752075Z"
    },
    "id": "ysaVq5t7xcmU"
   },
   "outputs": [],
   "source": [
    "import matplotlib.pyplot as plt\n",
    "def extract_data(n):\n",
    "  windows=np.empty((12,12,1))\n",
    "  for i in range(n):\n",
    "    window = (np.array(h5py.File(zip_file)[\"layer_1\"][i]))\n",
    "    #print(window.reshape(1,12,12).shape)\n",
    "    #window=window.reshape(1,12,12)\n",
    "    windows=np.dstack((windows, window))\n",
    "  return windows\n",
    "  "
   ]
  },
  {
   "cell_type": "code",
   "execution_count": 7,
   "metadata": {
    "execution": {
     "iopub.execute_input": "2022-10-23T15:33:02.763648Z",
     "iopub.status.busy": "2022-10-23T15:33:02.763265Z",
     "iopub.status.idle": "2022-10-23T15:33:02.770297Z",
     "shell.execute_reply": "2022-10-23T15:33:02.769394Z",
     "shell.execute_reply.started": "2022-10-23T15:33:02.763607Z"
    }
   },
   "outputs": [],
   "source": [
    "def max_loc(layer):\n",
    "    layer_flat_2D=layer.reshape(layer.shape[0],layer.shape[1]*layer.shape[2])\n",
    "    maxx = np.argmax(layer_flat_2D,axis=1)%layer.shape[2]\n",
    "    maxy = np.argmax(layer_flat_2D,axis=1)//layer.shape[2]\n",
    "    max = np.stack([maxx,maxy],axis=1)\n",
    "    return max\n",
    "    #maxes = Layer_1_data_preprocessed.take(max)"
   ]
  },
  {
   "cell_type": "code",
   "execution_count": 8,
   "metadata": {
    "execution": {
     "iopub.execute_input": "2022-10-23T15:33:10.597813Z",
     "iopub.status.busy": "2022-10-23T15:33:10.596752Z",
     "iopub.status.idle": "2022-10-23T15:33:10.604802Z",
     "shell.execute_reply": "2022-10-23T15:33:10.603928Z",
     "shell.execute_reply.started": "2022-10-23T15:33:10.597783Z"
    }
   },
   "outputs": [],
   "source": [
    "def extract_message(layers):\n",
    "    max_coor = max_loc(layers)\n",
    "    print(max_coor.shape)\n",
    "    e_message = np.zeros((1,3,3))\n",
    "    message = np.empty((500000,3,3))\n",
    "    print(max_coor[0,0])\n",
    "    for index in range(max_coor.shape[0]):\n",
    "        if(max_coor[index,0] > 1 and max_coor[index,1] > 1 and  max_coor[index,0] < layers.shape[2]-2 and max_coor[index,1] < layers.shape[1]-2):\n",
    "            test = np.array(layers[index,max_coor[index,1]-1:max_coor[index,1]+2,max_coor[index,0]-1:max_coor[index,0]+2])\n",
    "        else:\n",
    "            test = e_message\n",
    "        if index == 12 : \n",
    "            print(test)\n",
    "        message[index] =  test\n",
    "    return message"
   ]
  },
  {
   "cell_type": "code",
   "execution_count": 9,
   "metadata": {
    "execution": {
     "iopub.execute_input": "2022-10-23T15:33:13.195511Z",
     "iopub.status.busy": "2022-10-23T15:33:13.194957Z",
     "iopub.status.idle": "2022-10-23T15:33:17.286177Z",
     "shell.execute_reply": "2022-10-23T15:33:17.284778Z",
     "shell.execute_reply.started": "2022-10-23T15:33:13.195482Z"
    },
    "id": "cuM9humvFrbe"
   },
   "outputs": [
    {
     "name": "stdout",
     "output_type": "stream",
     "text": [
      "(500000, 3, 96)\n"
     ]
    }
   ],
   "source": [
    "\n",
    "x=h5py.File(zip_file)\n",
    "layer_0_data = (np.array(h5py.File(zip_file)[\"layer_0\"][:]))\n",
    "layer_1_data = (np.array(h5py.File(zip_file)[\"layer_1\"][:]))\n",
    "layer_2_data = (np.array(h5py.File(zip_file)[\"layer_2\"][:]))\n",
    "energy=(np.array(h5py.File(zip_file)[\"energy\"]))\n",
    "order = np.arange(0, energy.shape[0])\n",
    "np.random.shuffle(order)\n",
    "energy=energy.reshape(energy.shape[0])\n",
    "energy_s = energy[order]\n",
    "layer_0_data_s = layer_0_data[order] \n",
    "layer_1_data_s = layer_1_data[order] \n",
    "layer_2_data_s = layer_2_data[order] \n",
    "\n",
    "\n",
    "nottobe_merged = max_loc(layer_1_data_s) == max_loc(layer_1_data)\n",
    "\n",
    "print(layer_0_data.shape)\n",
    "\n",
    "nrm_e=np.max(energy)\n",
    "\n",
    "\n"
   ]
  },
  {
   "cell_type": "code",
   "execution_count": 10,
   "metadata": {
    "execution": {
     "iopub.execute_input": "2022-10-23T15:33:18.539355Z",
     "iopub.status.busy": "2022-10-23T15:33:18.539038Z",
     "iopub.status.idle": "2022-10-23T15:33:18.559051Z",
     "shell.execute_reply": "2022-10-23T15:33:18.557811Z",
     "shell.execute_reply.started": "2022-10-23T15:33:18.539355Z"
    }
   },
   "outputs": [
    {
     "name": "stdout",
     "output_type": "stream",
     "text": [
      "55682\n"
     ]
    }
   ],
   "source": [
    "nottobe_merged = np.logical_and.reduce(nottobe_merged, axis = 1)\n",
    "print(np.sum(nottobe_merged))\n",
    "\n",
    "#tobe_merged = np.logical_not( tobe_merged)"
   ]
  },
  {
   "cell_type": "markdown",
   "metadata": {},
   "source": [
    "\n",
    "layer1_flat_2D=np.reshape(Layer_1_data_preprocessed,[500000,144])\n",
    "maxx = np.argmax(layer1_flat_2D,axis=1)//12\n",
    "maxy = np.argmax(layer1_flat_2D,axis=1)%12\n",
    "max = np.stack([maxy,maxx],axis=1)\n",
    "maxes = Layer_1_data_preprocessed.take(max)"
   ]
  },
  {
   "cell_type": "code",
   "execution_count": 11,
   "metadata": {
    "execution": {
     "iopub.execute_input": "2022-10-23T15:33:21.013444Z",
     "iopub.status.busy": "2022-10-23T15:33:21.013087Z",
     "iopub.status.idle": "2022-10-23T15:33:31.080597Z",
     "shell.execute_reply": "2022-10-23T15:33:31.079581Z",
     "shell.execute_reply.started": "2022-10-23T15:33:21.013419Z"
    }
   },
   "outputs": [],
   "source": [
    "rng = np.random.default_rng()\n",
    "noise_l0 = rng.normal(0,167,layer_0_data.shape[0]*layer_0_data.shape[1]*layer_0_data.shape[2])\n",
    "noise_l0 = noise_l0.reshape(layer_0_data.shape[0],layer_0_data.shape[1],layer_0_data.shape[2])\n",
    "mask = np.zeros([layer_0_data.shape[1],layer_0_data.shape[2]])\n",
    "layer_0_data_s[nottobe_merged] = mask\n",
    "layer_0_data = layer_0_data + noise_l0\n",
    "nrm_l0=np.max(layer_0_data)\n",
    "layer_0_data[layer_0_data<0] = 0\n",
    "\n",
    "\n",
    "\n",
    "noise_l1 = rng.normal(0,167,layer_1_data.shape[0]*layer_1_data.shape[1]*layer_1_data.shape[2])\n",
    "noise_l1 = noise_l1.reshape(layer_1_data.shape[0],layer_1_data.shape[1],layer_1_data.shape[2])\n",
    "mask = np.zeros([layer_1_data.shape[1],layer_1_data.shape[2]])\n",
    "layer_1_data_s[nottobe_merged] = mask\n",
    "layer_1_data = layer_1_data + noise_l1\n",
    "nrm_l1=np.max(layer_1_data)\n",
    "layer_1_data[layer_1_data<0] = 0\n",
    "\n",
    "noise_l2 = rng.normal(0,167,layer_2_data.shape[0]*layer_2_data.shape[1]*layer_2_data.shape[2])\n",
    "noise_l2 = noise_l2.reshape(layer_2_data.shape[0],layer_2_data.shape[1],layer_2_data.shape[2])\n",
    "mask = np.zeros([layer_2_data.shape[1],layer_2_data.shape[2]])\n",
    "layer_2_data_s[nottobe_merged] = mask\n",
    "layer_2_data = layer_2_data + noise_l2\n",
    "nrm_l2=np.max(layer_2_data)\n",
    "layer_2_data[layer_2_data<0] = 0\n",
    "\n",
    "#energy = np.stack((energy, energy_s*nottobe_merged),axis=1)\n",
    "\n",
    "\n",
    "Layer_0_data_preprocessed=layer_0_data/nrm_l0\n",
    "Layer_1_data_preprocessed=layer_1_data/nrm_l1\n",
    "Layer_2_data_preprocessed=layer_2_data/nrm_l2\n",
    "energy = energy / nrm_e"
   ]
  },
  {
   "cell_type": "code",
   "execution_count": 12,
   "metadata": {
    "execution": {
     "iopub.execute_input": "2022-10-23T15:33:31.082284Z",
     "iopub.status.busy": "2022-10-23T15:33:31.082037Z",
     "iopub.status.idle": "2022-10-23T15:33:34.812527Z",
     "shell.execute_reply": "2022-10-23T15:33:34.811560Z",
     "shell.execute_reply.started": "2022-10-23T15:33:31.082259Z"
    }
   },
   "outputs": [
    {
     "name": "stdout",
     "output_type": "stream",
     "text": [
      "(500000, 2)\n",
      "6\n",
      "[[0.00949807 0.01938775 0.01189127]\n",
      " [0.02696938 0.76999207 0.07657696]\n",
      " [0.00999602 0.06612141 0.02484327]]\n",
      "(500000, 2)\n",
      "3\n",
      "[[0.         0.         0.        ]\n",
      " [0.         0.02557715 0.00780875]\n",
      " [0.         0.         0.01193169]]\n",
      "(500000, 3, 3)\n",
      "(500000, 2)\n",
      "53\n",
      "[[[0. 0. 0.]\n",
      "  [0. 0. 0.]\n",
      "  [0. 0. 0.]]]\n"
     ]
    }
   ],
   "source": [
    "messages_l1_gnn = extract_message(Layer_1_data_preprocessed)\n",
    "messages_l2_gnn = extract_message(Layer_2_data_preprocessed)\n",
    "print(messages_l2_gnn.shape)\n",
    "messages_l0_gnn = extract_message(Layer_0_data_preprocessed)\n"
   ]
  },
  {
   "cell_type": "code",
   "execution_count": 13,
   "metadata": {
    "execution": {
     "iopub.execute_input": "2022-10-23T15:33:34.814238Z",
     "iopub.status.busy": "2022-10-23T15:33:34.813972Z",
     "iopub.status.idle": "2022-10-23T15:33:36.641407Z",
     "shell.execute_reply": "2022-10-23T15:33:36.640472Z",
     "shell.execute_reply.started": "2022-10-23T15:33:34.814213Z"
    }
   },
   "outputs": [],
   "source": [
    "layer_0_data_st = layer_0_data + layer_0_data_s + noise_l0\n",
    "layer_1_data_st = layer_1_data + layer_1_data_s + noise_l1\n",
    "layer_2_data_st = layer_2_data + layer_2_data_s + noise_l2\n",
    "mask = np.zeros([layer_0_data.shape[1],layer_0_data.shape[2]])\n",
    "layer_0_data_st[nottobe_merged]=mask\n",
    "mask = np.zeros([layer_1_data.shape[1],layer_1_data.shape[2]])\n",
    "layer_1_data_st[nottobe_merged]=mask\n",
    "mask = np.zeros([layer_2_data.shape[1],layer_2_data.shape[2]])\n",
    "layer_2_data_st[nottobe_merged]=mask\n",
    "energy_st = energy+energy_s\n",
    "mask= np.zeros(1)\n",
    "energy_st[nottobe_merged]=mask"
   ]
  },
  {
   "cell_type": "code",
   "execution_count": 14,
   "metadata": {
    "execution": {
     "iopub.execute_input": "2022-10-23T15:33:36.643769Z",
     "iopub.status.busy": "2022-10-23T15:33:36.643463Z",
     "iopub.status.idle": "2022-10-23T15:33:36.652626Z",
     "shell.execute_reply": "2022-10-23T15:33:36.651195Z",
     "shell.execute_reply.started": "2022-10-23T15:33:36.643769Z"
    }
   },
   "outputs": [],
   "source": [
    "stacked_values=np.where(nottobe_merged==True)\n",
    "stacked_values=np.array(stacked_values)\n",
    "\n",
    "\n",
    "def extract_particles(layers):\n",
    "    max_coor = max_loc(layers)\n",
    "    e_message = np.zeros((1,3,3))\n",
    "    message = np.empty((500000,3,3))\n",
    "    layers_clone = np.copy(layers)\n",
    "    for index in range(max_coor.shape[0]):\n",
    "        if((index in stacked_values)== False  and  (layers.shape[1]-2)>=max_coor[index,1]>0 and (layers.shape[2]-2)>=max_coor[index,0]>1 ):#for layer 1 and 2  \n",
    "            test = np.array(layers_clone[index,max_coor[index,1]-1:max_coor[index,1]+2,max_coor[index,0]-1:max_coor[index,0]+2])\n",
    "            layers_clone[index,max_coor[index,1], max_coor[index,0]]=0\n",
    "        else:\n",
    "            test = e_message\n",
    "        message[index] =  test\n",
    "    return message, layers_clone\n"
   ]
  },
  {
   "cell_type": "code",
   "execution_count": 15,
   "metadata": {
    "execution": {
     "iopub.execute_input": "2022-10-23T15:33:36.654217Z",
     "iopub.status.busy": "2022-10-23T15:33:36.653988Z",
     "iopub.status.idle": "2022-10-23T15:34:16.305576Z",
     "shell.execute_reply": "2022-10-23T15:34:16.304680Z",
     "shell.execute_reply.started": "2022-10-23T15:33:36.654217Z"
    }
   },
   "outputs": [],
   "source": [
    "particle0_1, layer_clone_0_1= extract_particles(layer_0_data_st)\n",
    "particle0_2,_=extract_particles(layer_clone_0_1)\n"
   ]
  },
  {
   "cell_type": "code",
   "execution_count": 16,
   "metadata": {
    "execution": {
     "iopub.execute_input": "2022-10-23T15:34:16.307407Z",
     "iopub.status.busy": "2022-10-23T15:34:16.306659Z",
     "iopub.status.idle": "2022-10-23T15:34:54.997839Z",
     "shell.execute_reply": "2022-10-23T15:34:54.996537Z",
     "shell.execute_reply.started": "2022-10-23T15:34:16.307379Z"
    }
   },
   "outputs": [],
   "source": [
    "particle1_1, layer_clone_1_1=extract_particles(layer_1_data_st)\n",
    "particle1_2, _= extract_particles(layer_clone_1_1)"
   ]
  },
  {
   "cell_type": "code",
   "execution_count": 17,
   "metadata": {
    "execution": {
     "iopub.execute_input": "2022-10-23T15:34:55.001605Z",
     "iopub.status.busy": "2022-10-23T15:34:55.001245Z",
     "iopub.status.idle": "2022-10-23T15:35:31.026351Z",
     "shell.execute_reply": "2022-10-23T15:35:31.025591Z",
     "shell.execute_reply.started": "2022-10-23T15:34:55.001567Z"
    }
   },
   "outputs": [],
   "source": [
    "particle2_1, layer_clone_2_1= extract_particles(layer_2_data_st)\n",
    "particle2_2,_=extract_particles(layer_clone_2_1)\n"
   ]
  },
  {
   "cell_type": "code",
   "execution_count": 18,
   "metadata": {
    "execution": {
     "iopub.execute_input": "2022-10-23T15:35:31.028967Z",
     "iopub.status.busy": "2022-10-23T15:35:31.027889Z",
     "iopub.status.idle": "2022-10-23T15:35:32.186780Z",
     "shell.execute_reply": "2022-10-23T15:35:32.185544Z",
     "shell.execute_reply.started": "2022-10-23T15:35:31.028940Z"
    }
   },
   "outputs": [],
   "source": [
    "par01_pos=max_loc(layer_0_data_st)\n",
    "par02_pos=max_loc(layer_clone_0_1)\n",
    "#concatenate positions with particles\n",
    "par11_pas=max_loc(layer_1_data_st)\n",
    "par12_pas=max_loc(layer_clone_1_1)\n",
    "#group particles of the same layer\n",
    "par21_pas=max_loc(layer_2_data_st)\n",
    "par22_pas=max_loc(layer_clone_2_1)\n",
    "#look for intersection of the presence of data as not all layers have 2 particles with paddings\n",
    "#arrange labels\n",
    "#restrict the trainable energy data using labels\n",
    "#look for position of each particle\n",
    "#distance function R=(x^2+y^2)^(1/2) preference function\n",
    "#baseline model with preferred energies having weight 1 and unpreferred having weight 0\n",
    "#comparative models with with weights proportional to 1/R\n",
    "#other elements like electromagnetic effects, mass-momentum of the particle, energy-path deviation relation\n",
    "#other particles like muon and pion \n",
    "#particle physics phenomenon"
   ]
  },
  {
   "cell_type": "code",
   "execution_count": 19,
   "metadata": {
    "execution": {
     "iopub.execute_input": "2022-10-23T15:35:32.189079Z",
     "iopub.status.busy": "2022-10-23T15:35:32.188773Z",
     "iopub.status.idle": "2022-10-23T15:35:32.860045Z",
     "shell.execute_reply": "2022-10-23T15:35:32.858766Z",
     "shell.execute_reply.started": "2022-10-23T15:35:32.189052Z"
    }
   },
   "outputs": [
    {
     "name": "stdout",
     "output_type": "stream",
     "text": [
      "[6 6]\n",
      "[5 6]\n",
      "[[ 3794.66517818  1605.98676836   921.26647591]\n",
      " [35442.55981464 45857.93099742  2188.48647921]\n",
      " [ 2203.81316078  2992.41098885   789.53272753]]\n",
      "[[ 1260.00694947  3794.66517818  1605.98676836]\n",
      " [ 3505.93359651 35442.55981464     0.        ]\n",
      " [  286.61687649  2203.81316078  2992.41098885]]\n"
     ]
    },
    {
     "data": {
      "image/png": "[encoded data removed]",
      "text/plain": [
       "<Figure size 432x288 with 4 Axes>"
      ]
     },
     "metadata": {
      "needs_background": "light"
     },
     "output_type": "display_data"
    }
   ],
   "source": [
    "def check_layer_1(int):\n",
    "    fig, ax=plt.subplots(1,4)\n",
    "    ax[0].imshow(particle1_1[int])\n",
    "    ax[1].imshow(layer_1_data_st[int])\n",
    "    ax[2].imshow(particle1_2[int])\n",
    "    ax[3].imshow(layer_clone_1_1[int])\n",
    "    print(max_loc(layer_1_data_st)[int])\n",
    "    print(max_loc(layer_clone_1_1)[int])\n",
    "    print(particle1_1[int])\n",
    "    print(particle1_2[int])\n",
    "check_layer_1(3)"
   ]
  },
  {
   "cell_type": "code",
   "execution_count": 20,
   "metadata": {
    "execution": {
     "iopub.execute_input": "2022-10-23T15:35:32.862419Z",
     "iopub.status.busy": "2022-10-23T15:35:32.862180Z",
     "iopub.status.idle": "2022-10-23T15:35:34.077291Z",
     "shell.execute_reply": "2022-10-23T15:35:34.076441Z",
     "shell.execute_reply.started": "2022-10-23T15:35:32.862396Z"
    }
   },
   "outputs": [
    {
     "name": "stdout",
     "output_type": "stream",
     "text": [
      "1\n",
      "[[ 151.63888057 -142.69850208  311.25514965]\n",
      " [1405.34006239 8486.10340488 1160.62796832]\n",
      " [-170.35278763 -177.88888108  458.60624501]] [[ 249.86449441  406.05217715  556.7536494 ]\n",
      " [ 271.72169352 1422.16333389  778.45032183]\n",
      " [  -6.13386213 -184.55685771 -149.81406964]]\n",
      "[56  1]\n",
      "[50  1]\n"
     ]
    },
    {
     "data": {
      "image/png": "[encoded data removed]",
      "text/plain": [
       "<Figure size 432x288 with 3 Axes>"
      ]
     },
     "metadata": {
      "needs_background": "light"
     },
     "output_type": "display_data"
    }
   ],
   "source": [
    "def check_layer_0(ind):\n",
    "    fig, ax=plt.subplots(1,3)\n",
    "    ax[0].imshow(layer_0_data_st[ind], aspect=\"auto\")\n",
    "    ax[1].imshow(particle0_1[ind])\n",
    "    print(max_loc(layer_0_data_st)[ind,1])\n",
    "    ax[2].imshow(particle0_2[ind])\n",
    "    print(particle0_1[ind], particle0_2[ind])\n",
    "    print(max_loc(layer_0_data_st)[ind])\n",
    "    print(max_loc(layer_clone_0_1)[ind])\n",
    "check_layer_0(8)"
   ]
  },
  {
   "cell_type": "code",
   "execution_count": 21,
   "metadata": {
    "execution": {
     "iopub.execute_input": "2022-10-23T15:35:34.078670Z",
     "iopub.status.busy": "2022-10-23T15:35:34.078377Z",
     "iopub.status.idle": "2022-10-23T15:35:34.271877Z",
     "shell.execute_reply": "2022-10-23T15:35:34.271034Z",
     "shell.execute_reply.started": "2022-10-23T15:35:34.078631Z"
    },
    "scrolled": true,
    "tags": []
   },
   "outputs": [
    {
     "name": "stdout",
     "output_type": "stream",
     "text": [
      "5\n",
      "6\n",
      "0.7259889044775074\n",
      "(500000, 2)\n",
      "[0.00217044 0.00135493]\n"
     ]
    }
   ],
   "source": [
    "layer1_flat_2D=np.reshape(Layer_1_data_preprocessed,[500000,144])\n",
    "maxx = np.argmax(layer1_flat_2D,axis=1)//12\n",
    "maxy = np.argmax(layer1_flat_2D,axis=1)%12\n",
    "max = np.stack([maxy,maxx],axis=1)\n",
    "maxes = Layer_1_data_preprocessed.take(max)\n",
    "print(maxx[0])\n",
    "print(maxy[0])\n",
    "print(Layer_1_data_preprocessed[0][5][6])\n",
    "print(maxes.shape)\n",
    "print(maxes[0])"
   ]
  },
  {
   "cell_type": "code",
   "execution_count": 22,
   "metadata": {
    "execution": {
     "iopub.execute_input": "2022-10-23T15:35:34.273298Z",
     "iopub.status.busy": "2022-10-23T15:35:34.273050Z",
     "iopub.status.idle": "2022-10-23T15:35:34.298101Z",
     "shell.execute_reply": "2022-10-23T15:35:34.296928Z",
     "shell.execute_reply.started": "2022-10-23T15:35:34.273273Z"
    },
    "id": "I7a-mPR6O9qa"
   },
   "outputs": [],
   "source": [
    "flatten_layer_0=Layer_0_data_preprocessed.reshape(500000,3*96)\n",
    "flatten_layer_1=Layer_1_data_preprocessed.reshape(500000,12*12)\n",
    "flatten_layer_2=Layer_2_data_preprocessed.reshape(500000,6*12)\n",
    "from random import randint\n",
    "\n",
    "labels=list(range(500000))\n",
    "\n",
    "\n",
    "\n",
    "\n",
    "#random_selection=np.array([x for x in range (500000) if x not in random])"
   ]
  },
  {
   "cell_type": "markdown",
   "metadata": {
    "id": "lCi6c27iruzL"
   },
   "source": [
    "for i in range(int(0.6*len(flatten_layer_0))):\n",
    "  n=randint(0,499999)\n",
    "  random.append(n)\n",
    "  train_labels.append(energy[n])\n",
    "  train_layer_0.append(flatten_layer_0[n])\n",
    "  train_layer_1.append(flatten_layer_1[n])\n",
    "  train_layer_2.append(flatten_layer_2[n])"
   ]
  },
  {
   "cell_type": "code",
   "execution_count": 23,
   "metadata": {
    "execution": {
     "iopub.execute_input": "2022-10-23T15:35:34.300197Z",
     "iopub.status.busy": "2022-10-23T15:35:34.299930Z",
     "iopub.status.idle": "2022-10-23T15:35:36.965009Z",
     "shell.execute_reply": "2022-10-23T15:35:36.964053Z",
     "shell.execute_reply.started": "2022-10-23T15:35:34.300168Z"
    },
    "id": "Qpn56IptgnKn"
   },
   "outputs": [],
   "source": [
    "from sklearn.model_selection import train_test_split\n",
    "layer_0_train, layer_0_test, energy_train, energy_test,  layer_1_train,layer_1_test, layer_2_train, layer_2_test,= train_test_split(flatten_layer_0,  energy, flatten_layer_1, flatten_layer_2,  test_size=0.4, random_state=42)\n",
    "layer_0_train_2D, layer_0_test_2D, energy_train, energy_test,  layer_1_train_2D,layer_1_test_2D, layer_2_train_2D, layer_2_test2D, messages_l1_gnn_train, messages_l1_gnn_test, messages_l2_gnn_train, messages_l2_gnn_test= train_test_split(Layer_0_data_preprocessed,  energy, Layer_1_data_preprocessed, Layer_2_data_preprocessed, messages_l1_gnn, messages_l2_gnn ,test_size=0.4, random_state=42)"
   ]
  },
  {
   "cell_type": "code",
   "execution_count": 24,
   "metadata": {
    "execution": {
     "iopub.execute_input": "2022-10-23T15:35:36.966655Z",
     "iopub.status.busy": "2022-10-23T15:35:36.966373Z",
     "iopub.status.idle": "2022-10-23T15:35:36.971856Z",
     "shell.execute_reply": "2022-10-23T15:35:36.970947Z",
     "shell.execute_reply.started": "2022-10-23T15:35:36.966630Z"
    },
    "id": "e_wOew_QE-dc"
   },
   "outputs": [
    {
     "name": "stdout",
     "output_type": "stream",
     "text": [
      "(300000, 3, 96)\n"
     ]
    }
   ],
   "source": [
    "print(layer_0_train_2D.shape)"
   ]
  },
  {
   "cell_type": "markdown",
   "metadata": {
    "id": "ZDqQ8hLR9d7q"
   },
   "source": [
    "\n",
    "def check_data(n):\n",
    "  x=layer_0_train[n].sum()*np.max(layer_0_data)+layer_1_train[n].sum()*np.max(layer_1_data)+layer_2_train[n].sum()*np.max(layer_2_data)\n",
    "  n=label0_train[n]\n",
    "  print(x,energy[n])\n",
    "check_data(5)"
   ]
  },
  {
   "cell_type": "markdown",
   "metadata": {
    "id": "pNAOiGn4rFit"
   },
   "source": [
    "lbl_tr ==> labels of training\n",
    "\n",
    "lbl_val==>labels of validation\n",
    "\n",
    "l0_tr, l1_tr, l2_tr will be used in training and are chosen from previously splitted training data"
   ]
  },
  {
   "cell_type": "markdown",
   "metadata": {
    "id": "QZGqkf745j9e"
   },
   "source": [
    "l0_tr,l0_val,l1_tr,l1_val,l2_tr,l2_val,lbl_tr,lbl_val= train_test_split(layer_0_train,layer_1_train,layer_2_train, label0_train, test_size=0.2, random_state=42)\n",
    "del(l0_tr,l0_val,l1_tr,l1_val,l2_tr,l2_val,lbl_tr,lbl_val)"
   ]
  },
  {
   "cell_type": "code",
   "execution_count": 25,
   "metadata": {
    "execution": {
     "iopub.execute_input": "2022-10-23T15:35:36.973657Z",
     "iopub.status.busy": "2022-10-23T15:35:36.973347Z",
     "iopub.status.idle": "2022-10-23T15:35:40.452264Z",
     "shell.execute_reply": "2022-10-23T15:35:40.451401Z",
     "shell.execute_reply.started": "2022-10-23T15:35:36.973632Z"
    },
    "id": "TOYVznGWZMyy"
   },
   "outputs": [],
   "source": [
    "\n",
    "lc1_test=np.array([np.concatenate((layer_0_test, layer_1_test, layer_2_test),axis=1)  ])\n",
    "lc1_train=np.array([np.concatenate((layer_0_train, layer_1_train, layer_2_train),axis=1)  ])\n",
    "lc1_train=lc1_train.reshape(lc1_train.shape[1],lc1_train.shape[2])\n",
    "lc1_test=lc1_test.reshape(lc1_test.shape[1],lc1_test.shape[2])\n"
   ]
  },
  {
   "cell_type": "code",
   "execution_count": 20,
   "metadata": {
    "execution": {
     "iopub.execute_input": "2022-10-18T19:24:25.286723Z",
     "iopub.status.busy": "2022-10-18T19:24:25.286410Z",
     "iopub.status.idle": "2022-10-18T19:24:25.291634Z",
     "shell.execute_reply": "2022-10-18T19:24:25.290827Z",
     "shell.execute_reply.started": "2022-10-18T19:24:25.286697Z"
    },
    "id": "Z06AW0WdFnIy"
   },
   "outputs": [
    {
     "name": "stdout",
     "output_type": "stream",
     "text": [
      "(200000, 504)\n",
      "(200000,)\n",
      "(300000, 504)\n",
      "(300000,)\n"
     ]
    }
   ],
   "source": [
    "print(lc1_test.shape) \n",
    "print(energy_test.shape)\n",
    "print(lc1_train.shape)\n",
    "print(energy_train.shape) "
   ]
  },
  {
   "cell_type": "markdown",
   "metadata": {
    "id": "PphME-j9cRs_"
   },
   "source": [
    "test_layer_0 = np.array([flatten_layer_0[i] for i in range(len(flatten_layer_0)) if i not in random])\n",
    "test_layer_1 = np.array([flatten_layer_1[i] for i in range(len(flatten_layer_0)) if i not in random])\n",
    "test_layer_2 = np.array([flatten_layer_2[i] for i in range(len(flatten_layer_0)) if i not in random])"
   ]
  },
  {
   "cell_type": "code",
   "execution_count": 26,
   "metadata": {
    "execution": {
     "iopub.execute_input": "2022-10-23T15:35:40.456006Z",
     "iopub.status.busy": "2022-10-23T15:35:40.454995Z",
     "iopub.status.idle": "2022-10-23T15:35:40.461963Z",
     "shell.execute_reply": "2022-10-23T15:35:40.461120Z",
     "shell.execute_reply.started": "2022-10-23T15:35:40.455981Z"
    },
    "id": "7yz029HZvne9"
   },
   "outputs": [],
   "source": [
    "def run_experiment(model, x_train, y_train):\n",
    "    \n",
    "    model.compile(\n",
    "        optimizer=keras.optimizers.Adam(0.003),\n",
    "        loss=keras.losses.MeanSquaredError(reduction=\"auto\", name=\"mean_squared_error\")#,\n",
    "        #metrics=tf.keras.metrics.BinaryAccuracy(),\n",
    "    )\n",
    "    \n",
    "    early_stopping = keras.callbacks.EarlyStopping(\n",
    "        monitor=\"val_loss\", patience=50, restore_best_weights=True\n",
    "    )\n",
    "    \n",
    "    history = model.fit(\n",
    "        x=x_train,\n",
    "        y=y_train,\n",
    "        epochs=50,\n",
    "        batch_size=512,\n",
    "        validation_split=0.2,\n",
    "        callbacks=[early_stopping],\n",
    "    )\n",
    "\n",
    "    return history"
   ]
  },
  {
   "cell_type": "code",
   "execution_count": 27,
   "metadata": {
    "execution": {
     "iopub.execute_input": "2022-10-23T15:35:40.463713Z",
     "iopub.status.busy": "2022-10-23T15:35:40.462885Z",
     "iopub.status.idle": "2022-10-23T15:35:43.046637Z",
     "shell.execute_reply": "2022-10-23T15:35:43.044615Z",
     "shell.execute_reply.started": "2022-10-23T15:35:40.463682Z"
    },
    "id": "AgJ2Mj70s9fk"
   },
   "outputs": [
    {
     "name": "stdout",
     "output_type": "stream",
     "text": [
      "Model: \"dnn\"\n",
      "_________________________________________________________________\n",
      " Layer (type)                Output Shape              Param #   \n",
      "=================================================================\n",
      " input_features (InputLayer)  [(None, 504)]            0         \n",
      "                                                                 \n",
      " dense (Dense)               (None, 1024)              517120    \n",
      "                                                                 \n",
      " dropout (Dropout)           (None, 1024)              0         \n",
      "                                                                 \n",
      " dense_1 (Dense)             (None, 512)               524800    \n",
      "                                                                 \n",
      " dropout_1 (Dropout)         (None, 512)               0         \n",
      "                                                                 \n",
      " dense_2 (Dense)             (None, 64)                32832     \n",
      "                                                                 \n",
      " dropout_2 (Dropout)         (None, 64)                0         \n",
      "                                                                 \n",
      " output (Dense)              (None, 1)                 65        \n",
      "                                                                 \n",
      "=================================================================\n",
      "Total params: 1,074,817\n",
      "Trainable params: 1,074,817\n",
      "Non-trainable params: 0\n",
      "_________________________________________________________________\n"
     ]
    }
   ],
   "source": [
    "import keras.layers as layers\n",
    "import tensorflow as tf\n",
    "hidden_units = [1024, 512,64]\n",
    "\n",
    "\n",
    "\n",
    "\n",
    "\n",
    "def dnn(hidden_units, num_classes, dropout_rate):\n",
    "    inputs = layers.Input(shape=(144+(96*3)+72,), name=\"input_features\")\n",
    "    x = inputs\n",
    "    for units in hidden_units:        \n",
    "        x  = layers.Dense(units, activation=tf.nn.relu)(x)\n",
    "        x  = layers.Dropout(rate=dropout_rate)(x)\n",
    "    logits = layers.Dense(num_classes, name=\"output\")(x)\n",
    "    # Create the model.\n",
    "    return keras.Model(inputs=inputs, outputs=logits, name=\"dnn\")\n",
    "\n",
    "\n",
    "baseline_model = dnn(hidden_units, 1, 0)\n",
    "baseline_model.summary()"
   ]
  },
  {
   "cell_type": "code",
   "execution_count": 28,
   "metadata": {
    "execution": {
     "iopub.execute_input": "2022-10-23T15:35:43.049163Z",
     "iopub.status.busy": "2022-10-23T15:35:43.048751Z",
     "iopub.status.idle": "2022-10-23T15:35:43.060858Z",
     "shell.execute_reply": "2022-10-23T15:35:43.059590Z",
     "shell.execute_reply.started": "2022-10-23T15:35:43.049120Z"
    }
   },
   "outputs": [],
   "source": [
    "def cnn(hidden_units, num_classes, dropout_rate):\n",
    "    inputs0 = layers.Input(shape=(3,96,1,), name=\"input_features_l0\")\n",
    "    inputs1 = layers.Input(shape=(12,12,1,), name=\"input_features_l1\")\n",
    "    inputs2 = layers.Input(shape=(12,6,1,), name=\"input_features_l2\")\n",
    "    cnn0 = layers.Conv2D(32, 3, activation='relu', padding='same')(inputs0)\n",
    "    cnn0 = layers.Conv2D(64, 3, activation='relu', padding='same')(cnn0)\n",
    "    #cnn0 = layers.Conv2D(128, 5, activation='relu', padding='same')(cnn0)\n",
    "    cnn0 = layers.Flatten()(cnn0)\n",
    "    inputs0_flat = layers.Flatten()(inputs0)\n",
    "    cnn0Comb = layers.Concatenate()([cnn0,inputs0_flat])\n",
    "    cnn1 = layers.Conv2D(32, 3, activation='relu', padding='same')(inputs1)\n",
    "    cnn1 = layers.Conv2D(64, 3, activation='relu', padding='same')(cnn1)\n",
    "    #cnn1 = layers.Conv2D(128, 5, activation='relu', padding='same')(cnn1)\n",
    "    cnn1 = layers.Flatten()(cnn1)\n",
    "    inputs1_flat = layers.Flatten()(inputs1)\n",
    "    cnn1Comb = layers.Concatenate()([cnn1,inputs1_flat])\n",
    "    cnn2 = layers.Conv2D(32, 3, activation='relu', padding='same')(inputs2)\n",
    "    cnn2 = layers.Conv2D(64, 3, activation='relu', padding='same')(cnn2)  \n",
    "    #cnn2 = layers.Conv2D(128, 5, activation='relu', padding='same')(cnn2)      \n",
    "    cnn2 = layers.Flatten()(cnn2)\n",
    "    inputs2_flat = layers.Flatten()(inputs2)\n",
    "    cnn2Comb = layers.Concatenate()([cnn2,inputs2_flat])\n",
    "    x =  layers.Concatenate()([cnn0Comb,cnn1Comb,cnn2Comb])\n",
    "    for units in hidden_units:        \n",
    "        x  = layers.Dense(units, activation=tf.nn.relu)(x)\n",
    "        x  = layers.Dropout(rate=dropout_rate)(x)\n",
    "    logits = layers.Dense(num_classes, name=\"output\")(x)\n",
    "    # Create the model.\n",
    "    return keras.Model(inputs=(inputs0,inputs1,inputs2), outputs=logits, name=\"cnn\")\n"
   ]
  },
  {
   "cell_type": "code",
   "execution_count": 29,
   "metadata": {
    "execution": {
     "iopub.execute_input": "2022-10-23T15:35:43.062283Z",
     "iopub.status.busy": "2022-10-23T15:35:43.062036Z",
     "iopub.status.idle": "2022-10-23T15:35:43.073854Z",
     "shell.execute_reply": "2022-10-23T15:35:43.071847Z",
     "shell.execute_reply.started": "2022-10-23T15:35:43.062260Z"
    }
   },
   "outputs": [],
   "source": [
    "def gnn(hidden_units, num_classes, dropout_rate):\n",
    "    inputs0 = layers.Input(shape=(3,96,1,), name=\"input_features_l0\")\n",
    "    inputs1 = layers.Input(shape=(3,3,1,), name=\"input_features_l1\")\n",
    "    inputs2 = layers.Input(shape=(3,3,1,), name=\"input_features_l2\")\n",
    "    cnn0 = layers.Conv2D(32, 3, activation='relu', padding='same')(inputs0)\n",
    "    cnn0 = layers.Conv2D(64, 3, activation='relu', padding='same')(cnn0)\n",
    "    #cnn0 = layers.Conv2D(128, 5, activation='relu', padding='same')(cnn0)\n",
    "    cnn0 = layers.Flatten()(cnn0)\n",
    "    inputs0_flat = layers.Flatten()(inputs0)\n",
    "    cnn0Comb = layers.Concatenate()([cnn0,inputs0_flat])\n",
    "    cnn1 = layers.Conv2D(32, 2, activation='relu', padding='same')(inputs1)\n",
    "    #cnn1 = layers.Conv2D(64, 2, activation='relu', padding='same')(cnn1)\n",
    "    #cnn1 = layers.Conv2D(128, 5, activation='relu', padding='same')(cnn1)\n",
    "    cnn1 = layers.Flatten()(cnn1)\n",
    "    inputs1_flat = layers.Flatten()(inputs1)\n",
    "    cnn1Comb = layers.Concatenate()([cnn1,inputs1_flat])\n",
    "    cnn2 = layers.Conv2D(32, 2, activation='relu', padding='same')(inputs2)\n",
    "    #cnn2 = layers.Conv2D(64, 2, activation='relu', padding='same')(cnn2)  \n",
    "    #cnn2 = layers.Conv2D(128, 5, activation='relu', padding='same')(cnn2)      \n",
    "    cnn2 = layers.Flatten()(cnn2)\n",
    "    inputs2_flat = layers.Flatten()(inputs2)\n",
    "    cnn2Comb = layers.Concatenate()([cnn2,inputs2_flat])\n",
    "    x =  layers.Concatenate()([cnn0Comb,cnn1Comb,cnn2Comb])\n",
    "    for units in hidden_units:        \n",
    "        x  = layers.Dense(units, activation=tf.nn.relu)(x)\n",
    "        x  = layers.Dropout(rate=dropout_rate)(x)\n",
    "    logits = layers.Dense(num_classes, name=\"output\")(x)\n",
    "    # Create the model.\n",
    "    return keras.Model(inputs=(inputs0,inputs1,inputs2), outputs=logits, name=\"gnn\")"
   ]
  },
  {
   "cell_type": "code",
   "execution_count": 30,
   "metadata": {
    "execution": {
     "iopub.execute_input": "2022-10-23T15:35:43.075564Z",
     "iopub.status.busy": "2022-10-23T15:35:43.075166Z",
     "iopub.status.idle": "2022-10-23T15:35:43.277652Z",
     "shell.execute_reply": "2022-10-23T15:35:43.276472Z",
     "shell.execute_reply.started": "2022-10-23T15:35:43.075564Z"
    }
   },
   "outputs": [
    {
     "name": "stdout",
     "output_type": "stream",
     "text": [
      "Model: \"cnn\"\n",
      "__________________________________________________________________________________________________\n",
      " Layer (type)                   Output Shape         Param #     Connected to                     \n",
      "==================================================================================================\n",
      " input_features_l0 (InputLayer)  [(None, 3, 96, 1)]  0           []                               \n",
      "                                                                                                  \n",
      " input_features_l1 (InputLayer)  [(None, 12, 12, 1)]  0          []                               \n",
      "                                                                                                  \n",
      " input_features_l2 (InputLayer)  [(None, 12, 6, 1)]  0           []                               \n",
      "                                                                                                  \n",
      " conv2d (Conv2D)                (None, 3, 96, 32)    320         ['input_features_l0[0][0]']      \n",
      "                                                                                                  \n",
      " conv2d_2 (Conv2D)              (None, 12, 12, 32)   320         ['input_features_l1[0][0]']      \n",
      "                                                                                                  \n",
      " conv2d_4 (Conv2D)              (None, 12, 6, 32)    320         ['input_features_l2[0][0]']      \n",
      "                                                                                                  \n",
      " conv2d_1 (Conv2D)              (None, 3, 96, 64)    18496       ['conv2d[0][0]']                 \n",
      "                                                                                                  \n",
      " conv2d_3 (Conv2D)              (None, 12, 12, 64)   18496       ['conv2d_2[0][0]']               \n",
      "                                                                                                  \n",
      " conv2d_5 (Conv2D)              (None, 12, 6, 64)    18496       ['conv2d_4[0][0]']               \n",
      "                                                                                                  \n",
      " flatten (Flatten)              (None, 18432)        0           ['conv2d_1[0][0]']               \n",
      "                                                                                                  \n",
      " flatten_1 (Flatten)            (None, 288)          0           ['input_features_l0[0][0]']      \n",
      "                                                                                                  \n",
      " flatten_2 (Flatten)            (None, 9216)         0           ['conv2d_3[0][0]']               \n",
      "                                                                                                  \n",
      " flatten_3 (Flatten)            (None, 144)          0           ['input_features_l1[0][0]']      \n",
      "                                                                                                  \n",
      " flatten_4 (Flatten)            (None, 4608)         0           ['conv2d_5[0][0]']               \n",
      "                                                                                                  \n",
      " flatten_5 (Flatten)            (None, 72)           0           ['input_features_l2[0][0]']      \n",
      "                                                                                                  \n",
      " concatenate (Concatenate)      (None, 18720)        0           ['flatten[0][0]',                \n",
      "                                                                  'flatten_1[0][0]']              \n",
      "                                                                                                  \n",
      " concatenate_1 (Concatenate)    (None, 9360)         0           ['flatten_2[0][0]',              \n",
      "                                                                  'flatten_3[0][0]']              \n",
      "                                                                                                  \n",
      " concatenate_2 (Concatenate)    (None, 4680)         0           ['flatten_4[0][0]',              \n",
      "                                                                  'flatten_5[0][0]']              \n",
      "                                                                                                  \n",
      " concatenate_3 (Concatenate)    (None, 32760)        0           ['concatenate[0][0]',            \n",
      "                                                                  'concatenate_1[0][0]',          \n",
      "                                                                  'concatenate_2[0][0]']          \n",
      "                                                                                                  \n",
      " dense_3 (Dense)                (None, 1024)         33547264    ['concatenate_3[0][0]']          \n",
      "                                                                                                  \n",
      " dropout_3 (Dropout)            (None, 1024)         0           ['dense_3[0][0]']                \n",
      "                                                                                                  \n",
      " dense_4 (Dense)                (None, 512)          524800      ['dropout_3[0][0]']              \n",
      "                                                                                                  \n",
      " dropout_4 (Dropout)            (None, 512)          0           ['dense_4[0][0]']                \n",
      "                                                                                                  \n",
      " dense_5 (Dense)                (None, 64)           32832       ['dropout_4[0][0]']              \n",
      "                                                                                                  \n",
      " dropout_5 (Dropout)            (None, 64)           0           ['dense_5[0][0]']                \n",
      "                                                                                                  \n",
      " output (Dense)                 (None, 1)            65          ['dropout_5[0][0]']              \n",
      "                                                                                                  \n",
      "==================================================================================================\n",
      "Total params: 34,161,409\n",
      "Trainable params: 34,161,409\n",
      "Non-trainable params: 0\n",
      "__________________________________________________________________________________________________\n"
     ]
    }
   ],
   "source": [
    "cnn_model = cnn(hidden_units, 1, 0.1)\n",
    "cnn_model.summary()\n"
   ]
  },
  {
   "cell_type": "code",
   "execution_count": 31,
   "metadata": {
    "execution": {
     "iopub.execute_input": "2022-10-23T15:35:43.279183Z",
     "iopub.status.busy": "2022-10-23T15:35:43.278882Z",
     "iopub.status.idle": "2022-10-23T15:35:43.456879Z",
     "shell.execute_reply": "2022-10-23T15:35:43.454969Z",
     "shell.execute_reply.started": "2022-10-23T15:35:43.279154Z"
    }
   },
   "outputs": [
    {
     "name": "stdout",
     "output_type": "stream",
     "text": [
      "Model: \"gnn\"\n",
      "__________________________________________________________________________________________________\n",
      " Layer (type)                   Output Shape         Param #     Connected to                     \n",
      "==================================================================================================\n",
      " input_features_l0 (InputLayer)  [(None, 3, 96, 1)]  0           []                               \n",
      "                                                                                                  \n",
      " conv2d_6 (Conv2D)              (None, 3, 96, 32)    320         ['input_features_l0[0][0]']      \n",
      "                                                                                                  \n",
      " input_features_l1 (InputLayer)  [(None, 3, 3, 1)]   0           []                               \n",
      "                                                                                                  \n",
      " input_features_l2 (InputLayer)  [(None, 3, 3, 1)]   0           []                               \n",
      "                                                                                                  \n",
      " conv2d_7 (Conv2D)              (None, 3, 96, 64)    18496       ['conv2d_6[0][0]']               \n",
      "                                                                                                  \n",
      " conv2d_8 (Conv2D)              (None, 3, 3, 32)     160         ['input_features_l1[0][0]']      \n",
      "                                                                                                  \n",
      " conv2d_9 (Conv2D)              (None, 3, 3, 32)     160         ['input_features_l2[0][0]']      \n",
      "                                                                                                  \n",
      " flatten_6 (Flatten)            (None, 18432)        0           ['conv2d_7[0][0]']               \n",
      "                                                                                                  \n",
      " flatten_7 (Flatten)            (None, 288)          0           ['input_features_l0[0][0]']      \n",
      "                                                                                                  \n",
      " flatten_8 (Flatten)            (None, 288)          0           ['conv2d_8[0][0]']               \n",
      "                                                                                                  \n",
      " flatten_9 (Flatten)            (None, 9)            0           ['input_features_l1[0][0]']      \n",
      "                                                                                                  \n",
      " flatten_10 (Flatten)           (None, 288)          0           ['conv2d_9[0][0]']               \n",
      "                                                                                                  \n",
      " flatten_11 (Flatten)           (None, 9)            0           ['input_features_l2[0][0]']      \n",
      "                                                                                                  \n",
      " concatenate_4 (Concatenate)    (None, 18720)        0           ['flatten_6[0][0]',              \n",
      "                                                                  'flatten_7[0][0]']              \n",
      "                                                                                                  \n",
      " concatenate_5 (Concatenate)    (None, 297)          0           ['flatten_8[0][0]',              \n",
      "                                                                  'flatten_9[0][0]']              \n",
      "                                                                                                  \n",
      " concatenate_6 (Concatenate)    (None, 297)          0           ['flatten_10[0][0]',             \n",
      "                                                                  'flatten_11[0][0]']             \n",
      "                                                                                                  \n",
      " concatenate_7 (Concatenate)    (None, 19314)        0           ['concatenate_4[0][0]',          \n",
      "                                                                  'concatenate_5[0][0]',          \n",
      "                                                                  'concatenate_6[0][0]']          \n",
      "                                                                                                  \n",
      " dense_6 (Dense)                (None, 1024)         19778560    ['concatenate_7[0][0]']          \n",
      "                                                                                                  \n",
      " dropout_6 (Dropout)            (None, 1024)         0           ['dense_6[0][0]']                \n",
      "                                                                                                  \n",
      " dense_7 (Dense)                (None, 512)          524800      ['dropout_6[0][0]']              \n",
      "                                                                                                  \n",
      " dropout_7 (Dropout)            (None, 512)          0           ['dense_7[0][0]']                \n",
      "                                                                                                  \n",
      " dense_8 (Dense)                (None, 64)           32832       ['dropout_7[0][0]']              \n",
      "                                                                                                  \n",
      " dropout_8 (Dropout)            (None, 64)           0           ['dense_8[0][0]']                \n",
      "                                                                                                  \n",
      " output (Dense)                 (None, 1)            65          ['dropout_8[0][0]']              \n",
      "                                                                                                  \n",
      "==================================================================================================\n",
      "Total params: 20,355,393\n",
      "Trainable params: 20,355,393\n",
      "Non-trainable params: 0\n",
      "__________________________________________________________________________________________________\n"
     ]
    }
   ],
   "source": [
    "gnn_model = gnn(hidden_units, 1, 0.1)\n",
    "gnn_model.summary()"
   ]
  },
  {
   "cell_type": "code",
   "execution_count": 32,
   "metadata": {
    "execution": {
     "iopub.execute_input": "2022-10-23T15:35:43.461536Z",
     "iopub.status.busy": "2022-10-23T15:35:43.461202Z",
     "iopub.status.idle": "2022-10-23T16:03:07.289439Z",
     "shell.execute_reply": "2022-10-23T16:03:07.288610Z",
     "shell.execute_reply.started": "2022-10-23T15:35:43.461536Z"
    }
   },
   "outputs": [
    {
     "name": "stdout",
     "output_type": "stream",
     "text": [
      "Epoch 1/50\n",
      "469/469 [==============================] - 40s 72ms/step - loss: 0.0090 - val_loss: 2.8498e-04\n",
      "Epoch 2/50\n",
      "469/469 [==============================] - 33s 70ms/step - loss: 0.0027 - val_loss: 1.7319e-04\n",
      "Epoch 3/50\n",
      "469/469 [==============================] - 33s 69ms/step - loss: 0.0019 - val_loss: 2.0187e-04\n",
      "Epoch 4/50\n",
      "469/469 [==============================] - 33s 69ms/step - loss: 0.0015 - val_loss: 2.0245e-04\n",
      "Epoch 5/50\n",
      "469/469 [==============================] - 32s 69ms/step - loss: 0.0012 - val_loss: 1.8587e-04\n",
      "Epoch 6/50\n",
      "469/469 [==============================] - 32s 69ms/step - loss: 0.0011 - val_loss: 3.1108e-04\n",
      "Epoch 7/50\n",
      "469/469 [==============================] - 32s 69ms/step - loss: 0.0011 - val_loss: 2.4719e-04\n",
      "Epoch 8/50\n",
      "469/469 [==============================] - 32s 69ms/step - loss: 0.0011 - val_loss: 4.3958e-04\n",
      "Epoch 9/50\n",
      "469/469 [==============================] - 33s 69ms/step - loss: 0.0010 - val_loss: 1.6233e-04\n",
      "Epoch 10/50\n",
      "469/469 [==============================] - 32s 69ms/step - loss: 0.0010 - val_loss: 2.1588e-04\n",
      "Epoch 11/50\n",
      "469/469 [==============================] - 32s 69ms/step - loss: 0.0010 - val_loss: 3.1602e-04\n",
      "Epoch 12/50\n",
      "469/469 [==============================] - 32s 69ms/step - loss: 9.9799e-04 - val_loss: 1.5202e-04\n",
      "Epoch 13/50\n",
      "469/469 [==============================] - 32s 69ms/step - loss: 9.9508e-04 - val_loss: 1.6490e-04\n",
      "Epoch 14/50\n",
      "469/469 [==============================] - 33s 70ms/step - loss: 9.4920e-04 - val_loss: 1.4273e-04\n",
      "Epoch 15/50\n",
      "469/469 [==============================] - 33s 69ms/step - loss: 9.2238e-04 - val_loss: 1.6702e-04\n",
      "Epoch 16/50\n",
      "469/469 [==============================] - 32s 69ms/step - loss: 9.2955e-04 - val_loss: 2.0567e-04\n",
      "Epoch 17/50\n",
      "469/469 [==============================] - 32s 69ms/step - loss: 9.3043e-04 - val_loss: 2.8473e-04\n",
      "Epoch 18/50\n",
      "469/469 [==============================] - 32s 69ms/step - loss: 8.9805e-04 - val_loss: 1.7152e-04\n",
      "Epoch 19/50\n",
      "469/469 [==============================] - 32s 69ms/step - loss: 8.9006e-04 - val_loss: 3.3208e-04\n",
      "Epoch 20/50\n",
      "469/469 [==============================] - 32s 69ms/step - loss: 8.6758e-04 - val_loss: 1.9282e-04\n",
      "Epoch 21/50\n",
      "469/469 [==============================] - 32s 69ms/step - loss: 8.5769e-04 - val_loss: 1.9466e-04\n",
      "Epoch 22/50\n",
      "469/469 [==============================] - 33s 69ms/step - loss: 8.6008e-04 - val_loss: 2.7443e-04\n",
      "Epoch 23/50\n",
      "469/469 [==============================] - 32s 69ms/step - loss: 8.4183e-04 - val_loss: 5.4033e-04\n",
      "Epoch 24/50\n",
      "469/469 [==============================] - 33s 70ms/step - loss: 8.4335e-04 - val_loss: 2.5563e-04\n",
      "Epoch 25/50\n",
      "469/469 [==============================] - 33s 70ms/step - loss: 8.2944e-04 - val_loss: 2.0887e-04\n",
      "Epoch 26/50\n",
      "469/469 [==============================] - 33s 69ms/step - loss: 8.3363e-04 - val_loss: 4.9847e-04\n",
      "Epoch 27/50\n",
      "469/469 [==============================] - 33s 70ms/step - loss: 8.2783e-04 - val_loss: 5.4676e-04\n",
      "Epoch 28/50\n",
      "469/469 [==============================] - 33s 69ms/step - loss: 8.3723e-04 - val_loss: 4.1995e-04\n",
      "Epoch 29/50\n",
      "469/469 [==============================] - 33s 70ms/step - loss: 8.2741e-04 - val_loss: 2.3173e-04\n",
      "Epoch 30/50\n",
      "469/469 [==============================] - 33s 69ms/step - loss: 8.2026e-04 - val_loss: 8.0469e-04\n",
      "Epoch 31/50\n",
      "469/469 [==============================] - 33s 69ms/step - loss: 8.1304e-04 - val_loss: 2.4495e-04\n",
      "Epoch 32/50\n",
      "469/469 [==============================] - 33s 69ms/step - loss: 8.1309e-04 - val_loss: 3.1789e-04\n",
      "Epoch 33/50\n",
      "469/469 [==============================] - 33s 70ms/step - loss: 7.9609e-04 - val_loss: 2.0498e-04\n",
      "Epoch 34/50\n",
      "469/469 [==============================] - 33s 69ms/step - loss: 8.0673e-04 - val_loss: 3.0735e-04\n",
      "Epoch 35/50\n",
      "469/469 [==============================] - 33s 70ms/step - loss: 7.9557e-04 - val_loss: 3.1148e-04\n",
      "Epoch 36/50\n",
      "469/469 [==============================] - 33s 70ms/step - loss: 8.0176e-04 - val_loss: 3.1277e-04\n",
      "Epoch 37/50\n",
      "469/469 [==============================] - 32s 69ms/step - loss: 7.9312e-04 - val_loss: 4.8039e-04\n",
      "Epoch 38/50\n",
      "469/469 [==============================] - 32s 69ms/step - loss: 7.9874e-04 - val_loss: 4.6360e-04\n",
      "Epoch 39/50\n",
      "469/469 [==============================] - 32s 69ms/step - loss: 7.8582e-04 - val_loss: 4.6802e-04\n",
      "Epoch 40/50\n",
      "469/469 [==============================] - 33s 69ms/step - loss: 7.9006e-04 - val_loss: 4.2127e-04\n",
      "Epoch 41/50\n",
      "469/469 [==============================] - 33s 69ms/step - loss: 7.8828e-04 - val_loss: 2.9160e-04\n",
      "Epoch 42/50\n",
      "469/469 [==============================] - 33s 70ms/step - loss: 7.9832e-04 - val_loss: 4.7746e-04\n",
      "Epoch 43/50\n",
      "469/469 [==============================] - 33s 70ms/step - loss: 7.8618e-04 - val_loss: 3.4100e-04\n",
      "Epoch 44/50\n",
      "469/469 [==============================] - 33s 70ms/step - loss: 7.8893e-04 - val_loss: 3.7965e-04\n",
      "Epoch 45/50\n",
      "469/469 [==============================] - 33s 70ms/step - loss: 7.8905e-04 - val_loss: 6.2398e-04\n",
      "Epoch 46/50\n",
      "469/469 [==============================] - 33s 70ms/step - loss: 7.8943e-04 - val_loss: 4.3949e-04\n",
      "Epoch 47/50\n",
      "469/469 [==============================] - 33s 70ms/step - loss: 7.8712e-04 - val_loss: 4.1458e-04\n",
      "Epoch 48/50\n",
      "469/469 [==============================] - 33s 70ms/step - loss: 7.7949e-04 - val_loss: 4.0629e-04\n",
      "Epoch 49/50\n",
      "469/469 [==============================] - 33s 70ms/step - loss: 7.7595e-04 - val_loss: 3.5415e-04\n",
      "Epoch 50/50\n",
      "469/469 [==============================] - 33s 70ms/step - loss: 7.7624e-04 - val_loss: 4.6545e-04\n"
     ]
    }
   ],
   "source": [
    "history_gnn=run_experiment(gnn_model,[layer_0_train_2D,messages_l1_gnn_train,messages_l2_gnn_train],energy_train)"
   ]
  },
  {
   "cell_type": "code",
   "execution_count": null,
   "metadata": {},
   "outputs": [],
   "source": [
    "history_cnn=run_experiment(cnn_model,[layer_0_train_2D,layer_1_train_2D,layer_2_train_2D],energy_train)"
   ]
  },
  {
   "cell_type": "code",
   "execution_count": 37,
   "metadata": {
    "execution": {
     "iopub.execute_input": "2022-10-23T16:05:16.125353Z",
     "iopub.status.busy": "2022-10-23T16:05:16.124230Z",
     "iopub.status.idle": "2022-10-23T16:08:04.934630Z",
     "shell.execute_reply": "2022-10-23T16:08:04.932827Z",
     "shell.execute_reply.started": "2022-10-23T16:05:16.125324Z"
    },
    "id": "PUPhTztZvza-"
   },
   "outputs": [
    {
     "name": "stdout",
     "output_type": "stream",
     "text": [
      "Epoch 1/50\n",
      "469/469 [==============================] - 5s 9ms/step - loss: 0.0074 - val_loss: 1.5988e-04\n",
      "Epoch 2/50\n",
      "469/469 [==============================] - 4s 8ms/step - loss: 1.6720e-04 - val_loss: 1.3468e-04\n",
      "Epoch 3/50\n",
      "469/469 [==============================] - 4s 8ms/step - loss: 1.5602e-04 - val_loss: 1.4607e-04\n",
      "Epoch 4/50\n",
      "469/469 [==============================] - 3s 7ms/step - loss: 1.6418e-04 - val_loss: 1.2618e-04\n",
      "Epoch 5/50\n",
      "469/469 [==============================] - 3s 7ms/step - loss: 1.6381e-04 - val_loss: 1.2503e-04\n",
      "Epoch 6/50\n",
      "469/469 [==============================] - 3s 7ms/step - loss: 1.8634e-04 - val_loss: 3.4431e-04\n",
      "Epoch 7/50\n",
      "469/469 [==============================] - 3s 7ms/step - loss: 1.8465e-04 - val_loss: 1.2978e-04\n",
      "Epoch 8/50\n",
      "469/469 [==============================] - 3s 7ms/step - loss: 1.8331e-04 - val_loss: 1.4902e-04\n",
      "Epoch 9/50\n",
      "469/469 [==============================] - 3s 7ms/step - loss: 1.6971e-04 - val_loss: 2.2562e-04\n",
      "Epoch 10/50\n",
      "469/469 [==============================] - 3s 7ms/step - loss: 1.7026e-04 - val_loss: 1.1635e-04\n",
      "Epoch 11/50\n",
      "469/469 [==============================] - 4s 8ms/step - loss: 1.6208e-04 - val_loss: 1.1983e-04\n",
      "Epoch 12/50\n",
      "469/469 [==============================] - 4s 7ms/step - loss: 1.5431e-04 - val_loss: 1.3111e-04\n",
      "Epoch 13/50\n",
      "469/469 [==============================] - 3s 7ms/step - loss: 1.5908e-04 - val_loss: 1.5224e-04\n",
      "Epoch 14/50\n",
      "469/469 [==============================] - 3s 7ms/step - loss: 1.4282e-04 - val_loss: 1.9484e-04\n",
      "Epoch 15/50\n",
      "469/469 [==============================] - 3s 7ms/step - loss: 1.3952e-04 - val_loss: 1.1483e-04\n",
      "Epoch 16/50\n",
      "469/469 [==============================] - 3s 7ms/step - loss: 1.3640e-04 - val_loss: 1.2216e-04\n",
      "Epoch 17/50\n",
      "469/469 [==============================] - 3s 6ms/step - loss: 1.3475e-04 - val_loss: 1.7586e-04\n",
      "Epoch 18/50\n",
      "469/469 [==============================] - 3s 6ms/step - loss: 1.2217e-04 - val_loss: 1.2204e-04\n",
      "Epoch 19/50\n",
      "469/469 [==============================] - 3s 6ms/step - loss: 1.3057e-04 - val_loss: 1.3406e-04\n",
      "Epoch 20/50\n",
      "469/469 [==============================] - 3s 7ms/step - loss: 1.1301e-04 - val_loss: 1.6383e-04\n",
      "Epoch 21/50\n",
      "469/469 [==============================] - 3s 7ms/step - loss: 1.0725e-04 - val_loss: 1.1521e-04\n",
      "Epoch 22/50\n",
      "469/469 [==============================] - 3s 7ms/step - loss: 9.8267e-05 - val_loss: 1.6295e-04\n",
      "Epoch 23/50\n",
      "469/469 [==============================] - 3s 7ms/step - loss: 9.6355e-05 - val_loss: 1.7662e-04\n",
      "Epoch 24/50\n",
      "469/469 [==============================] - 3s 7ms/step - loss: 9.5705e-05 - val_loss: 1.2321e-04\n",
      "Epoch 25/50\n",
      "469/469 [==============================] - 3s 7ms/step - loss: 9.7433e-05 - val_loss: 1.2351e-04\n",
      "Epoch 26/50\n",
      "469/469 [==============================] - 3s 7ms/step - loss: 8.9913e-05 - val_loss: 1.2005e-04\n",
      "Epoch 27/50\n",
      "469/469 [==============================] - 3s 7ms/step - loss: 8.8580e-05 - val_loss: 1.2987e-04\n",
      "Epoch 28/50\n",
      "469/469 [==============================] - 3s 7ms/step - loss: 8.9064e-05 - val_loss: 1.5608e-04\n",
      "Epoch 29/50\n",
      "469/469 [==============================] - 3s 7ms/step - loss: 8.3148e-05 - val_loss: 1.1134e-04\n",
      "Epoch 30/50\n",
      "469/469 [==============================] - 3s 6ms/step - loss: 8.2813e-05 - val_loss: 1.0777e-04\n",
      "Epoch 31/50\n",
      "469/469 [==============================] - 3s 6ms/step - loss: 7.8764e-05 - val_loss: 1.3057e-04\n",
      "Epoch 32/50\n",
      "469/469 [==============================] - 3s 7ms/step - loss: 7.4712e-05 - val_loss: 1.1595e-04\n",
      "Epoch 33/50\n",
      "469/469 [==============================] - 4s 7ms/step - loss: 7.1764e-05 - val_loss: 1.3632e-04\n",
      "Epoch 34/50\n",
      "469/469 [==============================] - 3s 7ms/step - loss: 7.1765e-05 - val_loss: 1.0953e-04\n",
      "Epoch 35/50\n",
      "469/469 [==============================] - 3s 7ms/step - loss: 7.2407e-05 - val_loss: 1.0610e-04\n",
      "Epoch 36/50\n",
      "469/469 [==============================] - 3s 7ms/step - loss: 6.7410e-05 - val_loss: 1.1890e-04\n",
      "Epoch 37/50\n",
      "469/469 [==============================] - 3s 7ms/step - loss: 6.7569e-05 - val_loss: 1.4190e-04\n",
      "Epoch 38/50\n",
      "469/469 [==============================] - 3s 7ms/step - loss: 6.2941e-05 - val_loss: 1.1517e-04\n",
      "Epoch 39/50\n",
      "469/469 [==============================] - 3s 7ms/step - loss: 6.3657e-05 - val_loss: 1.1808e-04\n",
      "Epoch 40/50\n",
      "469/469 [==============================] - 3s 7ms/step - loss: 6.7148e-05 - val_loss: 1.4208e-04\n",
      "Epoch 41/50\n",
      "469/469 [==============================] - 3s 7ms/step - loss: 5.9620e-05 - val_loss: 1.0869e-04\n",
      "Epoch 42/50\n",
      "469/469 [==============================] - 4s 8ms/step - loss: 6.1462e-05 - val_loss: 1.2171e-04\n",
      "Epoch 43/50\n",
      "469/469 [==============================] - 3s 7ms/step - loss: 5.3003e-05 - val_loss: 1.3582e-04\n",
      "Epoch 44/50\n",
      "469/469 [==============================] - 4s 8ms/step - loss: 5.8531e-05 - val_loss: 1.2107e-04\n",
      "Epoch 45/50\n",
      "469/469 [==============================] - 4s 9ms/step - loss: 5.7944e-05 - val_loss: 1.1061e-04\n",
      "Epoch 46/50\n",
      "469/469 [==============================] - 3s 7ms/step - loss: 5.6012e-05 - val_loss: 1.0642e-04\n",
      "Epoch 47/50\n",
      "469/469 [==============================] - 3s 7ms/step - loss: 5.7083e-05 - val_loss: 1.1423e-04\n",
      "Epoch 48/50\n",
      "469/469 [==============================] - 3s 7ms/step - loss: 5.3297e-05 - val_loss: 1.1047e-04\n",
      "Epoch 49/50\n",
      "469/469 [==============================] - 4s 8ms/step - loss: 5.3567e-05 - val_loss: 1.1134e-04\n",
      "Epoch 50/50\n",
      "469/469 [==============================] - 4s 8ms/step - loss: 5.3128e-05 - val_loss: 1.1280e-04\n"
     ]
    }
   ],
   "source": [
    "x_train=lc1_train\n",
    "\n",
    "y_train=energy_train\n",
    "x=run_experiment(baseline_model, x_train, y_train)"
   ]
  },
  {
   "cell_type": "code",
   "execution_count": 46,
   "metadata": {
    "execution": {
     "iopub.execute_input": "2022-10-23T16:11:59.353425Z",
     "iopub.status.busy": "2022-10-23T16:11:59.353014Z",
     "iopub.status.idle": "2022-10-23T16:12:23.832169Z",
     "shell.execute_reply": "2022-10-23T16:12:23.830712Z",
     "shell.execute_reply.started": "2022-10-23T16:11:59.353382Z"
    },
    "id": "267imLDtGgt2"
   },
   "outputs": [
    {
     "name": "stdout",
     "output_type": "stream",
     "text": [
      "43809.02060578734 10205.808976085407\n",
      "6250/6250 [==============================] - 22s 3ms/step\n"
     ]
    }
   ],
   "source": [
    "def check_data(n):\n",
    "  x=np.sum(layer_0_test[n])*nrm_l0+np.sum(layer_1_test[n])*nrm_l1+np.sum(layer_2_test[n])*nrm_l2\n",
    "  y=energy_test[n]*nrm_e*1000\n",
    "  print(x,y)\n",
    "check_data(5)\n",
    "\n",
    "gnn_predict=gnn_model.predict(x=[layer_0_test_2D,messages_l1_gnn_test,messages_l2_gnn_test], verbose=1)"
   ]
  },
  {
   "cell_type": "code",
   "execution_count": null,
   "metadata": {},
   "outputs": [],
   "source": [
    "cnn_predict = cnn_model.predict(x=[layer_0_test_2D,layer_1_test_2D,layer_2_test2D], verbose=1)"
   ]
  },
  {
   "cell_type": "code",
   "execution_count": null,
   "metadata": {
    "execution": {
     "iopub.execute_input": "2022-10-23T16:12:23.834886Z",
     "iopub.status.busy": "2022-10-23T16:12:23.834593Z"
    },
    "id": "BW0EWDIQ6Rhd"
   },
   "outputs": [],
   "source": [
    "dnn_predict = baseline_model.predict(x=lc1_test, verbose=0)"
   ]
  },
  {
   "cell_type": "code",
   "execution_count": null,
   "metadata": {},
   "outputs": [],
   "source": [
    "energy = np.array(energy)\n",
    "dnn_predict = np.array(dnn_predict)\n",
    "cnn_predict = np.array(cnn_predict)\n",
    "fig, ax = plt.subplots(1,2,figsize=[10,5])\n",
    "\n",
    "ax[0].hist(energy[:,0],bins= 100, density= True, label=\"Sum energy\") \n",
    "ax[0].hist(dnn_predict[:,0],bins= 100, density = True , alpha = 0.4,  label=\"DNN predict\")\n",
    "#ax[0].hist(cnn_predict[:,0],bins= 100, density = True, alpha = 0.4, label=\"CNN predict\")\n",
    "ax[0].hist(gnn_predict[:,0],bins= 100, density = True, alpha = 0.4, label=\"GNN predict\")\n",
    "\n",
    "ax[0].legend()\n",
    "\n",
    "ax[1].hist(energy[:,1],bins= 100, density= True, label=\"Sum energy\") \n",
    "#ax[1].hist(dnn_predict[:,1],bins= 100, density = True , alpha = 0.4,  label=\"DNN predict\")\n",
    "ax[1].hist(cnn_predict[:,1],bins= 100, density = True, alpha = 0.4, label=\"CNN predict\")\n",
    "\n",
    "plt.legend()\n"
   ]
  },
  {
   "cell_type": "code",
   "execution_count": 41,
   "metadata": {
    "execution": {
     "iopub.execute_input": "2022-10-23T16:09:03.333530Z",
     "iopub.status.busy": "2022-10-23T16:09:03.333137Z",
     "iopub.status.idle": "2022-10-23T16:09:03.623373Z",
     "shell.execute_reply": "2022-10-23T16:09:03.622026Z",
     "shell.execute_reply.started": "2022-10-23T16:09:03.333495Z"
    },
    "id": "64s3HBLVmxJl"
   },
   "outputs": [
    {
     "data": {
      "image/png": "[encoded data removed]",
      "text/plain": [
       "<Figure size 720x360 with 2 Axes>"
      ]
     },
     "metadata": {
      "needs_background": "light"
     },
     "output_type": "display_data"
    }
   ],
   "source": [
    "def display_learning_curves(history_cnn, history_dnn):\n",
    "    fig, (ax1) = plt.subplots(1, 2, figsize=(10, 5))\n",
    "\n",
    "    ax1[0].plot(history_cnn.history[\"loss\"])\n",
    "    ax1[0].plot(history_cnn.history[\"val_loss\"])\n",
    "    ax1[0].set_ylim(top  = 0.01, bottom = 0.0)\n",
    "    ax1[0].legend([\"train\", \"test\"], loc=\"upper right\")\n",
    "    ax1[0].set_xlabel(\"Epochs\")\n",
    "    ax1[0].set_ylabel(\"loss\")\n",
    "    ax1[1].plot(history_dnn.history[\"loss\"])\n",
    "    ax1[1].plot(history_dnn.history[\"val_loss\"])\n",
    "    ax1[1].legend([\"train\", \"test\"], loc=\"upper right\")\n",
    "    ax1[1].set_xlabel(\"Epochs\")\n",
    "    ax1[1].set_ylabel(\"loss\")\n",
    "    plt.ylim(top  = 0.01, bottom = 0.0)\n",
    "\n",
    " #   ax2.plot(history.history[\"loss\"])\n",
    " #   ax2.plot(history.history[\"mse\"])\n",
    " #   ax2.legend([\"train\", \"test\"], loc=\"upper right\")\n",
    " #   ax2.set_xlabel(\"Epochs\")\n",
    " #   ax2.set_ylabel(\"loss\")\n",
    "    plt.show()\n",
    "display_learning_curves(history_gnn,x)"
   ]
  },
  {
   "cell_type": "code",
   "execution_count": 43,
   "metadata": {
    "execution": {
     "iopub.execute_input": "2022-10-23T16:09:26.665030Z",
     "iopub.status.busy": "2022-10-23T16:09:26.664651Z",
     "iopub.status.idle": "2022-10-23T16:09:26.807164Z",
     "shell.execute_reply": "2022-10-23T16:09:26.806157Z",
     "shell.execute_reply.started": "2022-10-23T16:09:26.665003Z"
    }
   },
   "outputs": [
    {
     "data": {
      "text/plain": [
       "Text(0, 0.5, 'loss')"
      ]
     },
     "execution_count": 43,
     "metadata": {},
     "output_type": "execute_result"
    },
    {
     "data": {
      "image/png": "[encoded data removed]",
      "text/plain": [
       "<Figure size 432x288 with 1 Axes>"
      ]
     },
     "metadata": {
      "needs_background": "light"
     },
     "output_type": "display_data"
    }
   ],
   "source": [
    "plt.plot(history_gnn.history[\"loss\"])\n",
    "plt.plot(history_gnn.history[\"val_loss\"])\n",
    "plt.ylim(top  = 0.01, bottom = 0.0)\n",
    "plt.legend([\"train\", \"test\"], loc=\"upper right\")\n",
    "plt.xlabel(\"Epochs\")\n",
    "plt.ylabel(\"loss\")"
   ]
  },
  {
   "cell_type": "code",
   "execution_count": null,
   "metadata": {
    "execution": {
     "iopub.execute_input": "2022-10-23T16:16:58.604142Z",
     "iopub.status.busy": "2022-10-23T16:16:58.603713Z"
    }
   },
   "outputs": [],
   "source": [
    "#dnn_predict = dnn_predict.reshape(dnn_predict.shape[0])\n",
    "energy_cut  = 0 / (nrm_e * 1000)\n",
    "dnn_diff_pred = (dnn_predict - energy_test)/ energy_test\n",
    "diff_sum = (np.sum(layer_0_test,axis=1)/2*nrm_l0+np.sum(layer_1_test,axis=1)/2*nrm_l1+np.sum(layer_2_test,axis=1)/2*nrm_l2 - energy_test[:,0]*nrm_e*1000 + 0.0068*energy_test[:,0]*nrm_e*1000)/(energy_test[:,0]*nrm_e*1000)\n",
    "print(np.argmin(diff_sum))\n",
    "print(np.sum(diff_sum>0))\n",
    "\n",
    "print(np.std(dnn_diff_pred))\n",
    "print(np.std(diff_sum))\n",
    "print(np.mean(dnn_diff_pred))\n",
    "print(np.mean(diff_sum))"
   ]
  },
  {
   "cell_type": "code",
   "execution_count": null,
   "metadata": {},
   "outputs": [],
   "source": [
    "\n",
    "def check_predict(n):\n",
    "    print(cnn_predict[n], energy_test[n], (diff_sum[n]*energy_test[n]*nrm_e+energy_test[n]*nrm_e)/100)\n",
    "check_predict(100)"
   ]
  },
  {
   "cell_type": "code",
   "execution_count": 48,
   "metadata": {
    "execution": {
     "iopub.execute_input": "2022-10-23T16:14:41.654781Z",
     "iopub.status.busy": "2022-10-23T16:14:41.654404Z",
     "iopub.status.idle": "2022-10-23T16:14:41.660052Z",
     "shell.execute_reply": "2022-10-23T16:14:41.658855Z",
     "shell.execute_reply.started": "2022-10-23T16:14:41.654753Z"
    }
   },
   "outputs": [],
   "source": [
    "#Cnn_nparr=cnn_predict[:,0]\n",
    "gnn_nparr=gnn_predict[:,0]\n"
   ]
  },
  {
   "cell_type": "code",
   "execution_count": 52,
   "metadata": {
    "execution": {
     "iopub.execute_input": "2022-10-23T16:16:20.876371Z",
     "iopub.status.busy": "2022-10-23T16:16:20.875333Z",
     "iopub.status.idle": "2022-10-23T16:16:21.065629Z",
     "shell.execute_reply": "2022-10-23T16:16:21.064245Z",
     "shell.execute_reply.started": "2022-10-23T16:16:20.876340Z"
    }
   },
   "outputs": [
    {
     "data": {
      "text/plain": [
       "(array([ 9560., 10837., 12836., 11293., 10517., 13113.,  9693., 10512.,\n",
       "         9753.,  8705., 10502.,  9247.,  8592.,  9047.,  8523., 10779.,\n",
       "        10391., 10322., 10628.,  5150.]),\n",
       " array([0.01656103, 0.06644132, 0.11632161, 0.1662019 , 0.21608219,\n",
       "        0.26596248, 0.31584278, 0.36572307, 0.41560334, 0.46548364,\n",
       "        0.51536393, 0.5652442 , 0.6151245 , 0.6650048 , 0.7148851 ,\n",
       "        0.7647654 , 0.81464565, 0.864526  , 0.91440624, 0.96428657,\n",
       "        1.0141668 ], dtype=float32),\n",
       " <BarContainer object of 20 artists>)"
      ]
     },
     "execution_count": 52,
     "metadata": {},
     "output_type": "execute_result"
    },
    {
     "data": {
      "image/png": "[encoded data removed]",
      "text/plain": [
       "<Figure size 432x288 with 1 Axes>"
      ]
     },
     "metadata": {
      "needs_background": "light"
     },
     "output_type": "display_data"
    }
   ],
   "source": [
    "#cnn_diff_predict=(Cnn_nparr-energy_test[:,0])/energy_test[:,0]\n",
    "gnn_diff_predict=(gnn_nparr-energy_test)/energy_test\n",
    "plt.hist(gnn_predict, bins=20)"
   ]
  },
  {
   "cell_type": "code",
   "execution_count": 53,
   "metadata": {
    "execution": {
     "iopub.execute_input": "2022-10-23T16:16:24.717869Z",
     "iopub.status.busy": "2022-10-23T16:16:24.717323Z",
     "iopub.status.idle": "2022-10-23T16:16:24.852983Z",
     "shell.execute_reply": "2022-10-23T16:16:24.850728Z",
     "shell.execute_reply.started": "2022-10-23T16:16:24.717832Z"
    },
    "id": "rVUjJx44mycm"
   },
   "outputs": [
    {
     "ename": "NameError",
     "evalue": "name 'dnn_diff_pred' is not defined",
     "output_type": "error",
     "traceback": [
      "\u001b[0;31m---------------------------------------------------------------------------\u001b[0m",
      "\u001b[0;31mNameError\u001b[0m                                 Traceback (most recent call last)",
      "Input \u001b[0;32mIn [53]\u001b[0m, in \u001b[0;36m<cell line: 2>\u001b[0;34m()\u001b[0m\n\u001b[1;32m      1\u001b[0m fig, ax \u001b[38;5;241m=\u001b[39m plt\u001b[38;5;241m.\u001b[39msubplots(\u001b[38;5;241m1\u001b[39m,\u001b[38;5;241m1\u001b[39m,figsize\u001b[38;5;241m=\u001b[39m[\u001b[38;5;241m5\u001b[39m,\u001b[38;5;241m5\u001b[39m])\n\u001b[0;32m----> 2\u001b[0m ax\u001b[38;5;241m.\u001b[39mhist(\u001b[43mdnn_diff_pred\u001b[49m, bins \u001b[38;5;241m=\u001b[39m \u001b[38;5;241m100\u001b[39m, \u001b[38;5;28mrange\u001b[39m\u001b[38;5;241m=\u001b[39m[\u001b[38;5;241m-\u001b[39m\u001b[38;5;241m0.1\u001b[39m,\u001b[38;5;241m0.1\u001b[39m], label \u001b[38;5;241m=\u001b[39m \u001b[38;5;124m\"\u001b[39m\u001b[38;5;124mdnn pred\u001b[39m\u001b[38;5;124m\"\u001b[39m) \n\u001b[1;32m      3\u001b[0m \u001b[38;5;66;03m#ax.hist(diff_sum, alpha = 0.6, bins = 100, range=[-0.1,0.1], label = \"sum algo\", color=\"r\")\u001b[39;00m\n\u001b[1;32m      4\u001b[0m ax\u001b[38;5;241m.\u001b[39mhist(gnn_diff_predict,  bins \u001b[38;5;241m=\u001b[39m \u001b[38;5;241m100\u001b[39m, \u001b[38;5;28mrange\u001b[39m\u001b[38;5;241m=\u001b[39m[\u001b[38;5;241m-\u001b[39m\u001b[38;5;241m0.1\u001b[39m,\u001b[38;5;241m0.1\u001b[39m],color\u001b[38;5;241m=\u001b[39m\u001b[38;5;124m\"\u001b[39m\u001b[38;5;124mg\u001b[39m\u001b[38;5;124m\"\u001b[39m, label \u001b[38;5;241m=\u001b[39m \u001b[38;5;124m\"\u001b[39m\u001b[38;5;124mcnn pred\u001b[39m\u001b[38;5;124m\"\u001b[39m) \n",
      "\u001b[0;31mNameError\u001b[0m: name 'dnn_diff_pred' is not defined"
     ]
    },
    {
     "data": {
      "image/png": "[encoded data removed]",
      "text/plain": [
       "<Figure size 360x360 with 1 Axes>"
      ]
     },
     "metadata": {
      "needs_background": "light"
     },
     "output_type": "display_data"
    }
   ],
   "source": [
    "fig, ax = plt.subplots(1,1,figsize=[5,5])\n",
    "ax.hist(dnn_diff_pred, bins = 100, range=[-0.1,0.1], label = \"dnn pred\") \n",
    "#ax.hist(diff_sum, alpha = 0.6, bins = 100, range=[-0.1,0.1], label = \"sum algo\", color=\"r\")\n",
    "ax.hist(gnn_diff_predict,  bins = 100, range=[-0.1,0.1],color=\"g\", label = \"cnn pred\") \n",
    "ax.legend()"
   ]
  }
 ],
 "metadata": {
  "colab": {
   "collapsed_sections": [],
   "private_outputs": true,
   "provenance": []
  },
  "kernelspec": {
   "display_name": "Python 3 (ipykernel)",
   "language": "python",
   "name": "python3"
  },
  "language_info": {
   "codemirror_mode": {
    "name": "ipython",
    "version": 3
   },
   "file_extension": ".py",
   "mimetype": "text/x-python",
   "name": "python",
   "nbconvert_exporter": "python",
   "pygments_lexer": "ipython3",
   "version": "3.9.13"
  }
 },
 "nbformat": 4,
 "nbformat_minor": 4
}
