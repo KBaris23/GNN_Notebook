{
 "cells": [
  {
   "cell_type": "code",
   "execution_count": 1,
   "metadata": {
    "execution": {
     "iopub.status.idle": "2022-11-05T09:39:24.860468Z",
     "shell.execute_reply": "2022-11-05T09:39:24.859529Z",
     "shell.execute_reply.started": "2022-11-05T09:39:19.504093Z"
    },
    "id": "RIO91Fu65s6k"
   },
   "outputs": [],
   "source": [
    "import tensorflow\n",
    "import numpy as np\n",
    "import pandas as pd\n",
    "import os\n",
    "import tensorflow.keras as keras\n",
    "zip_file=keras.utils.get_file(\n",
    "    fname=\"gamma_angle_position_5deg_xy.h5\",\n",
    "    origin=\"https://zenodo.org/record/846388/files/gamma_angle_position_5deg_xy.h5?download=1\",\n",
    "    extract=True\n",
    "\n",
    ")\n",
    "dirnam=os.path.join(os.path.dirname(zip_file), \"gamma_angle_position_5deg_xy.h5\")\n",
    "import h5py\n",
    "#data imported"
   ]
  },
  {
   "cell_type": "code",
   "execution_count": 2,
   "metadata": {
    "execution": {
     "iopub.execute_input": "2022-11-05T09:39:24.862746Z",
     "iopub.status.busy": "2022-11-05T09:39:24.862261Z",
     "iopub.status.idle": "2022-11-05T09:39:25.580857Z",
     "shell.execute_reply": "2022-11-05T09:39:25.580001Z",
     "shell.execute_reply.started": "2022-11-05T09:39:24.862718Z"
    },
    "id": "ysaVq5t7xcmU"
   },
   "outputs": [],
   "source": [
    "import matplotlib.pyplot as plt\n",
    "def extract_data(n):\n",
    "  windows=np.empty((12,12,1))\n",
    "  for i in range(n):\n",
    "    window = (np.array(h5py.File(zip_file)[\"layer_1\"][i]))\n",
    "    #print(window.reshape(1,12,12).shape)\n",
    "    #window=window.reshape(1,12,12)\n",
    "    windows=np.dstack((windows, window))\n",
    "  return windows\n",
    "#data check"
   ]
  },
  {
   "cell_type": "code",
   "execution_count": 10,
   "metadata": {
    "execution": {
     "iopub.execute_input": "2022-11-05T09:39:54.431401Z",
     "iopub.status.busy": "2022-11-05T09:39:54.430571Z",
     "iopub.status.idle": "2022-11-05T09:39:54.436291Z",
     "shell.execute_reply": "2022-11-05T09:39:54.435535Z",
     "shell.execute_reply.started": "2022-11-05T09:39:54.431372Z"
    }
   },
   "outputs": [],
   "source": [
    "def max_loc(layer):\n",
    "    layer_flat_2D=layer.reshape(layer.shape[0],layer.shape[1]*layer.shape[2])\n",
    "    maxx = np.argmax(layer_flat_2D,axis=1)%layer.shape[2]\n",
    "    maxy = np.argmax(layer_flat_2D,axis=1)//layer.shape[2]\n",
    "    max = np.stack([maxx,maxy],axis=1)\n",
    "    return max\n",
    "    #maxes = Layer_1_data_preprocessed.take(max)"
   ]
  },
  {
   "cell_type": "code",
   "execution_count": 11,
   "metadata": {
    "execution": {
     "iopub.execute_input": "2022-11-05T09:39:56.799804Z",
     "iopub.status.busy": "2022-11-05T09:39:56.798917Z",
     "iopub.status.idle": "2022-11-05T09:39:56.806513Z",
     "shell.execute_reply": "2022-11-05T09:39:56.805692Z",
     "shell.execute_reply.started": "2022-11-05T09:39:56.799776Z"
    }
   },
   "outputs": [],
   "source": [
    "def extract_message(layers):\n",
    "    max_coor = max_loc(layers)\n",
    "    print(max_coor.shape)\n",
    "    e_message = np.zeros((1,3,3))\n",
    "    message = np.empty((500000,3,3))\n",
    "    print(max_coor[0,0])\n",
    "    for index in range(max_coor.shape[0]):\n",
    "        if(max_coor[index,0] > 1 and max_coor[index,1] > 1 and  max_coor[index,0] < layers.shape[2]-2 and max_coor[index,1] < layers.shape[1]-2):\n",
    "            test = np.array(layers[index,max_coor[index,1]-1:max_coor[index,1]+2,max_coor[index,0]-1:max_coor[index,0]+2])\n",
    "        else:\n",
    "            test = e_message\n",
    "        if index == 12 : \n",
    "            print(test)\n",
    "        message[index] =  test\n",
    "    return message\n",
    "#first gnn model input extraction"
   ]
  },
  {
   "cell_type": "code",
   "execution_count": 12,
   "metadata": {
    "execution": {
     "iopub.execute_input": "2022-11-05T09:39:58.801101Z",
     "iopub.status.busy": "2022-11-05T09:39:58.800479Z",
     "iopub.status.idle": "2022-11-05T09:40:02.709800Z",
     "shell.execute_reply": "2022-11-05T09:40:02.708672Z",
     "shell.execute_reply.started": "2022-11-05T09:39:58.801073Z"
    },
    "id": "cuM9humvFrbe"
   },
   "outputs": [
    {
     "name": "stdout",
     "output_type": "stream",
     "text": [
      "(500000, 3, 96)\n"
     ]
    }
   ],
   "source": [
    "\n",
    "x=h5py.File(zip_file)\n",
    "layer_0_data = (np.array(h5py.File(zip_file)[\"layer_0\"][:]))\n",
    "layer_1_data = (np.array(h5py.File(zip_file)[\"layer_1\"][:]))\n",
    "layer_2_data = (np.array(h5py.File(zip_file)[\"layer_2\"][:]))\n",
    "energy=(np.array(h5py.File(zip_file)[\"energy\"]))\n",
    "order = np.arange(0, energy.shape[0])\n",
    "np.random.shuffle(order)\n",
    "energy=energy.reshape(energy.shape[0])\n",
    "energy_s = energy[order]\n",
    "layer_0_data_s = layer_0_data[order] \n",
    "layer_1_data_s = layer_1_data[order] \n",
    "layer_2_data_s = layer_2_data[order] \n",
    "\n",
    "\n",
    "nottobe_merged = max_loc(layer_1_data_s) == max_loc(layer_1_data)\n",
    "\n",
    "print(layer_0_data.shape)\n",
    "\n",
    "nrm_e=np.max(energy)\n",
    "\n",
    "\n",
    "#data classes imported"
   ]
  },
  {
   "cell_type": "code",
   "execution_count": 89,
   "metadata": {
    "execution": {
     "iopub.execute_input": "2022-11-05T10:14:04.725762Z",
     "iopub.status.busy": "2022-11-05T10:14:04.725142Z",
     "iopub.status.idle": "2022-11-05T10:14:05.424075Z",
     "shell.execute_reply": "2022-11-05T10:14:05.423174Z",
     "shell.execute_reply.started": "2022-11-05T10:14:04.725734Z"
    }
   },
   "outputs": [
    {
     "name": "stdout",
     "output_type": "stream",
     "text": [
      "398.881411887989 1538.3306960821026\n"
     ]
    },
    {
     "data": {
      "text/plain": [
       "<matplotlib.image.AxesImage at 0x7f0964cf8fa0>"
      ]
     },
     "execution_count": 89,
     "metadata": {},
     "output_type": "execute_result"
    },
    {
     "data": {
      "image/png": "[encoded data removed]",
      "text/plain": [
       "<Figure size 432x288 with 5 Axes>"
      ]
     },
     "metadata": {
      "needs_background": "light"
     },
     "output_type": "display_data"
    }
   ],
   "source": [
    "fig, ax=plt.subplots(1,5)\n",
    "from matplotlib.colors import LogNorm\n",
    "n=123016\n",
    "test_l2=np.array(h5py.File(zip_file)[\"layer_2\"])\n",
    "print(np.max(noise_l2[n]), np.max(test_l2[n]))\n",
    "ax[0].imshow(test_l2[n])\n",
    "ax[2].imshow(layer_2_data_st[n])\n",
    "ax[1].imshow(noise_l2[n])\n",
    "ax[3].imshow(layer_clone_2_1[n])\n",
    "ax[4].imshow(particle2_2[n])\n",
    "\n",
    "#layer, noise, noise added layer"
   ]
  },
  {
   "cell_type": "code",
   "execution_count": 13,
   "metadata": {
    "execution": {
     "iopub.execute_input": "2022-11-05T09:40:04.031417Z",
     "iopub.status.busy": "2022-11-05T09:40:04.030495Z",
     "iopub.status.idle": "2022-11-05T09:40:04.048124Z",
     "shell.execute_reply": "2022-11-05T09:40:04.047211Z",
     "shell.execute_reply.started": "2022-11-05T09:40:04.031389Z"
    }
   },
   "outputs": [
    {
     "name": "stdout",
     "output_type": "stream",
     "text": [
      "55888\n"
     ]
    }
   ],
   "source": [
    "nottobe_merged = np.logical_and.reduce(nottobe_merged, axis = 1)\n",
    "print(np.sum(nottobe_merged))\n",
    "\n",
    "#tobe_merged = np.logical_not( tobe_merged)"
   ]
  },
  {
   "cell_type": "markdown",
   "metadata": {},
   "source": [
    "\n",
    "layer1_flat_2D=np.reshape(Layer_1_data_preprocessed,[500000,144])\n",
    "maxx = np.argmax(layer1_flat_2D,axis=1)//12\n",
    "maxy = np.argmax(layer1_flat_2D,axis=1)%12\n",
    "max = np.stack([maxy,maxx],axis=1)\n",
    "maxes = Layer_1_data_preprocessed.take(max)"
   ]
  },
  {
   "cell_type": "code",
   "execution_count": 14,
   "metadata": {
    "execution": {
     "iopub.execute_input": "2022-11-05T09:40:06.049810Z",
     "iopub.status.busy": "2022-11-05T09:40:06.049035Z",
     "iopub.status.idle": "2022-11-05T09:40:15.020609Z",
     "shell.execute_reply": "2022-11-05T09:40:15.019779Z",
     "shell.execute_reply.started": "2022-11-05T09:40:06.049782Z"
    }
   },
   "outputs": [],
   "source": [
    "rng = np.random.default_rng()\n",
    "noise_l0 = rng.normal(0,167,layer_0_data.shape[0]*layer_0_data.shape[1]*layer_0_data.shape[2])\n",
    "noise_l0 = noise_l0.reshape(layer_0_data.shape[0],layer_0_data.shape[1],layer_0_data.shape[2])\n",
    "mask = np.zeros([layer_0_data.shape[1],layer_0_data.shape[2]])\n",
    "layer_0_data_s[nottobe_merged] = mask\n",
    "layer_0_data = layer_0_data + noise_l0\n",
    "nrm_l0=np.max(layer_0_data)\n",
    "layer_0_data[layer_0_data<0] = 0\n",
    "\n",
    "\n",
    "\n",
    "noise_l1 = rng.normal(0,167,layer_1_data.shape[0]*layer_1_data.shape[1]*layer_1_data.shape[2])\n",
    "noise_l1 = noise_l1.reshape(layer_1_data.shape[0],layer_1_data.shape[1],layer_1_data.shape[2])\n",
    "mask = np.zeros([layer_1_data.shape[1],layer_1_data.shape[2]])\n",
    "layer_1_data_s[nottobe_merged] = mask\n",
    "layer_1_data = layer_1_data + noise_l1\n",
    "nrm_l1=np.max(layer_1_data)\n",
    "layer_1_data[layer_1_data<0] = 0\n",
    "\n",
    "noise_l2 = rng.normal(0,167,layer_2_data.shape[0]*layer_2_data.shape[1]*layer_2_data.shape[2])\n",
    "noise_l2 = noise_l2.reshape(layer_2_data.shape[0],layer_2_data.shape[1],layer_2_data.shape[2])\n",
    "mask = np.zeros([layer_2_data.shape[1],layer_2_data.shape[2]])\n",
    "layer_2_data_s[nottobe_merged] = mask\n",
    "layer_2_data = layer_2_data + noise_l2\n",
    "nrm_l2=np.max(layer_2_data)\n",
    "layer_2_data[layer_2_data<0] = 0\n",
    "\n",
    "#energy = np.stack((energy, energy_s*nottobe_merged),axis=1)\n",
    "\n",
    "\n",
    "Layer_0_data_preprocessed=layer_0_data/nrm_l0\n",
    "Layer_1_data_preprocessed=layer_1_data/nrm_l1\n",
    "Layer_2_data_preprocessed=layer_2_data/nrm_l2\n",
    "energy = energy / nrm_e\n",
    "#data, noise and preprocessing "
   ]
  },
  {
   "cell_type": "code",
   "execution_count": 15,
   "metadata": {
    "execution": {
     "iopub.execute_input": "2022-11-05T09:40:15.022741Z",
     "iopub.status.busy": "2022-11-05T09:40:15.021958Z",
     "iopub.status.idle": "2022-11-05T09:40:18.628885Z",
     "shell.execute_reply": "2022-11-05T09:40:18.627923Z",
     "shell.execute_reply.started": "2022-11-05T09:40:15.022715Z"
    }
   },
   "outputs": [
    {
     "name": "stdout",
     "output_type": "stream",
     "text": [
      "(500000, 2)\n",
      "6\n",
      "[[0.00965776 0.02252635 0.01333419]\n",
      " [0.01987662 0.77345264 0.07441439]\n",
      " [0.0095454  0.06544999 0.02793284]]\n",
      "(500000, 2)\n",
      "5\n",
      "[[[0. 0. 0.]\n",
      "  [0. 0. 0.]\n",
      "  [0. 0. 0.]]]\n",
      "(500000, 3, 3)\n",
      "(500000, 2)\n",
      "53\n",
      "[[[0. 0. 0.]\n",
      "  [0. 0. 0.]\n",
      "  [0. 0. 0.]]]\n"
     ]
    }
   ],
   "source": [
    "messages_l1_gnn = extract_message(Layer_1_data_preprocessed)\n",
    "messages_l2_gnn = extract_message(Layer_2_data_preprocessed)\n",
    "print(messages_l2_gnn.shape)\n",
    "messages_l0_gnn = extract_message(Layer_0_data_preprocessed)\n",
    "#first gnn inputs"
   ]
  },
  {
   "cell_type": "code",
   "execution_count": 16,
   "metadata": {
    "execution": {
     "iopub.execute_input": "2022-11-05T09:40:18.630267Z",
     "iopub.status.busy": "2022-11-05T09:40:18.630024Z",
     "iopub.status.idle": "2022-11-05T09:40:20.205500Z",
     "shell.execute_reply": "2022-11-05T09:40:20.204540Z",
     "shell.execute_reply.started": "2022-11-05T09:40:18.630243Z"
    }
   },
   "outputs": [],
   "source": [
    "layer_0_data_st = layer_0_data + layer_0_data_s \n",
    "layer_1_data_st = layer_1_data + layer_1_data_s \n",
    "layer_2_data_st = layer_2_data + layer_2_data_s \n",
    "mask = np.zeros([layer_0_data.shape[1],layer_0_data.shape[2]])\n",
    "layer_0_data_st[nottobe_merged]=mask\n",
    "mask = np.zeros([layer_1_data.shape[1],layer_1_data.shape[2]])\n",
    "layer_1_data_st[nottobe_merged]=mask\n",
    "mask = np.zeros([layer_2_data.shape[1],layer_2_data.shape[2]])\n",
    "layer_2_data_st[nottobe_merged]=mask\n",
    "layer_0_data_st[layer_0_data_st<0]=0\n",
    "layer_1_data_st[layer_1_data_st<0]=0\n",
    "layer_2_data_st[layer_2_data_st<0]=0\n",
    "\n",
    "\n",
    "energy_st = energy+energy_s\n",
    "mask= np.zeros(1)\n",
    "energy_st[nottobe_merged]=mask\n",
    "#layers with 2 particles arranged"
   ]
  },
  {
   "cell_type": "code",
   "execution_count": 67,
   "metadata": {
    "execution": {
     "iopub.execute_input": "2022-11-05T10:08:11.543792Z",
     "iopub.status.busy": "2022-11-05T10:08:11.543415Z",
     "iopub.status.idle": "2022-11-05T10:08:11.553414Z",
     "shell.execute_reply": "2022-11-05T10:08:11.552562Z",
     "shell.execute_reply.started": "2022-11-05T10:08:11.543765Z"
    }
   },
   "outputs": [],
   "source": [
    "stacked_values=np.where(nottobe_merged==True)\n",
    "stacked_values=np.array(stacked_values)\n",
    "\n",
    "\n",
    "def extract_particles(layers):\n",
    "    max_coor = max_loc(layers)\n",
    "    e_message = np.zeros((1,3,3))\n",
    "    message = np.empty((500000,3,3))\n",
    "    layers_clone = np.copy(layers)\n",
    "    for index in range(max_coor.shape[0]):\n",
    "        if((index in stacked_values)== False  and  (layers.shape[1]-2)>=max_coor[index,1]>0 and (layers.shape[2]-2)>=max_coor[index,0]>0 ):#for layer 1 and 2  \n",
    "            test = np.array(layers_clone[index,max_coor[index,1]-1:max_coor[index,1]+2,max_coor[index,0]-1:max_coor[index,0]+2])\n",
    "            layers_clone[index,max_coor[index,1], max_coor[index,0]]=0\n",
    "        else:\n",
    "            test = e_message\n",
    "        message[index] =  test\n",
    "    return message, layers_clone\n",
    "#extracting multiple particles"
   ]
  },
  {
   "cell_type": "code",
   "execution_count": 68,
   "metadata": {
    "execution": {
     "iopub.execute_input": "2022-11-05T10:08:13.783165Z",
     "iopub.status.busy": "2022-11-05T10:08:13.782157Z",
     "iopub.status.idle": "2022-11-05T10:08:54.897032Z",
     "shell.execute_reply": "2022-11-05T10:08:54.896093Z",
     "shell.execute_reply.started": "2022-11-05T10:08:13.783135Z"
    }
   },
   "outputs": [],
   "source": [
    "particle0_1, layer_clone_0_1= extract_particles(layer_0_data_st)\n",
    "particle0_2,_=extract_particles(layer_clone_0_1)"
   ]
  },
  {
   "cell_type": "code",
   "execution_count": 69,
   "metadata": {
    "execution": {
     "iopub.execute_input": "2022-11-05T10:08:54.899906Z",
     "iopub.status.busy": "2022-11-05T10:08:54.899652Z",
     "iopub.status.idle": "2022-11-05T10:09:34.195369Z",
     "shell.execute_reply": "2022-11-05T10:09:34.193704Z",
     "shell.execute_reply.started": "2022-11-05T10:08:54.899882Z"
    }
   },
   "outputs": [],
   "source": [
    "particle1_1, layer_clone_1_1=extract_particles(layer_1_data_st)\n",
    "particle1_2, _= extract_particles(layer_clone_1_1)"
   ]
  },
  {
   "cell_type": "code",
   "execution_count": 70,
   "metadata": {
    "execution": {
     "iopub.execute_input": "2022-11-05T10:09:34.196929Z",
     "iopub.status.busy": "2022-11-05T10:09:34.196657Z",
     "iopub.status.idle": "2022-11-05T10:10:10.822771Z",
     "shell.execute_reply": "2022-11-05T10:10:10.821739Z",
     "shell.execute_reply.started": "2022-11-05T10:09:34.196893Z"
    }
   },
   "outputs": [],
   "source": [
    "particle2_1, layer_clone_2_1= extract_particles(layer_2_data_st)\n",
    "particle2_2,_=extract_particles(layer_clone_2_1)"
   ]
  },
  {
   "cell_type": "code",
   "execution_count": 71,
   "metadata": {
    "execution": {
     "iopub.execute_input": "2022-11-05T10:10:10.825273Z",
     "iopub.status.busy": "2022-11-05T10:10:10.824992Z",
     "iopub.status.idle": "2022-11-05T10:10:11.951714Z",
     "shell.execute_reply": "2022-11-05T10:10:11.950908Z",
     "shell.execute_reply.started": "2022-11-05T10:10:10.825248Z"
    }
   },
   "outputs": [],
   "source": [
    "par01_pos=max_loc(layer_0_data_st)\n",
    "par02_pos=max_loc(layer_clone_0_1)\n",
    "par11_pos=max_loc(layer_1_data_st)\n",
    "par12_pos=max_loc(layer_clone_1_1)\n",
    "par21_pos=max_loc(layer_2_data_st)\n",
    "par22_pos=max_loc(layer_clone_2_1)\n",
    "#baseline model with preferred energies having weight 1 and unpreferred having weight 0\n",
    "#comparative models with with weights proportional to 1/R\n",
    "#other elements like electromagnetic effects, mass-momentum of the particle, energy-path deviation relation\n",
    "#other particles like muon and pion \n",
    "#particle physics phenomenon"
   ]
  },
  {
   "cell_type": "code",
   "execution_count": 72,
   "metadata": {
    "execution": {
     "iopub.execute_input": "2022-11-05T10:10:11.953395Z",
     "iopub.status.busy": "2022-11-05T10:10:11.953142Z",
     "iopub.status.idle": "2022-11-05T10:10:11.994303Z",
     "shell.execute_reply": "2022-11-05T10:10:11.993473Z",
     "shell.execute_reply.started": "2022-11-05T10:10:11.953371Z"
    }
   },
   "outputs": [],
   "source": [
    "layer_0_loc=np.stack((par01_pos, par02_pos), axis=1)\n",
    "layer_1_loc=np.stack((par11_pos, par12_pos), axis=1)\n",
    "layer_2_loc=np.stack((par21_pos, par22_pos), axis=1)"
   ]
  },
  {
   "cell_type": "code",
   "execution_count": 73,
   "metadata": {
    "execution": {
     "iopub.execute_input": "2022-11-05T10:10:11.999244Z",
     "iopub.status.busy": "2022-11-05T10:10:11.995480Z",
     "iopub.status.idle": "2022-11-05T10:10:12.006715Z",
     "shell.execute_reply": "2022-11-05T10:10:12.005341Z",
     "shell.execute_reply.started": "2022-11-05T10:10:11.999172Z"
    }
   },
   "outputs": [],
   "source": [
    "def empty(par):\n",
    "    empty1=par==np.zeros((3,3))\n",
    "    empty1=np.logical_and.reduce(empty1, axis = 2)\n",
    "    empty1=np.array(np.where(empty1==True))\n",
    "    empty1=empty1[0]\n",
    "    empty1=set(empty1)\n",
    "    return empty1\n",
    "def intersect(layer1,layer2, layer3):\n",
    "    intersect=layer1.union(layer2.union(layer3))\n",
    "    return intersect\n",
    "#intersection of empty data is found"
   ]
  },
  {
   "cell_type": "code",
   "execution_count": 74,
   "metadata": {
    "execution": {
     "iopub.execute_input": "2022-11-05T10:10:12.008601Z",
     "iopub.status.busy": "2022-11-05T10:10:12.008212Z",
     "iopub.status.idle": "2022-11-05T10:10:12.395561Z",
     "shell.execute_reply": "2022-11-05T10:10:12.394443Z",
     "shell.execute_reply.started": "2022-11-05T10:10:12.008567Z"
    }
   },
   "outputs": [],
   "source": [
    "layer_0_emp=empty(particle0_2)\n",
    "layer_1_emp=empty( particle1_2)\n",
    "layer_2_emp=empty(particle2_2)\n",
    "excluded_data=intersect(layer_0_emp, layer_1_emp, layer_2_emp)\n",
    "#excluded data"
   ]
  },
  {
   "cell_type": "code",
   "execution_count": 92,
   "metadata": {
    "execution": {
     "iopub.execute_input": "2022-11-05T10:15:49.096792Z",
     "iopub.status.busy": "2022-11-05T10:15:49.095514Z",
     "iopub.status.idle": "2022-11-05T10:17:11.349258Z",
     "shell.execute_reply": "2022-11-05T10:17:11.348292Z",
     "shell.execute_reply.started": "2022-11-05T10:15:49.096748Z"
    }
   },
   "outputs": [],
   "source": [
    "excluded_data=np.array([list(excluded_data)])\n",
    "excluded_data.shape\n",
    "included_data=[]\n",
    "for index in range(particle0_1.shape[0]):\n",
    "    if ((index in excluded_data)==False):\n",
    "        included_data.append(index)\n",
    "#included data\n",
    "layer0_particles=np.stack((particle0_1,particle0_2), axis=1)\n",
    "layer1_particles=np.stack((particle1_1,particle1_2), axis=1)\n",
    "layer2_particles=np.stack((particle2_1,particle2_2), axis=1)\n",
    "included_data=np.array([included_data])"
   ]
  },
  {
   "cell_type": "code",
   "execution_count": 93,
   "metadata": {
    "execution": {
     "iopub.execute_input": "2022-11-05T10:17:11.351005Z",
     "iopub.status.busy": "2022-11-05T10:17:11.350748Z",
     "iopub.status.idle": "2022-11-05T10:17:11.387866Z",
     "shell.execute_reply": "2022-11-05T10:17:11.387058Z",
     "shell.execute_reply.started": "2022-11-05T10:17:11.350981Z"
    }
   },
   "outputs": [],
   "source": [
    "layer0_particles=layer0_particles[included_data]\n",
    "layer1_particles=layer1_particles[included_data]\n",
    "layer2_particles=layer2_particles[included_data]\n",
    "#included data where for every layer, there exist 2 particles"
   ]
  },
  {
   "cell_type": "code",
   "execution_count": 94,
   "metadata": {
    "execution": {
     "iopub.execute_input": "2022-11-05T10:17:11.389526Z",
     "iopub.status.busy": "2022-11-05T10:17:11.389286Z",
     "iopub.status.idle": "2022-11-05T10:17:11.404478Z",
     "shell.execute_reply": "2022-11-05T10:17:11.403453Z",
     "shell.execute_reply.started": "2022-11-05T10:17:11.389501Z"
    }
   },
   "outputs": [],
   "source": [
    "layer_0_loc=layer_0_loc[included_data]\n",
    "layer_1_loc=layer_1_loc[included_data]\n",
    "layer_2_loc=layer_2_loc[included_data]"
   ]
  },
  {
   "cell_type": "code",
   "execution_count": 95,
   "metadata": {
    "execution": {
     "iopub.execute_input": "2022-11-05T10:17:11.406674Z",
     "iopub.status.busy": "2022-11-05T10:17:11.406427Z",
     "iopub.status.idle": "2022-11-05T10:17:11.411373Z",
     "shell.execute_reply": "2022-11-05T10:17:11.410618Z",
     "shell.execute_reply.started": "2022-11-05T10:17:11.406650Z"
    }
   },
   "outputs": [
    {
     "name": "stdout",
     "output_type": "stream",
     "text": [
      "(1, 124593, 2, 2)\n",
      "(1, 124593, 2, 3, 3)\n"
     ]
    }
   ],
   "source": [
    "print(layer_0_loc.shape)\n",
    "print(layer0_particles.shape)\n",
    "energy_st=energy_st[included_data]"
   ]
  },
  {
   "cell_type": "code",
   "execution_count": 96,
   "metadata": {
    "execution": {
     "iopub.execute_input": "2022-11-05T10:17:11.412712Z",
     "iopub.status.busy": "2022-11-05T10:17:11.412411Z",
     "iopub.status.idle": "2022-11-05T10:17:11.418022Z",
     "shell.execute_reply": "2022-11-05T10:17:11.417284Z",
     "shell.execute_reply.started": "2022-11-05T10:17:11.412688Z"
    }
   },
   "outputs": [],
   "source": [
    "layer0_particles_pr=layer0_particles.reshape(layer0_particles.shape[1],layer0_particles.shape[2],layer0_particles.shape[3],layer0_particles.shape[4])\n",
    "layer1_particles_pr=layer1_particles.reshape(layer0_particles.shape[1],layer0_particles.shape[2],layer0_particles.shape[3],layer0_particles.shape[4])\n",
    "layer2_particles_pr=layer2_particles.reshape(layer0_particles.shape[1],layer0_particles.shape[2],layer0_particles.shape[3],layer0_particles.shape[4])"
   ]
  },
  {
   "cell_type": "code",
   "execution_count": 97,
   "metadata": {
    "execution": {
     "iopub.execute_input": "2022-11-05T10:17:11.419356Z",
     "iopub.status.busy": "2022-11-05T10:17:11.419119Z",
     "iopub.status.idle": "2022-11-05T10:17:11.428845Z",
     "shell.execute_reply": "2022-11-05T10:17:11.428058Z",
     "shell.execute_reply.started": "2022-11-05T10:17:11.419334Z"
    }
   },
   "outputs": [
    {
     "name": "stdout",
     "output_type": "stream",
     "text": [
      "[41  1]\n",
      "[[   0.            9.84896569    0.        ]\n",
      " [1690.42263473 1921.07238002  757.42704783]\n",
      " [  68.65818276  238.69026913  141.42142584]]\n",
      "[6 6]\n"
     ]
    }
   ],
   "source": [
    "print(layer_0_loc[0][0][0])\n",
    "print(layer0_particles[0][0][0])\n",
    "print(layer_1_loc[0][1][1])\n",
    "l0_nr=np.copy(layer_0_loc)\n",
    "l1_nr=np.copy(layer_1_loc)\n",
    "l2_nr=np.copy(layer_2_loc)"
   ]
  },
  {
   "cell_type": "code",
   "execution_count": 98,
   "metadata": {
    "execution": {
     "iopub.execute_input": "2022-11-05T10:17:11.430169Z",
     "iopub.status.busy": "2022-11-05T10:17:11.429934Z",
     "iopub.status.idle": "2022-11-05T10:17:11.443149Z",
     "shell.execute_reply": "2022-11-05T10:17:11.442246Z",
     "shell.execute_reply.started": "2022-11-05T10:17:11.430145Z"
    }
   },
   "outputs": [],
   "source": [
    "loc0_nrm=np.stack((l0_nr[0].T[0]/96,l0_nr[0].T[1]/3), axis=0).T\n",
    "loc1_nrm=np.stack((l1_nr[0].T[0]/12,l1_nr[0].T[1]/12), axis=0).T\n",
    "loc2_nrm=np.stack((l2_nr[0].T[0]/6,l2_nr[0].T[1]/12), axis=0).T"
   ]
  },
  {
   "cell_type": "code",
   "execution_count": 99,
   "metadata": {
    "execution": {
     "iopub.execute_input": "2022-11-05T10:17:11.444600Z",
     "iopub.status.busy": "2022-11-05T10:17:11.444343Z",
     "iopub.status.idle": "2022-11-05T10:17:11.449335Z",
     "shell.execute_reply": "2022-11-05T10:17:11.448463Z",
     "shell.execute_reply.started": "2022-11-05T10:17:11.444575Z"
    }
   },
   "outputs": [],
   "source": [
    "def layer_check(n):\n",
    "    fig, ax=plt.subplots(1,3)\n",
    "    ax[0].imshow(particle0_2[n])\n",
    "    ax[1].imshow(particle1_2[n])\n",
    "    ax[2].imshow(particle2_2[n])"
   ]
  },
  {
   "cell_type": "code",
   "execution_count": 100,
   "metadata": {
    "execution": {
     "iopub.execute_input": "2022-11-05T10:17:11.450459Z",
     "iopub.status.busy": "2022-11-05T10:17:11.450229Z",
     "iopub.status.idle": "2022-11-05T10:17:11.459322Z",
     "shell.execute_reply": "2022-11-05T10:17:11.458428Z",
     "shell.execute_reply.started": "2022-11-05T10:17:11.450437Z"
    }
   },
   "outputs": [],
   "source": [
    "def check_layer_0(ind):\n",
    "    fig, ax=plt.subplots(1,3)\n",
    "    ax[0].imshow(layer_0_data_st[ind], aspect=\"auto\")\n",
    "    ax[1].imshow(particle0_1[ind])\n",
    "    print(max_loc(layer_0_data_st)[ind,1])\n",
    "    ax[2].imshow(particle0_2[ind])\n",
    "    print(particle0_1[ind], particle0_2[ind])\n",
    "    print(max_loc(layer_0_data_st)[ind])\n",
    "    print(max_loc(layer_clone_0_1)[ind])\n",
    "def check_layer_2(ind):\n",
    "    fig, ax=plt.subplots(1,3)\n",
    "    ax[0].imshow(layer_2_data_st[ind], aspect=\"auto\")\n",
    "    ax[1].imshow(particle2_1[ind])\n",
    "    print(max_loc(layer_2_data_st)[ind,1])\n",
    "    ax[2].imshow(particle2_2[ind])\n",
    "    print(particle2_1[ind], particle2_2[ind])\n",
    "    print(max_loc(layer_2_data_st)[ind])\n",
    "    print(max_loc(layer_clone_2_1)[ind])\n",
    "def check_layer_1(int):\n",
    "    fig, ax=plt.subplots(1,4)\n",
    "    ax[0].imshow(particle1_1[int])\n",
    "    ax[1].imshow(layer_1_data_st[int])\n",
    "    ax[2].imshow(particle1_2[int])\n",
    "    ax[3].imshow(layer_clone_1_1[int])\n",
    "    print(max_loc(layer_1_data_st)[int])\n",
    "    print(max_loc(layer_clone_1_1)[int])\n",
    "    print(particle1_1[int])\n",
    "    print(particle1_2[int])"
   ]
  },
  {
   "cell_type": "code",
   "execution_count": 101,
   "metadata": {
    "execution": {
     "iopub.execute_input": "2022-11-05T10:17:11.462268Z",
     "iopub.status.busy": "2022-11-05T10:17:11.461958Z",
     "iopub.status.idle": "2022-11-05T10:17:11.472520Z",
     "shell.execute_reply": "2022-11-05T10:17:11.471510Z",
     "shell.execute_reply.started": "2022-11-05T10:17:11.462230Z"
    }
   },
   "outputs": [],
   "source": [
    "import math\n",
    "def distance_formula(layer0,layer1,layer2):\n",
    "    par_graph=[]\n",
    "    for n in range(len(layer0)):\n",
    "        parx_00=layer0[n][0][0]-layer1[n][0][0]\n",
    "        pary_00=layer0[n][0][1]-layer1[n][0][1]\n",
    "        parx_01=layer0[n][1][0]-layer1[n][1][0]\n",
    "        pary_01=layer0[n][1][1]-layer1[n][1][1]\n",
    "        distance1_0=math.sqrt(parx_00**2+pary_00**2)\n",
    "        distance2_0=math.sqrt(parx_01**2+pary_01**2)\n",
    "        parx_10=layer1[n][0][0]-layer2[n][0][0]\n",
    "        pary_10=layer1[n][0][1]-layer2[n][0][1]\n",
    "        parx_11=layer1[n][1][0]-layer2[n][1][0]\n",
    "        pary_11=layer1[n][1][1]-layer2[n][1][1]\n",
    "        distance1_1=math.sqrt(parx_10**2+pary_10**2)\n",
    "        distance2_1=math.sqrt(parx_11**2+pary_11**2)\n",
    "        if distance1_0<distance2_0:\n",
    "            par_graph.append([[0,0],[1,1]])\n",
    "        else:\n",
    "            par_graph.append([[0,1],[1,0]])\n",
    "        if distance1_1<distance2_1:\n",
    "            if par_graph[n][0][1]==0:\n",
    "                par_graph[n][0].append(0)\n",
    "                par_graph[n][1].append(1)\n",
    "                \n",
    "            else:\n",
    "                par_graph[n][0].append(1)\n",
    "                par_graph[n][1].append(0)\n",
    "        else:\n",
    "            if par_graph[n][0][1]==0:\n",
    "                par_graph[n][0].append(1)\n",
    "                par_graph[n][1].append(0)\n",
    "                \n",
    "            else:\n",
    "                par_graph[n][0].append(0)\n",
    "                par_graph[n][1].append(1) \n",
    "    return np.array(par_graph)\n",
    "#distance function R=(x^2+y^2)^(1/2) preference function"
   ]
  },
  {
   "cell_type": "code",
   "execution_count": 102,
   "metadata": {
    "execution": {
     "iopub.execute_input": "2022-11-05T10:17:11.473991Z",
     "iopub.status.busy": "2022-11-05T10:17:11.473684Z",
     "iopub.status.idle": "2022-11-05T10:17:13.810742Z",
     "shell.execute_reply": "2022-11-05T10:17:13.809836Z",
     "shell.execute_reply.started": "2022-11-05T10:17:11.473965Z"
    }
   },
   "outputs": [],
   "source": [
    "particle_match=distance_formula(loc0_nrm,loc1_nrm, loc2_nrm)\n",
    "#matched particles indices\n",
    "#I matched the particle with highest energy, in each layer, to nearest particle in the following layer"
   ]
  },
  {
   "cell_type": "code",
   "execution_count": 103,
   "metadata": {
    "execution": {
     "iopub.execute_input": "2022-11-05T10:17:13.812577Z",
     "iopub.status.busy": "2022-11-05T10:17:13.811910Z",
     "iopub.status.idle": "2022-11-05T10:17:15.031898Z",
     "shell.execute_reply": "2022-11-05T10:17:15.030903Z",
     "shell.execute_reply.started": "2022-11-05T10:17:13.812551Z"
    }
   },
   "outputs": [],
   "source": [
    "#burada parçacıkları match ettiğim sırayla düzenleyip input oluşturuyorum\n",
    "particle1_input=[]\n",
    "particle2_input=[]\n",
    "for n in range(len(particle_match)):\n",
    "    particle1=layer0_particles_pr[n][particle_match[n][0][0]], layer1_particles_pr[n][particle_match[n][0][1]], layer2_particles_pr[n][particle_match[n][0][2]]\n",
    "    particle2=layer0_particles_pr[n][particle_match[n][1][0]], layer1_particles_pr[n][particle_match[n][1][1]], layer2_particles_pr[n][particle_match[n][1][2]]\n",
    "    particle1_input.append(particle1)\n",
    "    particle2_input.append(particle2)\n",
    "particle1_input=np.array(particle1_input)\n",
    "particle2_input=np.array(particle2_input)"
   ]
  },
  {
   "cell_type": "code",
   "execution_count": 106,
   "metadata": {
    "execution": {
     "iopub.execute_input": "2022-11-05T10:19:32.262861Z",
     "iopub.status.busy": "2022-11-05T10:19:32.262111Z",
     "iopub.status.idle": "2022-11-05T10:19:32.273729Z",
     "shell.execute_reply": "2022-11-05T10:19:32.273010Z",
     "shell.execute_reply.started": "2022-11-05T10:19:32.262832Z"
    }
   },
   "outputs": [
    {
     "data": {
      "text/plain": [
       "(124593, 3, 3, 3)"
      ]
     },
     "execution_count": 106,
     "metadata": {},
     "output_type": "execute_result"
    }
   ],
   "source": [
    "particle1_input.shape"
   ]
  },
  {
   "cell_type": "code",
   "execution_count": 244,
   "metadata": {
    "execution": {
     "iopub.execute_input": "2022-10-29T19:02:22.372454Z",
     "iopub.status.busy": "2022-10-29T19:02:22.372216Z",
     "iopub.status.idle": "2022-10-29T19:02:22.554278Z",
     "shell.execute_reply": "2022-10-29T19:02:22.553329Z",
     "shell.execute_reply.started": "2022-10-29T19:02:22.372430Z"
    },
    "scrolled": true,
    "tags": []
   },
   "outputs": [
    {
     "name": "stdout",
     "output_type": "stream",
     "text": [
      "5\n",
      "6\n",
      "0.7210057179529423\n",
      "(500000, 2)\n",
      "[0.         0.00139134]\n"
     ]
    }
   ],
   "source": [
    "layer1_flat_2D=np.reshape(Layer_1_data_preprocessed,[500000,144])\n",
    "maxx = np.argmax(layer1_flat_2D,axis=1)//12\n",
    "maxy = np.argmax(layer1_flat_2D,axis=1)%12\n",
    "max = np.stack([maxy,maxx],axis=1)\n",
    "maxes = Layer_1_data_preprocessed.take(max)\n",
    "print(maxx[0])\n",
    "print(maxy[0])\n",
    "print(Layer_1_data_preprocessed[0][5][6])\n",
    "print(maxes.shape)\n",
    "print(maxes[0])"
   ]
  },
  {
   "cell_type": "code",
   "execution_count": 245,
   "metadata": {
    "execution": {
     "iopub.execute_input": "2022-10-29T19:02:22.555884Z",
     "iopub.status.busy": "2022-10-29T19:02:22.555884Z",
     "iopub.status.idle": "2022-10-29T19:02:22.579460Z",
     "shell.execute_reply": "2022-10-29T19:02:22.578302Z",
     "shell.execute_reply.started": "2022-10-29T19:02:22.555884Z"
    },
    "id": "I7a-mPR6O9qa"
   },
   "outputs": [],
   "source": [
    "flatten_layer_0=Layer_0_data_preprocessed.reshape(500000,3*96)\n",
    "flatten_layer_1=Layer_1_data_preprocessed.reshape(500000,12*12)\n",
    "flatten_layer_2=Layer_2_data_preprocessed.reshape(500000,6*12)\n",
    "#from random import randint"
   ]
  },
  {
   "cell_type": "markdown",
   "metadata": {
    "id": "lCi6c27iruzL"
   },
   "source": [
    "for i in range(int(0.6*len(flatten_layer_0))):\n",
    "  n=randint(0,499999)\n",
    "  random.append(n)\n",
    "  train_labels.append(energy[n])\n",
    "  train_layer_0.append(flatten_layer_0[n])\n",
    "  train_layer_1.append(flatten_layer_1[n])\n",
    "  train_layer_2.append(flatten_layer_2[n])"
   ]
  },
  {
   "cell_type": "code",
   "execution_count": 246,
   "metadata": {
    "execution": {
     "iopub.execute_input": "2022-10-29T19:02:22.581018Z",
     "iopub.status.busy": "2022-10-29T19:02:22.580497Z",
     "iopub.status.idle": "2022-10-29T19:02:26.282136Z",
     "shell.execute_reply": "2022-10-29T19:02:26.280263Z",
     "shell.execute_reply.started": "2022-10-29T19:02:22.580617Z"
    },
    "id": "Qpn56IptgnKn"
   },
   "outputs": [
    {
     "ename": "KeyboardInterrupt",
     "evalue": "",
     "output_type": "error",
     "traceback": [
      "\u001b[0;31m---------------------------------------------------------------------------\u001b[0m",
      "\u001b[0;31mKeyboardInterrupt\u001b[0m                         Traceback (most recent call last)",
      "Input \u001b[0;32mIn [246]\u001b[0m, in \u001b[0;36m<cell line: 2>\u001b[0;34m()\u001b[0m\n\u001b[1;32m      1\u001b[0m \u001b[38;5;28;01mfrom\u001b[39;00m \u001b[38;5;21;01msklearn\u001b[39;00m\u001b[38;5;21;01m.\u001b[39;00m\u001b[38;5;21;01mmodel_selection\u001b[39;00m \u001b[38;5;28;01mimport\u001b[39;00m train_test_split\n\u001b[0;32m----> 2\u001b[0m layer_0_train, layer_0_test, energy_train, energy_test,  layer_1_train,layer_1_test, layer_2_train, layer_2_test,\u001b[38;5;241m=\u001b[39m \u001b[43mtrain_test_split\u001b[49m\u001b[43m(\u001b[49m\u001b[43mflatten_layer_0\u001b[49m\u001b[43m,\u001b[49m\u001b[43m  \u001b[49m\u001b[43menergy\u001b[49m\u001b[43m,\u001b[49m\u001b[43m \u001b[49m\u001b[43mflatten_layer_1\u001b[49m\u001b[43m,\u001b[49m\u001b[43m \u001b[49m\u001b[43mflatten_layer_2\u001b[49m\u001b[43m,\u001b[49m\u001b[43m  \u001b[49m\u001b[43mtest_size\u001b[49m\u001b[38;5;241;43m=\u001b[39;49m\u001b[38;5;241;43m0.4\u001b[39;49m\u001b[43m,\u001b[49m\u001b[43m \u001b[49m\u001b[43mrandom_state\u001b[49m\u001b[38;5;241;43m=\u001b[39;49m\u001b[38;5;241;43m42\u001b[39;49m\u001b[43m)\u001b[49m\n\u001b[1;32m      3\u001b[0m layer_0_train_2D, layer_0_test_2D, energy_train, energy_test,  layer_1_train_2D,layer_1_test_2D, layer_2_train_2D, layer_2_test2D, messages_l1_gnn_train, messages_l1_gnn_test, messages_l2_gnn_train, messages_l2_gnn_test\u001b[38;5;241m=\u001b[39m train_test_split(Layer_0_data_preprocessed,  energy, Layer_1_data_preprocessed, Layer_2_data_preprocessed, messages_l1_gnn, messages_l2_gnn ,test_size\u001b[38;5;241m=\u001b[39m\u001b[38;5;241m0.4\u001b[39m, random_state\u001b[38;5;241m=\u001b[39m\u001b[38;5;241m42\u001b[39m)\n",
      "File \u001b[0;32m/usr/local/lib/python3.9/dist-packages/sklearn/model_selection/_split.py:2456\u001b[0m, in \u001b[0;36mtrain_test_split\u001b[0;34m(test_size, train_size, random_state, shuffle, stratify, *arrays)\u001b[0m\n\u001b[1;32m   2452\u001b[0m     cv \u001b[38;5;241m=\u001b[39m CVClass(test_size\u001b[38;5;241m=\u001b[39mn_test, train_size\u001b[38;5;241m=\u001b[39mn_train, random_state\u001b[38;5;241m=\u001b[39mrandom_state)\n\u001b[1;32m   2454\u001b[0m     train, test \u001b[38;5;241m=\u001b[39m \u001b[38;5;28mnext\u001b[39m(cv\u001b[38;5;241m.\u001b[39msplit(X\u001b[38;5;241m=\u001b[39marrays[\u001b[38;5;241m0\u001b[39m], y\u001b[38;5;241m=\u001b[39mstratify))\n\u001b[0;32m-> 2456\u001b[0m \u001b[38;5;28;01mreturn\u001b[39;00m \u001b[38;5;28;43mlist\u001b[39;49m\u001b[43m(\u001b[49m\n\u001b[1;32m   2457\u001b[0m \u001b[43m    \u001b[49m\u001b[43mchain\u001b[49m\u001b[38;5;241;43m.\u001b[39;49m\u001b[43mfrom_iterable\u001b[49m\u001b[43m(\u001b[49m\n\u001b[1;32m   2458\u001b[0m \u001b[43m        \u001b[49m\u001b[43m(\u001b[49m\u001b[43m_safe_indexing\u001b[49m\u001b[43m(\u001b[49m\u001b[43ma\u001b[49m\u001b[43m,\u001b[49m\u001b[43m \u001b[49m\u001b[43mtrain\u001b[49m\u001b[43m)\u001b[49m\u001b[43m,\u001b[49m\u001b[43m \u001b[49m\u001b[43m_safe_indexing\u001b[49m\u001b[43m(\u001b[49m\u001b[43ma\u001b[49m\u001b[43m,\u001b[49m\u001b[43m \u001b[49m\u001b[43mtest\u001b[49m\u001b[43m)\u001b[49m\u001b[43m)\u001b[49m\u001b[43m \u001b[49m\u001b[38;5;28;43;01mfor\u001b[39;49;00m\u001b[43m \u001b[49m\u001b[43ma\u001b[49m\u001b[43m \u001b[49m\u001b[38;5;129;43;01min\u001b[39;49;00m\u001b[43m \u001b[49m\u001b[43marrays\u001b[49m\n\u001b[1;32m   2459\u001b[0m \u001b[43m    \u001b[49m\u001b[43m)\u001b[49m\n\u001b[1;32m   2460\u001b[0m \u001b[43m\u001b[49m\u001b[43m)\u001b[49m\n",
      "File \u001b[0;32m/usr/local/lib/python3.9/dist-packages/sklearn/model_selection/_split.py:2458\u001b[0m, in \u001b[0;36m<genexpr>\u001b[0;34m(.0)\u001b[0m\n\u001b[1;32m   2452\u001b[0m     cv \u001b[38;5;241m=\u001b[39m CVClass(test_size\u001b[38;5;241m=\u001b[39mn_test, train_size\u001b[38;5;241m=\u001b[39mn_train, random_state\u001b[38;5;241m=\u001b[39mrandom_state)\n\u001b[1;32m   2454\u001b[0m     train, test \u001b[38;5;241m=\u001b[39m \u001b[38;5;28mnext\u001b[39m(cv\u001b[38;5;241m.\u001b[39msplit(X\u001b[38;5;241m=\u001b[39marrays[\u001b[38;5;241m0\u001b[39m], y\u001b[38;5;241m=\u001b[39mstratify))\n\u001b[1;32m   2456\u001b[0m \u001b[38;5;28;01mreturn\u001b[39;00m \u001b[38;5;28mlist\u001b[39m(\n\u001b[1;32m   2457\u001b[0m     chain\u001b[38;5;241m.\u001b[39mfrom_iterable(\n\u001b[0;32m-> 2458\u001b[0m         (_safe_indexing(a, train), \u001b[43m_safe_indexing\u001b[49m\u001b[43m(\u001b[49m\u001b[43ma\u001b[49m\u001b[43m,\u001b[49m\u001b[43m \u001b[49m\u001b[43mtest\u001b[49m\u001b[43m)\u001b[49m) \u001b[38;5;28;01mfor\u001b[39;00m a \u001b[38;5;129;01min\u001b[39;00m arrays\n\u001b[1;32m   2459\u001b[0m     )\n\u001b[1;32m   2460\u001b[0m )\n",
      "File \u001b[0;32m/usr/local/lib/python3.9/dist-packages/sklearn/utils/__init__.py:361\u001b[0m, in \u001b[0;36m_safe_indexing\u001b[0;34m(X, indices, axis)\u001b[0m\n\u001b[1;32m    359\u001b[0m     \u001b[38;5;28;01mreturn\u001b[39;00m _pandas_indexing(X, indices, indices_dtype, axis\u001b[38;5;241m=\u001b[39maxis)\n\u001b[1;32m    360\u001b[0m \u001b[38;5;28;01melif\u001b[39;00m \u001b[38;5;28mhasattr\u001b[39m(X, \u001b[38;5;124m\"\u001b[39m\u001b[38;5;124mshape\u001b[39m\u001b[38;5;124m\"\u001b[39m):\n\u001b[0;32m--> 361\u001b[0m     \u001b[38;5;28;01mreturn\u001b[39;00m \u001b[43m_array_indexing\u001b[49m\u001b[43m(\u001b[49m\u001b[43mX\u001b[49m\u001b[43m,\u001b[49m\u001b[43m \u001b[49m\u001b[43mindices\u001b[49m\u001b[43m,\u001b[49m\u001b[43m \u001b[49m\u001b[43mindices_dtype\u001b[49m\u001b[43m,\u001b[49m\u001b[43m \u001b[49m\u001b[43maxis\u001b[49m\u001b[38;5;241;43m=\u001b[39;49m\u001b[43maxis\u001b[49m\u001b[43m)\u001b[49m\n\u001b[1;32m    362\u001b[0m \u001b[38;5;28;01melse\u001b[39;00m:\n\u001b[1;32m    363\u001b[0m     \u001b[38;5;28;01mreturn\u001b[39;00m _list_indexing(X, indices, indices_dtype)\n",
      "File \u001b[0;32m/usr/local/lib/python3.9/dist-packages/sklearn/utils/__init__.py:185\u001b[0m, in \u001b[0;36m_array_indexing\u001b[0;34m(array, key, key_dtype, axis)\u001b[0m\n\u001b[1;32m    183\u001b[0m \u001b[38;5;28;01mif\u001b[39;00m \u001b[38;5;28misinstance\u001b[39m(key, \u001b[38;5;28mtuple\u001b[39m):\n\u001b[1;32m    184\u001b[0m     key \u001b[38;5;241m=\u001b[39m \u001b[38;5;28mlist\u001b[39m(key)\n\u001b[0;32m--> 185\u001b[0m \u001b[38;5;28;01mreturn\u001b[39;00m \u001b[43marray\u001b[49m\u001b[43m[\u001b[49m\u001b[43mkey\u001b[49m\u001b[43m]\u001b[49m \u001b[38;5;28;01mif\u001b[39;00m axis \u001b[38;5;241m==\u001b[39m \u001b[38;5;241m0\u001b[39m \u001b[38;5;28;01melse\u001b[39;00m array[:, key]\n",
      "\u001b[0;31mKeyboardInterrupt\u001b[0m: "
     ]
    }
   ],
   "source": [
    "from sklearn.model_selection import train_test_split\n",
    "layer_0_train, layer_0_test, energy_train, energy_test,  layer_1_train,layer_1_test, layer_2_train, layer_2_test,= train_test_split(flatten_layer_0,  energy, flatten_layer_1, flatten_layer_2,  test_size=0.4, random_state=42)\n",
    "layer_0_train_2D, layer_0_test_2D, energy_train, energy_test,  layer_1_train_2D,layer_1_test_2D, layer_2_train_2D, layer_2_test2D, messages_l1_gnn_train, messages_l1_gnn_test, messages_l2_gnn_train, messages_l2_gnn_test= train_test_split(Layer_0_data_preprocessed,  energy, Layer_1_data_preprocessed, Layer_2_data_preprocessed, messages_l1_gnn, messages_l2_gnn ,test_size=0.4, random_state=42)"
   ]
  },
  {
   "cell_type": "code",
   "execution_count": null,
   "metadata": {
    "execution": {
     "iopub.status.busy": "2022-10-29T19:02:26.282934Z",
     "iopub.status.idle": "2022-10-29T19:02:26.283249Z",
     "shell.execute_reply": "2022-10-29T19:02:26.283108Z",
     "shell.execute_reply.started": "2022-10-29T19:02:26.283093Z"
    },
    "id": "e_wOew_QE-dc"
   },
   "outputs": [],
   "source": [
    "print(layer_0_train_2D.shape)"
   ]
  },
  {
   "cell_type": "markdown",
   "metadata": {
    "id": "ZDqQ8hLR9d7q"
   },
   "source": [
    "\n",
    "def check_data(n):\n",
    "  x=layer_0_train[n].sum()*np.max(layer_0_data)+layer_1_train[n].sum()*np.max(layer_1_data)+layer_2_train[n].sum()*np.max(layer_2_data)\n",
    "  n=label0_train[n]\n",
    "  print(x,energy[n])\n",
    "check_data(5)"
   ]
  },
  {
   "cell_type": "markdown",
   "metadata": {
    "id": "pNAOiGn4rFit"
   },
   "source": [
    "lbl_tr ==> labels of training\n",
    "\n",
    "lbl_val==>labels of validation\n",
    "\n",
    "l0_tr, l1_tr, l2_tr will be used in training and are chosen from previously splitted training data"
   ]
  },
  {
   "cell_type": "markdown",
   "metadata": {
    "id": "QZGqkf745j9e"
   },
   "source": [
    "l0_tr,l0_val,l1_tr,l1_val,l2_tr,l2_val,lbl_tr,lbl_val= train_test_split(layer_0_train,layer_1_train,layer_2_train, label0_train, test_size=0.2, random_state=42)\n",
    "del(l0_tr,l0_val,l1_tr,l1_val,l2_tr,l2_val,lbl_tr,lbl_val)"
   ]
  },
  {
   "cell_type": "code",
   "execution_count": null,
   "metadata": {
    "execution": {
     "iopub.status.busy": "2022-10-29T19:02:26.284252Z",
     "iopub.status.idle": "2022-10-29T19:02:26.284632Z",
     "shell.execute_reply": "2022-10-29T19:02:26.284488Z",
     "shell.execute_reply.started": "2022-10-29T19:02:26.284488Z"
    },
    "id": "TOYVznGWZMyy"
   },
   "outputs": [],
   "source": [
    "lc1_test=np.array([np.concatenate((layer_0_test, layer_1_test, layer_2_test),axis=1)  ])\n",
    "lc1_train=np.array([np.concatenate((layer_0_train, layer_1_train, layer_2_train),axis=1)  ])\n",
    "lc1_train=lc1_train.reshape(lc1_train.shape[1],lc1_train.shape[2])\n",
    "lc1_test=lc1_test.reshape(lc1_test.shape[1],lc1_test.shape[2])"
   ]
  },
  {
   "cell_type": "code",
   "execution_count": null,
   "metadata": {
    "execution": {
     "iopub.status.busy": "2022-10-29T19:02:26.285991Z",
     "iopub.status.idle": "2022-10-29T19:02:26.286342Z",
     "shell.execute_reply": "2022-10-29T19:02:26.286151Z",
     "shell.execute_reply.started": "2022-10-29T19:02:26.286151Z"
    },
    "id": "Z06AW0WdFnIy"
   },
   "outputs": [],
   "source": [
    "print(lc1_test.shape) \n",
    "print(energy_test.shape)\n",
    "print(lc1_train.shape)\n",
    "print(energy_train.shape) "
   ]
  },
  {
   "cell_type": "markdown",
   "metadata": {
    "id": "PphME-j9cRs_"
   },
   "source": [
    "test_layer_0 = np.array([flatten_layer_0[i] for i in range(len(flatten_layer_0)) if i not in random])\n",
    "test_layer_1 = np.array([flatten_layer_1[i] for i in range(len(flatten_layer_0)) if i not in random])\n",
    "test_layer_2 = np.array([flatten_layer_2[i] for i in range(len(flatten_layer_0)) if i not in random])"
   ]
  },
  {
   "cell_type": "code",
   "execution_count": null,
   "metadata": {
    "execution": {
     "iopub.status.busy": "2022-10-29T19:02:26.287433Z",
     "iopub.status.idle": "2022-10-29T19:02:26.287671Z",
     "shell.execute_reply": "2022-10-29T19:02:26.287566Z",
     "shell.execute_reply.started": "2022-10-29T19:02:26.287566Z"
    },
    "id": "7yz029HZvne9"
   },
   "outputs": [],
   "source": [
    "def run_experiment(model, x_train, y_train):\n",
    "    \n",
    "    model.compile(\n",
    "        optimizer=keras.optimizers.Adam(0.003),\n",
    "        loss=keras.losses.MeanSquaredError(reduction=\"auto\", name=\"mean_squared_error\")#,\n",
    "        #metrics=tf.keras.metrics.BinaryAccuracy(),\n",
    "    )\n",
    "    \n",
    "    early_stopping = keras.callbacks.EarlyStopping(\n",
    "        monitor=\"val_loss\", patience=50, restore_best_weights=True\n",
    "    )\n",
    "    \n",
    "    history = model.fit(\n",
    "        x=x_train,\n",
    "        y=y_train,\n",
    "        epochs=50,\n",
    "        batch_size=512,\n",
    "        validation_split=0.2,\n",
    "        callbacks=[early_stopping],\n",
    "    )\n",
    "\n",
    "    return history"
   ]
  },
  {
   "cell_type": "code",
   "execution_count": null,
   "metadata": {
    "execution": {
     "iopub.status.busy": "2022-10-29T19:02:26.288457Z",
     "iopub.status.idle": "2022-10-29T19:02:26.288705Z",
     "shell.execute_reply": "2022-10-29T19:02:26.288457Z",
     "shell.execute_reply.started": "2022-10-29T19:02:26.288457Z"
    },
    "id": "AgJ2Mj70s9fk"
   },
   "outputs": [],
   "source": [
    "import keras.layers as layers\n",
    "import tensorflow as tf\n",
    "hidden_units = [1024, 512,64]\n",
    "def dnn(hidden_units, num_classes, dropout_rate):\n",
    "    inputs = layers.Input(shape=(144+(96*3)+72,), name=\"input_features\")\n",
    "    x = inputs\n",
    "    for units in hidden_units:        \n",
    "        x  = layers.Dense(units, activation=tf.nn.relu)(x)\n",
    "        x  = layers.Dropout(rate=dropout_rate)(x)\n",
    "    logits = layers.Dense(num_classes, name=\"output\")(x)\n",
    "    # Create the model.\n",
    "    return keras.Model(inputs=inputs, outputs=logits, name=\"dnn\")\n",
    "baseline_model = dnn(hidden_units, 1, 0)\n",
    "baseline_model.summary()"
   ]
  },
  {
   "cell_type": "code",
   "execution_count": null,
   "metadata": {
    "execution": {
     "iopub.status.busy": "2022-10-29T19:02:26.289944Z",
     "iopub.status.idle": "2022-10-29T19:02:26.290385Z",
     "shell.execute_reply": "2022-10-29T19:02:26.290155Z",
     "shell.execute_reply.started": "2022-10-29T19:02:26.290155Z"
    }
   },
   "outputs": [],
   "source": [
    "def cnn(hidden_units, num_classes, dropout_rate):\n",
    "    inputs0 = layers.Input(shape=(3,96,1,), name=\"input_features_l0\")\n",
    "    inputs1 = layers.Input(shape=(12,12,1,), name=\"input_features_l1\")\n",
    "    inputs2 = layers.Input(shape=(12,6,1,), name=\"input_features_l2\")\n",
    "    cnn0 = layers.Conv2D(32, 3, activation='relu', padding='same')(inputs0)\n",
    "    cnn0 = layers.Conv2D(64, 3, activation='relu', padding='same')(cnn0)\n",
    "    #cnn0 = layers.Conv2D(128, 5, activation='relu', padding='same')(cnn0)\n",
    "    cnn0 = layers.Flatten()(cnn0)\n",
    "    inputs0_flat = layers.Flatten()(inputs0)\n",
    "    cnn0Comb = layers.Concatenate()([cnn0,inputs0_flat])\n",
    "    cnn1 = layers.Conv2D(32, 3, activation='relu', padding='same')(inputs1)\n",
    "    cnn1 = layers.Conv2D(64, 3, activation='relu', padding='same')(cnn1)\n",
    "    #cnn1 = layers.Conv2D(128, 5, activation='relu', padding='same')(cnn1)\n",
    "    cnn1 = layers.Flatten()(cnn1)\n",
    "    inputs1_flat = layers.Flatten()(inputs1)\n",
    "    cnn1Comb = layers.Concatenate()([cnn1,inputs1_flat])\n",
    "    cnn2 = layers.Conv2D(32, 3, activation='relu', padding='same')(inputs2)\n",
    "    cnn2 = layers.Conv2D(64, 3, activation='relu', padding='same')(cnn2)  \n",
    "    #cnn2 = layers.Conv2D(128, 5, activation='relu', padding='same')(cnn2)      \n",
    "    cnn2 = layers.Flatten()(cnn2)\n",
    "    inputs2_flat = layers.Flatten()(inputs2)\n",
    "    cnn2Comb = layers.Concatenate()([cnn2,inputs2_flat])\n",
    "    x =  layers.Concatenate()([cnn0Comb,cnn1Comb,cnn2Comb])\n",
    "    for units in hidden_units:        \n",
    "        x  = layers.Dense(units, activation=tf.nn.relu)(x)\n",
    "        x  = layers.Dropout(rate=dropout_rate)(x)\n",
    "    logits = layers.Dense(num_classes, name=\"output\")(x)\n",
    "    return keras.Model(inputs=(inputs0,inputs1,inputs2), outputs=logits, name=\"cnn\")"
   ]
  },
  {
   "cell_type": "code",
   "execution_count": null,
   "metadata": {
    "execution": {
     "iopub.status.busy": "2022-10-29T19:02:26.291037Z",
     "iopub.status.idle": "2022-10-29T19:02:26.291180Z",
     "shell.execute_reply": "2022-10-29T19:02:26.291180Z",
     "shell.execute_reply.started": "2022-10-29T19:02:26.291180Z"
    }
   },
   "outputs": [],
   "source": [
    "def gnn(hidden_units, num_classes, dropout_rate):\n",
    "    inputs0 = layers.Input(shape=(3,96,1,), name=\"input_features_l0\")\n",
    "    inputs1 = layers.Input(shape=(3,3,1,), name=\"input_features_l1\")\n",
    "    inputs2 = layers.Input(shape=(3,3,1,), name=\"input_features_l2\")\n",
    "    cnn0 = layers.Conv2D(32, 3, activation='relu', padding='same')(inputs0)\n",
    "    cnn0 = layers.Conv2D(64, 3, activation='relu', padding='same')(cnn0)\n",
    "    #cnn0 = layers.Conv2D(128, 5, activation='relu', padding='same')(cnn0)\n",
    "    cnn0 = layers.Flatten()(cnn0)\n",
    "    inputs0_flat = layers.Flatten()(inputs0)\n",
    "    cnn0Comb = layers.Concatenate()([cnn0,inputs0_flat])\n",
    "    cnn1 = layers.Conv2D(32, 2, activation='relu', padding='same')(inputs1)\n",
    "    #cnn1 = layers.Conv2D(64, 2, activation='relu', padding='same')(cnn1)\n",
    "    #cnn1 = layers.Conv2D(128, 5, activation='relu', padding='same')(cnn1)\n",
    "    cnn1 = layers.Flatten()(cnn1)\n",
    "    inputs1_flat = layers.Flatten()(inputs1)\n",
    "    cnn1Comb = layers.Concatenate()([cnn1,inputs1_flat])\n",
    "    cnn2 = layers.Conv2D(32, 2, activation='relu', padding='same')(inputs2)\n",
    "    #cnn2 = layers.Conv2D(64, 2, activation='relu', padding='same')(cnn2)  \n",
    "    #cnn2 = layers.Conv2D(128, 5, activation='relu', padding='same')(cnn2)      \n",
    "    cnn2 = layers.Flatten()(cnn2)\n",
    "    inputs2_flat = layers.Flatten()(inputs2)\n",
    "    cnn2Comb = layers.Concatenate()([cnn2,inputs2_flat])\n",
    "    x =  layers.Concatenate()([cnn0Comb,cnn1Comb,cnn2Comb])\n",
    "    for units in hidden_units:        \n",
    "        x  = layers.Dense(units, activation=tf.nn.relu)(x)\n",
    "        x  = layers.Dropout(rate=dropout_rate)(x)\n",
    "    logits = layers.Dense(num_classes, name=\"output\")(x)\n",
    "    return keras.Model(inputs=(inputs0,inputs1,inputs2), outputs=logits, name=\"gnn\")"
   ]
  },
  {
   "cell_type": "code",
   "execution_count": null,
   "metadata": {
    "execution": {
     "iopub.status.busy": "2022-10-29T19:02:26.292956Z",
     "iopub.status.idle": "2022-10-29T19:02:26.293420Z",
     "shell.execute_reply": "2022-10-29T19:02:26.293193Z",
     "shell.execute_reply.started": "2022-10-29T19:02:26.293193Z"
    }
   },
   "outputs": [],
   "source": [
    "cnn_model = cnn(hidden_units, 1, 0.1)\n",
    "cnn_model.summary()"
   ]
  },
  {
   "cell_type": "code",
   "execution_count": null,
   "metadata": {
    "execution": {
     "iopub.status.busy": "2022-10-29T19:02:26.295029Z",
     "iopub.status.idle": "2022-10-29T19:02:26.295204Z",
     "shell.execute_reply": "2022-10-29T19:02:26.295029Z",
     "shell.execute_reply.started": "2022-10-29T19:02:26.295029Z"
    }
   },
   "outputs": [],
   "source": [
    "gnn_model = gnn(hidden_units, 1, 0.1)\n",
    "gnn_model.summary()"
   ]
  },
  {
   "cell_type": "code",
   "execution_count": null,
   "metadata": {
    "execution": {
     "iopub.status.busy": "2022-10-29T19:02:26.296011Z",
     "iopub.status.idle": "2022-10-29T19:02:26.296284Z",
     "shell.execute_reply": "2022-10-29T19:02:26.296136Z",
     "shell.execute_reply.started": "2022-10-29T19:02:26.296136Z"
    }
   },
   "outputs": [],
   "source": [
    "history_gnn=run_experiment(gnn_model,[layer_0_train_2D,messages_l1_gnn_train,messages_l2_gnn_train],energy_train)"
   ]
  },
  {
   "cell_type": "code",
   "execution_count": null,
   "metadata": {
    "execution": {
     "iopub.status.busy": "2022-10-29T19:02:26.297157Z",
     "iopub.status.idle": "2022-10-29T19:02:26.297480Z",
     "shell.execute_reply": "2022-10-29T19:02:26.297394Z",
     "shell.execute_reply.started": "2022-10-29T19:02:26.297394Z"
    }
   },
   "outputs": [],
   "source": [
    "history_cnn=run_experiment(cnn_model,[layer_0_train_2D,layer_1_train_2D,layer_2_train_2D],energy_train)"
   ]
  },
  {
   "cell_type": "code",
   "execution_count": null,
   "metadata": {
    "execution": {
     "iopub.status.busy": "2022-10-29T19:02:26.298349Z",
     "iopub.status.idle": "2022-10-29T19:02:26.298649Z",
     "shell.execute_reply": "2022-10-29T19:02:26.298649Z",
     "shell.execute_reply.started": "2022-10-29T19:02:26.298522Z"
    },
    "id": "PUPhTztZvza-"
   },
   "outputs": [],
   "source": [
    "x_train=lc1_train\n",
    "y_train=energy_train\n",
    "history_dnn=run_experiment(baseline_model, x_train, y_train)"
   ]
  },
  {
   "cell_type": "code",
   "execution_count": null,
   "metadata": {
    "execution": {
     "iopub.status.busy": "2022-10-29T19:02:26.299797Z",
     "iopub.status.idle": "2022-10-29T19:02:26.300040Z",
     "shell.execute_reply": "2022-10-29T19:02:26.299917Z",
     "shell.execute_reply.started": "2022-10-29T19:02:26.299917Z"
    },
    "id": "267imLDtGgt2"
   },
   "outputs": [],
   "source": [
    "def check_data(n):\n",
    "  x=np.sum(layer_0_test[n])*nrm_l0+np.sum(layer_1_test[n])*nrm_l1+np.sum(layer_2_test[n])*nrm_l2\n",
    "  y=energy_test[n]*nrm_e*1000\n",
    "  print(x,y)\n",
    "check_data(5)\n",
    "\n",
    "gnn_predict=gnn_model.predict(x=[layer_0_test_2D,messages_l1_gnn_test,messages_l2_gnn_test], verbose=1)"
   ]
  },
  {
   "cell_type": "code",
   "execution_count": null,
   "metadata": {
    "execution": {
     "iopub.status.busy": "2022-10-29T19:02:26.301042Z",
     "iopub.status.idle": "2022-10-29T19:02:26.301474Z",
     "shell.execute_reply": "2022-10-29T19:02:26.301326Z",
     "shell.execute_reply.started": "2022-10-29T19:02:26.301170Z"
    }
   },
   "outputs": [],
   "source": [
    "cnn_predict = cnn_model.predict(x=[layer_0_test_2D,layer_1_test_2D,layer_2_test2D], verbose=1)"
   ]
  },
  {
   "cell_type": "code",
   "execution_count": null,
   "metadata": {
    "execution": {
     "iopub.status.busy": "2022-10-29T19:02:26.302364Z",
     "iopub.status.idle": "2022-10-29T19:02:26.302665Z",
     "shell.execute_reply": "2022-10-29T19:02:26.302665Z",
     "shell.execute_reply.started": "2022-10-29T19:02:26.302542Z"
    },
    "id": "BW0EWDIQ6Rhd"
   },
   "outputs": [],
   "source": [
    "dnn_predict = baseline_model.predict(x=lc1_test, verbose=0)"
   ]
  },
  {
   "cell_type": "code",
   "execution_count": null,
   "metadata": {
    "execution": {
     "iopub.status.busy": "2022-10-29T19:02:26.303710Z",
     "iopub.status.idle": "2022-10-29T19:02:26.304049Z",
     "shell.execute_reply": "2022-10-29T19:02:26.303888Z",
     "shell.execute_reply.started": "2022-10-29T19:02:26.303888Z"
    }
   },
   "outputs": [],
   "source": [
    "energy = np.array(energy)\n",
    "dnn_predict = np.array(dnn_predict)\n",
    "cnn_predict = np.array(cnn_predict)\n",
    "fig, ax = plt.subplots(1,2,figsize=[10,5])\n",
    "\n",
    "ax[0].hist(energy[:,0],bins= 100, density= True, label=\"Sum energy\") \n",
    "ax[0].hist(dnn_predict[:,0],bins= 100, density = True , alpha = 0.4,  label=\"DNN predict\")\n",
    "#ax[0].hist(cnn_predict[:,0],bins= 100, density = True, alpha = 0.4, label=\"CNN predict\")\n",
    "ax[0].hist(gnn_predict[:,0],bins= 100, density = True, alpha = 0.4, label=\"GNN predict\")\n",
    "\n",
    "ax[0].legend()\n",
    "\n",
    "ax[1].hist(energy[:,1],bins= 100, density= True, label=\"Sum energy\") \n",
    "#ax[1].hist(dnn_predict[:,1],bins= 100, density = True , alpha = 0.4,  label=\"DNN predict\")\n",
    "ax[1].hist(cnn_predict[:,1],bins= 100, density = True, alpha = 0.4, label=\"CNN predict\")\n",
    "\n",
    "plt.legend()\n"
   ]
  },
  {
   "cell_type": "code",
   "execution_count": null,
   "metadata": {
    "execution": {
     "iopub.status.busy": "2022-10-29T19:02:26.305194Z",
     "iopub.status.idle": "2022-10-29T19:02:26.305467Z",
     "shell.execute_reply": "2022-10-29T19:02:26.305321Z",
     "shell.execute_reply.started": "2022-10-29T19:02:26.305321Z"
    },
    "id": "64s3HBLVmxJl"
   },
   "outputs": [],
   "source": [
    "def display_learning_curves(history_cnn, history_dnn):\n",
    "    fig, (ax1) = plt.subplots(1, 2, figsize=(10, 5))\n",
    "\n",
    "    ax1[0].plot(history_cnn.history[\"loss\"])\n",
    "    ax1[0].plot(history_cnn.history[\"val_loss\"])\n",
    "    ax1[0].set_ylim(top  = 0.01, bottom = 0.0)\n",
    "    ax1[0].legend([\"train\", \"test\"], loc=\"upper right\")\n",
    "    ax1[0].set_xlabel(\"Epochs\")\n",
    "    ax1[0].set_ylabel(\"loss\")\n",
    "    ax1[1].plot(history_dnn.history[\"loss\"])\n",
    "    ax1[1].plot(history_dnn.history[\"val_loss\"])\n",
    "    ax1[1].legend([\"train\", \"test\"], loc=\"upper right\")\n",
    "    ax1[1].set_xlabel(\"Epochs\")\n",
    "    ax1[1].set_ylabel(\"loss\")\n",
    "    plt.ylim(top  = 0.01, bottom = 0.0)\n",
    "\n",
    " #   ax2.plot(history.history[\"loss\"])\n",
    " #   ax2.plot(history.history[\"mse\"])\n",
    " #   ax2.legend([\"train\", \"test\"], loc=\"upper right\")\n",
    " #   ax2.set_xlabel(\"Epochs\")\n",
    " #   ax2.set_ylabel(\"loss\")\n",
    "    plt.show()\n",
    "display_learning_curves(history_gnn,x)"
   ]
  },
  {
   "cell_type": "code",
   "execution_count": null,
   "metadata": {
    "execution": {
     "iopub.status.busy": "2022-10-29T19:02:26.306180Z",
     "iopub.status.idle": "2022-10-29T19:02:26.306590Z",
     "shell.execute_reply": "2022-10-29T19:02:26.306412Z",
     "shell.execute_reply.started": "2022-10-29T19:02:26.306412Z"
    }
   },
   "outputs": [],
   "source": [
    "plt.plot(history_gnn.history[\"loss\"])\n",
    "plt.plot(history_gnn.history[\"val_loss\"])\n",
    "plt.ylim(top  = 0.01, bottom = 0.0)\n",
    "plt.legend([\"train\", \"test\"], loc=\"upper right\")\n",
    "plt.xlabel(\"Epochs\")\n",
    "plt.ylabel(\"loss\")"
   ]
  },
  {
   "cell_type": "code",
   "execution_count": null,
   "metadata": {
    "execution": {
     "iopub.status.busy": "2022-10-29T19:02:26.307876Z",
     "iopub.status.idle": "2022-10-29T19:02:26.308236Z",
     "shell.execute_reply": "2022-10-29T19:02:26.308015Z",
     "shell.execute_reply.started": "2022-10-29T19:02:26.308015Z"
    }
   },
   "outputs": [],
   "source": [
    "#dnn_predict = dnn_predict.reshape(dnn_predict.shape[0])\n",
    "energy_cut  = 0 / (nrm_e * 1000)\n",
    "dnn_diff_pred = (dnn_predict - energy_test)/ energy_test\n",
    "diff_sum = (np.sum(layer_0_test,axis=1)/2*nrm_l0+np.sum(layer_1_test,axis=1)/2*nrm_l1+np.sum(layer_2_test,axis=1)/2*nrm_l2 - energy_test[:,0]*nrm_e*1000 + 0.0068*energy_test[:,0]*nrm_e*1000)/(energy_test[:,0]*nrm_e*1000)\n",
    "print(np.argmin(diff_sum))\n",
    "print(np.sum(diff_sum>0))\n",
    "\n",
    "print(np.std(dnn_diff_pred))\n",
    "print(np.std(diff_sum))\n",
    "print(np.mean(dnn_diff_pred))\n",
    "print(np.mean(diff_sum))"
   ]
  },
  {
   "cell_type": "code",
   "execution_count": null,
   "metadata": {
    "execution": {
     "iopub.status.busy": "2022-10-29T19:02:26.308825Z",
     "iopub.status.idle": "2022-10-29T19:02:26.309171Z",
     "shell.execute_reply": "2022-10-29T19:02:26.309026Z",
     "shell.execute_reply.started": "2022-10-29T19:02:26.309026Z"
    }
   },
   "outputs": [],
   "source": [
    "\n",
    "def check_predict(n):\n",
    "    print(cnn_predict[n], energy_test[n], (diff_sum[n]*energy_test[n]*nrm_e+energy_test[n]*nrm_e)/100)\n",
    "check_predict(100)"
   ]
  },
  {
   "cell_type": "code",
   "execution_count": null,
   "metadata": {
    "execution": {
     "iopub.status.busy": "2022-10-29T19:02:26.309810Z",
     "iopub.status.idle": "2022-10-29T19:02:26.310291Z",
     "shell.execute_reply": "2022-10-29T19:02:26.310155Z",
     "shell.execute_reply.started": "2022-10-29T19:02:26.310155Z"
    }
   },
   "outputs": [],
   "source": [
    "#Cnn_nparr=cnn_predict[:,0]\n",
    "gnn_nparr=gnn_predict[:,0]\n"
   ]
  },
  {
   "cell_type": "code",
   "execution_count": null,
   "metadata": {
    "execution": {
     "iopub.status.busy": "2022-10-29T19:02:26.311603Z",
     "iopub.status.idle": "2022-10-29T19:02:26.311856Z",
     "shell.execute_reply": "2022-10-29T19:02:26.311706Z",
     "shell.execute_reply.started": "2022-10-29T19:02:26.311706Z"
    }
   },
   "outputs": [],
   "source": [
    "#cnn_diff_predict=(Cnn_nparr-energy_test[:,0])/energy_test[:,0]\n",
    "gnn_diff_predict=(gnn_nparr-energy_test)/energy_test\n",
    "plt.hist(gnn_predict, bins=20)"
   ]
  },
  {
   "cell_type": "code",
   "execution_count": null,
   "metadata": {
    "execution": {
     "iopub.status.busy": "2022-10-29T19:02:26.313298Z",
     "iopub.status.idle": "2022-10-29T19:02:26.313611Z",
     "shell.execute_reply": "2022-10-29T19:02:26.313432Z",
     "shell.execute_reply.started": "2022-10-29T19:02:26.313432Z"
    },
    "id": "rVUjJx44mycm"
   },
   "outputs": [],
   "source": [
    "fig, ax = plt.subplots(1,1,figsize=[5,5])\n",
    "ax.hist(dnn_diff_pred, bins = 100, range=[-0.1,0.1], label = \"dnn pred\") \n",
    "#ax.hist(diff_sum, alpha = 0.6, bins = 100, range=[-0.1,0.1], label = \"sum algo\", color=\"r\")\n",
    "ax.hist(gnn_diff_predict,  bins = 100, range=[-0.1,0.1],color=\"g\", label = \"cnn pred\") \n",
    "ax.legend()"
   ]
  },
  {
   "cell_type": "code",
   "execution_count": 53,
   "metadata": {
    "execution": {
     "iopub.execute_input": "2022-11-05T09:34:25.968945Z",
     "iopub.status.busy": "2022-11-05T09:34:25.968214Z",
     "iopub.status.idle": "2022-11-05T09:34:29.779146Z",
     "shell.execute_reply": "2022-11-05T09:34:29.778355Z",
     "shell.execute_reply.started": "2022-11-05T09:34:25.968917Z"
    }
   },
   "outputs": [],
   "source": [
    "#burada parçacıkları match ettiğim sırayla düzenleyip input oluşturuyorum\n",
    "particle1_input=[]\n",
    "particle2_input=[]\n",
    "for n in range(len(particle_match)):\n",
    "    particle1=layer0_particles_pr[n][particle_match[n][0][0]], layer1_particles_pr[n][particle_match[n][0][1]], layer2_particles_pr[n][particle_match[n][0][2]]\n",
    "    particle2=layer0_particles_pr[n][particle_match[n][1][0]], layer1_particles_pr[n][particle_match[n][1][1]], layer2_particles_pr[n][particle_match[n][1][2]]\n",
    "    particle1_input.append(particle1)\n",
    "    particle1_input.append(particle2)\n",
    "particle1_input=np.array(particle1_input)\n",
    "particle2_input=np.array(particle2_input)"
   ]
  }
 ],
 "metadata": {
  "colab": {
   "collapsed_sections": [],
   "private_outputs": true,
   "provenance": []
  },
  "kernelspec": {
   "display_name": "Python 3 (ipykernel)",
   "language": "python",
   "name": "python3"
  },
  "language_info": {
   "codemirror_mode": {
    "name": "ipython",
    "version": 3
   },
   "file_extension": ".py",
   "mimetype": "text/x-python",
   "name": "python",
   "nbconvert_exporter": "python",
   "pygments_lexer": "ipython3",
   "version": "3.9.13"
  }
 },
 "nbformat": 4,
 "nbformat_minor": 4
}
