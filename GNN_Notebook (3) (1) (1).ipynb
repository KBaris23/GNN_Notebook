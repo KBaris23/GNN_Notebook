{
 "cells": [
  {
   "cell_type": "code",
   "execution_count": 3,
   "metadata": {
    "id": "RIO91Fu65s6k"
   },
   "outputs": [
    {
     "data": {
      "text/plain": [
       "'C:\\\\Users\\\\Asus\\\\.keras\\\\datasets\\\\gamma_angle_position_5deg_xy.h5'"
      ]
     },
     "execution_count": 3,
     "metadata": {},
     "output_type": "execute_result"
    }
   ],
   "source": [
    "import tensorflow\n",
    "import numpy as np\n",
    "import pandas as pd\n",
    "import os\n",
    "import tensorflow.keras as keras\n",
    "zip_file=keras.utils.get_file(\n",
    "    fname=\"gamma_angle_position_5deg_xy.h5\",\n",
    "    origin=\"https://zenodo.org/record/846388/files/gamma_angle_position_5deg_xy.h5?download=1\",\n",
    "    extract=True\n",
    "\n",
    ")\n",
    "dirnam=os.path.join(os.path.dirname(zip_file), \"gamma_angle_position_5deg_xy.h5\")\n",
    "\n",
    "import h5py\n",
    "zip_file\n"
   ]
  },
  {
   "cell_type": "code",
   "execution_count": 4,
   "metadata": {
    "id": "nCkvgr2FHAFG"
   },
   "outputs": [
    {
     "data": {
      "text/plain": [
       "'C:\\\\Users\\\\Asus\\\\.keras\\\\datasets\\\\gamma_angle_position_5deg_xy.h5'"
      ]
     },
     "execution_count": 4,
     "metadata": {},
     "output_type": "execute_result"
    }
   ],
   "source": []
  },
  {
   "cell_type": "code",
   "execution_count": 4,
   "metadata": {
    "id": "ysaVq5t7xcmU"
   },
   "outputs": [],
   "source": [
    "import matplotlib.pyplot as plt\n",
    "def extract_data(n):\n",
    "  windows=np.empty((12,12,1))\n",
    "  for i in range(n):\n",
    "    window = (np.array(h5py.File(zip_file)[\"layer_1\"][i]))\n",
    "    #print(window.reshape(1,12,12).shape)\n",
    "    #window=window.reshape(1,12,12)\n",
    "    windows=np.dstack((windows, window))\n",
    "  return windows\n",
    "  "
   ]
  },
  {
   "cell_type": "code",
   "execution_count": 5,
   "metadata": {
    "id": "cuM9humvFrbe"
   },
   "outputs": [],
   "source": [
    "\n",
    "\n",
    "x=h5py.File(zip_file)\n",
    "layer_0_data = (np.array(h5py.File(zip_file)[\"layer_0\"][:]))\n",
    "\n",
    "layer_1_data = (np.array(h5py.File(zip_file)[\"layer_1\"][:]))\n",
    "layer_2_data = (np.array(h5py.File(zip_file)[\"layer_2\"][:]))\n",
    "energy=(np.array(h5py.File(zip_file)[\"energy\"]))\n",
    "energy=energy.reshape(energy.shape[0])\n",
    "nrm_l0=np.max(layer_0_data)\n",
    "nrm_l1=np.max(layer_1_data)\n",
    "nrm_l2=np.max(layer_2_data)\n",
    "nrm_e=np.max(energy)\n",
    "\n",
    "Layer_0_data_preprocessed=layer_0_data/nrm_l0\n",
    "Layer_1_data_preprocessed=layer_1_data/nrm_l1\n",
    "Layer_2_data_preprocessed=layer_2_data/nrm_l2\n",
    "energy = energy / nrm_e\n"
   ]
  },
  {
   "cell_type": "code",
   "execution_count": 6,
   "metadata": {},
   "outputs": [
    {
     "data": {
      "text/plain": [
       "array([[[0.00000000e+00, 0.00000000e+00, 0.00000000e+00, ...,\n",
       "         0.00000000e+00, 0.00000000e+00, 0.00000000e+00],\n",
       "        [0.00000000e+00, 0.00000000e+00, 0.00000000e+00, ...,\n",
       "         0.00000000e+00, 0.00000000e+00, 0.00000000e+00],\n",
       "        [0.00000000e+00, 0.00000000e+00, 0.00000000e+00, ...,\n",
       "         0.00000000e+00, 0.00000000e+00, 0.00000000e+00]],\n",
       "\n",
       "       [[0.00000000e+00, 2.40711802e-07, 2.90011534e-07, ...,\n",
       "         0.00000000e+00, 0.00000000e+00, 0.00000000e+00],\n",
       "        [6.44887283e-06, 1.92491792e-05, 0.00000000e+00, ...,\n",
       "         0.00000000e+00, 0.00000000e+00, 1.32958062e-04],\n",
       "        [0.00000000e+00, 0.00000000e+00, 0.00000000e+00, ...,\n",
       "         1.24407611e-05, 1.08539811e-04, 1.65105335e-07]],\n",
       "\n",
       "       [[0.00000000e+00, 0.00000000e+00, 0.00000000e+00, ...,\n",
       "         0.00000000e+00, 0.00000000e+00, 0.00000000e+00],\n",
       "        [0.00000000e+00, 0.00000000e+00, 1.25305227e-04, ...,\n",
       "         4.21652981e-05, 0.00000000e+00, 0.00000000e+00],\n",
       "        [0.00000000e+00, 0.00000000e+00, 0.00000000e+00, ...,\n",
       "         0.00000000e+00, 0.00000000e+00, 0.00000000e+00]],\n",
       "\n",
       "       ...,\n",
       "\n",
       "       [[0.00000000e+00, 0.00000000e+00, 0.00000000e+00, ...,\n",
       "         0.00000000e+00, 0.00000000e+00, 0.00000000e+00],\n",
       "        [0.00000000e+00, 0.00000000e+00, 0.00000000e+00, ...,\n",
       "         0.00000000e+00, 0.00000000e+00, 0.00000000e+00],\n",
       "        [0.00000000e+00, 0.00000000e+00, 0.00000000e+00, ...,\n",
       "         0.00000000e+00, 0.00000000e+00, 0.00000000e+00]],\n",
       "\n",
       "       [[1.62849424e-04, 0.00000000e+00, 0.00000000e+00, ...,\n",
       "         0.00000000e+00, 0.00000000e+00, 0.00000000e+00],\n",
       "        [0.00000000e+00, 0.00000000e+00, 5.79549016e-05, ...,\n",
       "         0.00000000e+00, 0.00000000e+00, 0.00000000e+00],\n",
       "        [0.00000000e+00, 0.00000000e+00, 0.00000000e+00, ...,\n",
       "         0.00000000e+00, 0.00000000e+00, 0.00000000e+00]],\n",
       "\n",
       "       [[0.00000000e+00, 0.00000000e+00, 0.00000000e+00, ...,\n",
       "         0.00000000e+00, 0.00000000e+00, 0.00000000e+00],\n",
       "        [0.00000000e+00, 0.00000000e+00, 0.00000000e+00, ...,\n",
       "         0.00000000e+00, 0.00000000e+00, 0.00000000e+00],\n",
       "        [0.00000000e+00, 0.00000000e+00, 0.00000000e+00, ...,\n",
       "         0.00000000e+00, 0.00000000e+00, 0.00000000e+00]]])"
      ]
     },
     "execution_count": 6,
     "metadata": {},
     "output_type": "execute_result"
    }
   ],
   "source": [
    "Layer_0_data_preprocessed"
   ]
  },
  {
   "cell_type": "code",
   "execution_count": 7,
   "metadata": {
    "id": "I7a-mPR6O9qa"
   },
   "outputs": [],
   "source": [
    "flatten_layer_0=Layer_0_data_preprocessed.reshape(500000,3*96)\n",
    "flatten_layer_1=Layer_1_data_preprocessed.reshape(500000,12*12)\n",
    "flatten_layer_2=Layer_2_data_preprocessed.reshape(500000,6*12)\n",
    "from random import randint\n",
    "\n",
    "labels=list(range(500000))\n",
    "\n",
    "\n",
    "\n",
    "\n",
    "#random_selection=np.array([x for x in range (500000) if x not in random])"
   ]
  },
  {
   "cell_type": "markdown",
   "metadata": {
    "id": "lCi6c27iruzL"
   },
   "source": [
    "for i in range(int(0.6*len(flatten_layer_0))):\n",
    "  n=randint(0,499999)\n",
    "  random.append(n)\n",
    "  train_labels.append(energy[n])\n",
    "  train_layer_0.append(flatten_layer_0[n])\n",
    "  train_layer_1.append(flatten_layer_1[n])\n",
    "  train_layer_2.append(flatten_layer_2[n])"
   ]
  },
  {
   "cell_type": "code",
   "execution_count": 8,
   "metadata": {
    "id": "Qpn56IptgnKn"
   },
   "outputs": [],
   "source": [
    "from sklearn.model_selection import train_test_split\n",
    "layer_0_train, layer_0_test, energy_train, energy_test,  layer_1_train,layer_1_test, layer_2_train, layer_2_test,= train_test_split(flatten_layer_0,  energy, flatten_layer_1, flatten_layer_2,  test_size=0.4, random_state=42)\n",
    "layer_0_train_2D, layer_0_test_2D, energy_train, energy_test,  layer_1_train_2D,layer_1_test_2D, layer_2_train_2D, layer_2_test2D,= train_test_split(Layer_0_data_preprocessed,  energy, Layer_1_data_preprocessed, Layer_2_data_preprocessed,  test_size=0.4, random_state=42)"
   ]
  },
  {
   "cell_type": "code",
   "execution_count": 9,
   "metadata": {
    "id": "e_wOew_QE-dc"
   },
   "outputs": [
    {
     "name": "stdout",
     "output_type": "stream",
     "text": [
      "(300000, 3, 96)\n"
     ]
    }
   ],
   "source": [
    "print(layer_0_train_2D.shape)"
   ]
  },
  {
   "cell_type": "markdown",
   "metadata": {
    "id": "ZDqQ8hLR9d7q"
   },
   "source": [
    "\n",
    "def check_data(n):\n",
    "  x=layer_0_train[n].sum()*np.max(layer_0_data)+layer_1_train[n].sum()*np.max(layer_1_data)+layer_2_train[n].sum()*np.max(layer_2_data)\n",
    "  n=label0_train[n]\n",
    "  print(x,energy[n])\n",
    "check_data(5)"
   ]
  },
  {
   "cell_type": "markdown",
   "metadata": {
    "id": "pNAOiGn4rFit"
   },
   "source": [
    "lbl_tr ==> labels of training\n",
    "\n",
    "lbl_val==>labels of validation\n",
    "\n",
    "l0_tr, l1_tr, l2_tr will be used in training and are chosen from previously splitted training data"
   ]
  },
  {
   "cell_type": "markdown",
   "metadata": {
    "id": "QZGqkf745j9e"
   },
   "source": [
    "l0_tr,l0_val,l1_tr,l1_val,l2_tr,l2_val,lbl_tr,lbl_val= train_test_split(layer_0_train,layer_1_train,layer_2_train, label0_train, test_size=0.2, random_state=42)\n",
    "del(l0_tr,l0_val,l1_tr,l1_val,l2_tr,l2_val,lbl_tr,lbl_val)"
   ]
  },
  {
   "cell_type": "code",
   "execution_count": 10,
   "metadata": {
    "id": "TOYVznGWZMyy"
   },
   "outputs": [],
   "source": [
    "\n",
    "lc1_test=np.array([np.concatenate((layer_0_test, layer_1_test, layer_2_test),axis=1)  ])\n",
    "lc1_train=np.array([np.concatenate((layer_0_train, layer_1_train, layer_2_train),axis=1)  ])\n",
    "lc1_train=lc1_train.reshape(lc1_train.shape[1],lc1_train.shape[2])\n",
    "lc1_test=lc1_test.reshape(lc1_test.shape[1],lc1_test.shape[2])\n"
   ]
  },
  {
   "cell_type": "code",
   "execution_count": 11,
   "metadata": {
    "id": "Z06AW0WdFnIy"
   },
   "outputs": [
    {
     "name": "stdout",
     "output_type": "stream",
     "text": [
      "(200000, 504)\n",
      "(200000,)\n",
      "(300000, 504)\n",
      "(300000,)\n"
     ]
    }
   ],
   "source": [
    "print(lc1_test.shape) \n",
    "print(energy_test.shape)\n",
    "print(lc1_train.shape)\n",
    "print(energy_train.shape) "
   ]
  },
  {
   "cell_type": "markdown",
   "metadata": {
    "id": "PphME-j9cRs_"
   },
   "source": [
    "test_layer_0 = np.array([flatten_layer_0[i] for i in range(len(flatten_layer_0)) if i not in random])\n",
    "test_layer_1 = np.array([flatten_layer_1[i] for i in range(len(flatten_layer_0)) if i not in random])\n",
    "test_layer_2 = np.array([flatten_layer_2[i] for i in range(len(flatten_layer_0)) if i not in random])"
   ]
  },
  {
   "cell_type": "code",
   "execution_count": 93,
   "metadata": {
    "id": "7yz029HZvne9"
   },
   "outputs": [],
   "source": [
    "def run_experiment(model, x_train, y_train):\n",
    "    \n",
    "    model.compile(\n",
    "        optimizer=keras.optimizers.Adam(0.003),\n",
    "        loss=keras.losses.MeanSquaredError(reduction=\"auto\", name=\"mean_squared_error\")#,\n",
    "        #metrics=tf.keras.metrics.BinaryAccuracy(),\n",
    "    )\n",
    "    \n",
    "    early_stopping = keras.callbacks.EarlyStopping(\n",
    "        monitor=\"loss\", patience=50, restore_best_weights=True\n",
    "    )\n",
    "    \n",
    "    history = model.fit(\n",
    "        x=x_train,\n",
    "        y=y_train,\n",
    "        epochs=3,\n",
    "        batch_size=2028,\n",
    "        validation_split=0.2,\n",
    "        callbacks=[early_stopping],\n",
    "    )\n",
    "\n",
    "    return history"
   ]
  },
  {
   "cell_type": "code",
   "execution_count": 15,
   "metadata": {
    "id": "AgJ2Mj70s9fk"
   },
   "outputs": [
    {
     "name": "stdout",
     "output_type": "stream",
     "text": [
      "Model: \"dnn\"\n",
      "_________________________________________________________________\n",
      " Layer (type)                Output Shape              Param #   \n",
      "=================================================================\n",
      " input_features (InputLayer)  [(None, 504)]            0         \n",
      "                                                                 \n",
      " dense (Dense)               (None, 512)               258560    \n",
      "                                                                 \n",
      " dropout (Dropout)           (None, 512)               0         \n",
      "                                                                 \n",
      " dense_1 (Dense)             (None, 256)               131328    \n",
      "                                                                 \n",
      " dropout_1 (Dropout)         (None, 256)               0         \n",
      "                                                                 \n",
      " dense_2 (Dense)             (None, 64)                16448     \n",
      "                                                                 \n",
      " dropout_2 (Dropout)         (None, 64)                0         \n",
      "                                                                 \n",
      " output (Dense)              (None, 1)                 65        \n",
      "                                                                 \n",
      "=================================================================\n",
      "Total params: 406,401\n",
      "Trainable params: 406,401\n",
      "Non-trainable params: 0\n",
      "_________________________________________________________________\n"
     ]
    }
   ],
   "source": [
    "import keras.layers as layers\n",
    "import tensorflow as tf\n",
    "hidden_units = [512, 256,64]\n",
    "def dnn(hidden_units, num_classes, dropout_rate):\n",
    "    inputs = layers.Input(shape=(144+(96*3)+72,), name=\"input_features\")\n",
    "    x = inputs\n",
    "    for units in hidden_units:        \n",
    "        x  = layers.Dense(units, activation=tf.nn.relu)(x)\n",
    "        x  = layers.Dropout(rate=dropout_rate)(x)\n",
    "    logits = layers.Dense(num_classes, name=\"output\")(x)\n",
    "    # Create the model.\n",
    "    return keras.Model(inputs=inputs, outputs=logits, name=\"dnn\")\n",
    "\n",
    "\n",
    "baseline_model = dnn(hidden_units, 1, 0.1)\n",
    "baseline_model.summary()"
   ]
  },
  {
   "cell_type": "code",
   "execution_count": 16,
   "metadata": {},
   "outputs": [],
   "source": [
    "def cnn(hidden_units, num_classes, dropout_rate):\n",
    "    inputs0 = layers.Input(shape=(3,96,1,), name=\"input_features_l0\")\n",
    "    inputs1 = layers.Input(shape=(12,12,1,), name=\"input_features_l1\")\n",
    "    inputs2 = layers.Input(shape=(12,6,1,), name=\"input_features_l2\")\n",
    "    cnn0 = layers.Conv2D(32, 3, activation='relu', padding='same')(inputs0)\n",
    "    cnn0 = layers.Conv2D(64, 3, activation='relu', padding='same')(cnn0)\n",
    "    cnn0 = layers.Flatten()(cnn0)\n",
    "    cnn1 = layers.Conv2D(32, 3, activation='relu', padding='same')(inputs1)\n",
    "    cnn1 = layers.Conv2D(64, 3, activation='relu', padding='same')(cnn1)\n",
    "    cnn1 = layers.Flatten()(cnn1)\n",
    "    cnn2 = layers.Conv2D(32, 3, activation='relu', padding='same')(inputs2)\n",
    "    cnn2 = layers.Conv2D(64, 3, activation='relu', padding='same')(cnn2)  \n",
    "    cnn2 = layers.Flatten()(cnn2)\n",
    "    x =  layers.Concatenate()([cnn0,cnn1,cnn2])\n",
    "    for units in hidden_units:        \n",
    "        x  = layers.Dense(units, activation=tf.nn.relu)(x)\n",
    "        x  = layers.Dropout(rate=dropout_rate)(x)\n",
    "    logits = layers.Dense(num_classes, name=\"output\")(x)\n",
    "    # Create the model.\n",
    "    return keras.Model(inputs=(inputs0,inputs1,inputs2), outputs=logits, name=\"dnn\")"
   ]
  },
  {
   "cell_type": "code",
   "execution_count": 17,
   "metadata": {},
   "outputs": [
    {
     "name": "stdout",
     "output_type": "stream",
     "text": [
      "Model: \"dnn\"\n",
      "__________________________________________________________________________________________________\n",
      " Layer (type)                   Output Shape         Param #     Connected to                     \n",
      "==================================================================================================\n",
      " input_features_l0 (InputLayer)  [(None, 3, 96, 1)]  0           []                               \n",
      "                                                                                                  \n",
      " input_features_l1 (InputLayer)  [(None, 12, 12, 1)]  0          []                               \n",
      "                                                                                                  \n",
      " input_features_l2 (InputLayer)  [(None, 12, 6, 1)]  0           []                               \n",
      "                                                                                                  \n",
      " conv2d (Conv2D)                (None, 3, 96, 32)    320         ['input_features_l0[0][0]']      \n",
      "                                                                                                  \n",
      " conv2d_2 (Conv2D)              (None, 12, 12, 32)   320         ['input_features_l1[0][0]']      \n",
      "                                                                                                  \n",
      " conv2d_4 (Conv2D)              (None, 12, 6, 32)    320         ['input_features_l2[0][0]']      \n",
      "                                                                                                  \n",
      " conv2d_1 (Conv2D)              (None, 3, 96, 64)    18496       ['conv2d[0][0]']                 \n",
      "                                                                                                  \n",
      " conv2d_3 (Conv2D)              (None, 12, 12, 64)   18496       ['conv2d_2[0][0]']               \n",
      "                                                                                                  \n",
      " conv2d_5 (Conv2D)              (None, 12, 6, 64)    18496       ['conv2d_4[0][0]']               \n",
      "                                                                                                  \n",
      " flatten (Flatten)              (None, 18432)        0           ['conv2d_1[0][0]']               \n",
      "                                                                                                  \n",
      " flatten_1 (Flatten)            (None, 9216)         0           ['conv2d_3[0][0]']               \n",
      "                                                                                                  \n",
      " flatten_2 (Flatten)            (None, 4608)         0           ['conv2d_5[0][0]']               \n",
      "                                                                                                  \n",
      " concatenate (Concatenate)      (None, 32256)        0           ['flatten[0][0]',                \n",
      "                                                                  'flatten_1[0][0]',              \n",
      "                                                                  'flatten_2[0][0]']              \n",
      "                                                                                                  \n",
      " dense_3 (Dense)                (None, 512)          16515584    ['concatenate[0][0]']            \n",
      "                                                                                                  \n",
      " dropout_3 (Dropout)            (None, 512)          0           ['dense_3[0][0]']                \n",
      "                                                                                                  \n",
      " dense_4 (Dense)                (None, 256)          131328      ['dropout_3[0][0]']              \n",
      "                                                                                                  \n",
      " dropout_4 (Dropout)            (None, 256)          0           ['dense_4[0][0]']                \n",
      "                                                                                                  \n",
      " dense_5 (Dense)                (None, 64)           16448       ['dropout_4[0][0]']              \n",
      "                                                                                                  \n",
      " dropout_5 (Dropout)            (None, 64)           0           ['dense_5[0][0]']                \n",
      "                                                                                                  \n",
      " output (Dense)                 (None, 1)            65          ['dropout_5[0][0]']              \n",
      "                                                                                                  \n",
      "==================================================================================================\n",
      "Total params: 16,719,873\n",
      "Trainable params: 16,719,873\n",
      "Non-trainable params: 0\n",
      "__________________________________________________________________________________________________\n"
     ]
    }
   ],
   "source": [
    "cnn_model = cnn(hidden_units, 1, 0.1)\n",
    "cnn_model.summary()\n"
   ]
  },
  {
   "cell_type": "code",
   "execution_count": 94,
   "metadata": {},
   "outputs": [
    {
     "name": "stdout",
     "output_type": "stream",
     "text": [
      "Epoch 1/3\n",
      "119/119 [==============================] - 258s 2s/step - loss: 0.0044 - val_loss: 0.0046\n",
      "Epoch 2/3\n",
      "119/119 [==============================] - 218s 2s/step - loss: 0.0019 - val_loss: 0.0047\n",
      "Epoch 3/3\n",
      "119/119 [==============================] - 218s 2s/step - loss: 0.0017 - val_loss: 0.0023\n"
     ]
    }
   ],
   "source": [
    "history_cnn=run_experiment(cnn_model,[layer_0_train_2D,layer_1_train_2D,layer_2_train_2D],energy_train)"
   ]
  },
  {
   "cell_type": "code",
   "execution_count": 95,
   "metadata": {},
   "outputs": [],
   "source": [
    "CNN_predict = cnn_model.predict(x=[layer_0_test_2D,layer_1_test_2D,layer_2_test2D], verbose=0)"
   ]
  },
  {
   "cell_type": "code",
   "execution_count": 22,
   "metadata": {
    "id": "PUPhTztZvza-"
   },
   "outputs": [
    {
     "name": "stdout",
     "output_type": "stream",
     "text": [
      "Epoch 1/50\n",
      "235/235 [==============================] - 6s 25ms/step - loss: 0.0031 - val_loss: 2.5392e-04\n",
      "Epoch 2/50\n",
      "235/235 [==============================] - 5s 23ms/step - loss: 0.0016 - val_loss: 1.6284e-04\n",
      "Epoch 3/50\n",
      "235/235 [==============================] - 5s 23ms/step - loss: 0.0017 - val_loss: 2.9717e-04\n",
      "Epoch 4/50\n",
      "235/235 [==============================] - 5s 23ms/step - loss: 0.0017 - val_loss: 1.7601e-04\n",
      "Epoch 5/50\n",
      "235/235 [==============================] - 5s 23ms/step - loss: 0.0017 - val_loss: 3.7682e-04\n",
      "Epoch 6/50\n",
      "235/235 [==============================] - 5s 22ms/step - loss: 0.0017 - val_loss: 1.5682e-04\n",
      "Epoch 7/50\n",
      "235/235 [==============================] - 5s 22ms/step - loss: 0.0017 - val_loss: 6.3120e-04\n",
      "Epoch 8/50\n",
      "235/235 [==============================] - 5s 22ms/step - loss: 0.0017 - val_loss: 2.2104e-04\n",
      "Epoch 9/50\n",
      "235/235 [==============================] - 5s 23ms/step - loss: 0.0016 - val_loss: 6.4041e-04\n",
      "Epoch 10/50\n",
      "235/235 [==============================] - 5s 23ms/step - loss: 0.0017 - val_loss: 6.1390e-04\n",
      "Epoch 11/50\n",
      "235/235 [==============================] - 5s 22ms/step - loss: 0.0016 - val_loss: 2.9497e-04\n",
      "Epoch 12/50\n",
      "235/235 [==============================] - 5s 23ms/step - loss: 0.0017 - val_loss: 1.8524e-04\n",
      "Epoch 13/50\n",
      "235/235 [==============================] - 5s 23ms/step - loss: 0.0016 - val_loss: 1.6093e-04\n",
      "Epoch 14/50\n",
      "235/235 [==============================] - 5s 22ms/step - loss: 0.0016 - val_loss: 4.4146e-04\n",
      "Epoch 15/50\n",
      "235/235 [==============================] - 5s 23ms/step - loss: 0.0017 - val_loss: 1.8028e-04\n",
      "Epoch 16/50\n",
      "235/235 [==============================] - 5s 22ms/step - loss: 0.0016 - val_loss: 2.2405e-04\n",
      "Epoch 17/50\n",
      "235/235 [==============================] - 5s 22ms/step - loss: 0.0016 - val_loss: 1.5394e-04\n",
      "Epoch 18/50\n",
      "235/235 [==============================] - 5s 22ms/step - loss: 0.0016 - val_loss: 1.6998e-04\n",
      "Epoch 19/50\n",
      "235/235 [==============================] - 5s 22ms/step - loss: 0.0016 - val_loss: 2.0949e-04\n",
      "Epoch 20/50\n",
      "235/235 [==============================] - 5s 23ms/step - loss: 0.0016 - val_loss: 2.2091e-04\n",
      "Epoch 21/50\n",
      "235/235 [==============================] - 5s 23ms/step - loss: 0.0016 - val_loss: 1.8588e-04\n",
      "Epoch 22/50\n",
      "235/235 [==============================] - 5s 22ms/step - loss: 0.0016 - val_loss: 1.4097e-04\n",
      "Epoch 23/50\n",
      "235/235 [==============================] - 5s 22ms/step - loss: 0.0016 - val_loss: 2.6446e-04\n",
      "Epoch 24/50\n",
      "235/235 [==============================] - 5s 22ms/step - loss: 0.0017 - val_loss: 1.3567e-04\n",
      "Epoch 25/50\n",
      "235/235 [==============================] - 5s 22ms/step - loss: 0.0016 - val_loss: 1.5217e-04\n",
      "Epoch 26/50\n",
      "235/235 [==============================] - 5s 22ms/step - loss: 0.0016 - val_loss: 1.6160e-04\n",
      "Epoch 27/50\n",
      "235/235 [==============================] - 5s 23ms/step - loss: 0.0016 - val_loss: 1.5461e-04\n",
      "Epoch 28/50\n",
      "235/235 [==============================] - 5s 22ms/step - loss: 0.0016 - val_loss: 1.7694e-04\n",
      "Epoch 29/50\n",
      "235/235 [==============================] - 5s 22ms/step - loss: 0.0016 - val_loss: 1.4395e-04\n",
      "Epoch 30/50\n",
      "235/235 [==============================] - 5s 22ms/step - loss: 0.0016 - val_loss: 1.4990e-04\n",
      "Epoch 31/50\n",
      "235/235 [==============================] - 5s 23ms/step - loss: 0.0016 - val_loss: 1.7719e-04\n",
      "Epoch 32/50\n",
      "235/235 [==============================] - 5s 22ms/step - loss: 0.0016 - val_loss: 2.2949e-04\n",
      "Epoch 33/50\n",
      "235/235 [==============================] - 5s 23ms/step - loss: 0.0016 - val_loss: 1.5287e-04\n",
      "Epoch 34/50\n",
      "235/235 [==============================] - 5s 23ms/step - loss: 0.0016 - val_loss: 1.9040e-04\n",
      "Epoch 35/50\n",
      "235/235 [==============================] - 5s 22ms/step - loss: 0.0016 - val_loss: 2.8373e-04\n",
      "Epoch 36/50\n",
      "235/235 [==============================] - 5s 23ms/step - loss: 0.0016 - val_loss: 3.4078e-04\n",
      "Epoch 37/50\n",
      "235/235 [==============================] - 5s 23ms/step - loss: 0.0016 - val_loss: 1.3874e-04\n",
      "Epoch 38/50\n",
      "235/235 [==============================] - 5s 22ms/step - loss: 0.0015 - val_loss: 6.7876e-05\n",
      "Epoch 39/50\n",
      "235/235 [==============================] - 5s 23ms/step - loss: 0.0012 - val_loss: 2.2274e-04\n",
      "Epoch 40/50\n",
      "235/235 [==============================] - 5s 22ms/step - loss: 0.0010 - val_loss: 5.8817e-05\n",
      "Epoch 41/50\n",
      "235/235 [==============================] - 5s 22ms/step - loss: 9.5879e-04 - val_loss: 4.4139e-04\n",
      "Epoch 42/50\n",
      "235/235 [==============================] - 5s 22ms/step - loss: 9.3747e-04 - val_loss: 5.7319e-05\n",
      "Epoch 43/50\n",
      "235/235 [==============================] - 5s 22ms/step - loss: 9.2653e-04 - val_loss: 1.0718e-04\n",
      "Epoch 44/50\n",
      "235/235 [==============================] - 5s 22ms/step - loss: 9.3648e-04 - val_loss: 1.0116e-04\n",
      "Epoch 45/50\n",
      "235/235 [==============================] - 5s 22ms/step - loss: 9.2368e-04 - val_loss: 7.4389e-05\n",
      "Epoch 46/50\n",
      "235/235 [==============================] - 5s 23ms/step - loss: 9.0907e-04 - val_loss: 1.2928e-04\n",
      "Epoch 47/50\n",
      "235/235 [==============================] - 5s 23ms/step - loss: 9.3326e-04 - val_loss: 9.2700e-05\n",
      "Epoch 48/50\n",
      "235/235 [==============================] - 5s 22ms/step - loss: 9.0645e-04 - val_loss: 2.8155e-04\n",
      "Epoch 49/50\n",
      "235/235 [==============================] - 5s 22ms/step - loss: 9.3031e-04 - val_loss: 8.5508e-05\n",
      "Epoch 50/50\n",
      "235/235 [==============================] - 5s 22ms/step - loss: 9.2091e-04 - val_loss: 3.1975e-04\n"
     ]
    }
   ],
   "source": [
    "x_train=lc1_train\n",
    "\n",
    "y_train=energy_train\n",
    "x=run_experiment(baseline_model, x_train, y_train)"
   ]
  },
  {
   "cell_type": "code",
   "execution_count": 23,
   "metadata": {
    "id": "267imLDtGgt2"
   },
   "outputs": [
    {
     "name": "stdout",
     "output_type": "stream",
     "text": [
      "10097.97740604293 10205.808976085407\n"
     ]
    }
   ],
   "source": [
    "def check_data(n):\n",
    "  x=np.sum(layer_0_test[n])*nrm_l0+np.sum(layer_1_test[n])*nrm_l1+np.sum(layer_2_test[n])*nrm_l2\n",
    "  y=energy_test[n]*nrm_e*1000\n",
    "  print(x,y)\n",
    "check_data(5)\n",
    "\n"
   ]
  },
  {
   "cell_type": "code",
   "execution_count": 24,
   "metadata": {
    "id": "UIuXNHgz57XC"
   },
   "outputs": [
    {
     "data": {
      "text/plain": [
       "(300000, 288)"
      ]
     },
     "execution_count": 24,
     "metadata": {},
     "output_type": "execute_result"
    }
   ],
   "source": [
    "layer_0_train.shape\n"
   ]
  },
  {
   "cell_type": "code",
   "execution_count": 96,
   "metadata": {
    "id": "64s3HBLVmxJl"
   },
   "outputs": [],
   "source": [
    "def display_learning_curves(history):\n",
    "    fig, (ax1) = plt.subplots(1, 1, figsize=(5, 5))\n",
    "\n",
    "    ax1.plot(history.history[\"loss\"])\n",
    "    ax1.plot(history.history[\"val_loss\"])\n",
    "    ax1.legend([\"train\", \"test\"], loc=\"upper right\")\n",
    "    ax1.set_xlabel(\"Epochs\")\n",
    "    ax1.set_ylabel(\"loss\")\n",
    "    plt.ylim(top  = 0.0001, bottom = 0.0)\n",
    " #   ax2.plot(history.history[\"loss\"])\n",
    " #   ax2.plot(history.history[\"mse\"])\n",
    " #   ax2.legend([\"train\", \"test\"], loc=\"upper right\")\n",
    " #   ax2.set_xlabel(\"Epochs\")\n",
    " #   ax2.set_ylabel(\"loss\")\n",
    "    plt.show()\n"
   ]
  },
  {
   "cell_type": "code",
   "execution_count": 99,
   "metadata": {},
   "outputs": [
    {
     "data": {
      "image/png": "[encoded data removed]",
      "text/plain": [
       "<Figure size 360x360 with 1 Axes>"
      ]
     },
     "metadata": {
      "needs_background": "light"
     },
     "output_type": "display_data"
    }
   ],
   "source": [
    "display_learning_curves(x)"
   ]
  },
  {
   "cell_type": "code",
   "execution_count": 26,
   "metadata": {
    "id": "BW0EWDIQ6Rhd"
   },
   "outputs": [],
   "source": [
    "label_predict = baseline_model.predict(x=lc1_test, verbose=0)"
   ]
  },
  {
   "cell_type": "code",
   "execution_count": 27,
   "metadata": {},
   "outputs": [
    {
     "data": {
      "text/plain": [
       "(array([5879., 2466., 2389., 2370., 2423., 2375., 2333., 2332., 2355.,\n",
       "        2373., 2328., 2425., 2391., 2356., 2191., 2212., 2049., 1879.,\n",
       "        1800., 1695., 2306., 2091., 1814., 1709., 1478., 1408., 1318.,\n",
       "        1801., 1919., 1747., 1724., 1553., 1724., 1612., 1486., 1395.,\n",
       "        1518., 1419., 2316., 2424., 2257., 2179., 2058., 2032., 2018.,\n",
       "        2151., 2027., 2050., 2067., 2029., 2006., 2034., 2063., 2083.,\n",
       "        2080., 2020., 2016., 2013., 2011., 2084., 2027., 2080., 2058.,\n",
       "        2000., 2017., 2022., 2042., 2030., 2063., 2057., 2017., 1976.,\n",
       "        1977., 1982., 2082., 2012., 2064., 2013., 1993., 2058., 1922.,\n",
       "        2080., 1998., 1970., 2009., 2028., 2023., 2076., 2082., 1984.,\n",
       "        2083., 2024., 2011., 2096., 1994., 1971., 1713.,  611.,   85.,\n",
       "           9.]),\n",
       " array([0.02938208, 0.03914894, 0.0489158 , 0.05868267, 0.06844953,\n",
       "        0.0782164 , 0.08798326, 0.09775012, 0.10751698, 0.11728384,\n",
       "        0.12705071, 0.13681757, 0.14658444, 0.1563513 , 0.16611816,\n",
       "        0.17588502, 0.18565188, 0.19541875, 0.2051856 , 0.21495247,\n",
       "        0.22471933, 0.23448619, 0.24425305, 0.25401992, 0.2637868 ,\n",
       "        0.27355364, 0.28332052, 0.29308736, 0.30285424, 0.3126211 ,\n",
       "        0.32238796, 0.3321548 , 0.3419217 , 0.35168853, 0.3614554 ,\n",
       "        0.3712223 , 0.38098913, 0.390756  , 0.40052286, 0.41028973,\n",
       "        0.42005658, 0.42982346, 0.4395903 , 0.44935718, 0.45912403,\n",
       "        0.4688909 , 0.47865775, 0.48842463, 0.49819148, 0.50795835,\n",
       "        0.5177252 , 0.5274921 , 0.5372589 , 0.5470258 , 0.5567927 ,\n",
       "        0.56655955, 0.5763264 , 0.58609325, 0.5958601 , 0.605627  ,\n",
       "        0.6153938 , 0.6251607 , 0.6349276 , 0.64469445, 0.65446126,\n",
       "        0.66422814, 0.673995  , 0.6837619 , 0.6935288 , 0.7032956 ,\n",
       "        0.71306247, 0.72282934, 0.7325962 , 0.74236304, 0.7521299 ,\n",
       "        0.7618968 , 0.77166367, 0.7814305 , 0.79119736, 0.80096424,\n",
       "        0.8107311 , 0.82049793, 0.8302648 , 0.8400317 , 0.84979856,\n",
       "        0.85956544, 0.86933225, 0.87909913, 0.888866  , 0.8986329 ,\n",
       "        0.9083997 , 0.9181666 , 0.92793345, 0.93770033, 0.94746715,\n",
       "        0.957234  , 0.9670009 , 0.9767678 , 0.9865346 , 0.9963015 ,\n",
       "        1.0060683 ], dtype=float32),\n",
       " <BarContainer object of 100 artists>)"
      ]
     },
     "execution_count": 27,
     "metadata": {},
     "output_type": "execute_result"
    },
    {
     "data": {
      "image/png": "[encoded data removed]",
      "text/plain": [
       "<Figure size 360x360 with 1 Axes>"
      ]
     },
     "metadata": {
      "needs_background": "light"
     },
     "output_type": "display_data"
    }
   ],
   "source": [
    "energy = np.array(energy)\n",
    "label_predict = np.array(label_predict)\n",
    "fig, ax = plt.subplots(1,1,figsize=[5,5])\n",
    "\n",
    "ax.hist(energy,bins= 100) \n",
    "ax.hist(label_predict,bins= 100) \n"
   ]
  },
  {
   "cell_type": "code",
   "execution_count": 100,
   "metadata": {},
   "outputs": [
    {
     "name": "stdout",
     "output_type": "stream",
     "text": [
      "104028\n",
      "145430\n",
      "0.1286134271592536\n",
      "0.012249898073222111\n",
      "-0.02961316627604381\n",
      "-6.856688916029345e-06\n"
     ]
    }
   ],
   "source": [
    "label_predict = label_predict.reshape(label_predict.shape[0])\n",
    "energy_cut  = 0 / (nrm_e * 1000)\n",
    "diff_pred = (label_predict[energy_test>energy_cut] - energy_test[energy_test>energy_cut])/ energy_test[energy_test>energy_cut]\n",
    "diff_sum = (np.sum(layer_0_test[energy_test>energy_cut],axis=1)*nrm_l0+np.sum(layer_1_test[energy_test>energy_cut],axis=1)*nrm_l1+np.sum(layer_2_test[energy_test>energy_cut],axis=1)*nrm_l2 - energy_test[energy_test>energy_cut]*nrm_e*1000 + 0.0068*energy_test[energy_test>energy_cut]*nrm_e*1000)/(energy_test[energy_test>energy_cut]*nrm_e*1000)\n",
    "print(np.argmin(diff_sum))\n",
    "print(np.sum(diff_sum>0))\n",
    "\n",
    "print(np.std(diff_pred))\n",
    "print(np.std(diff_sum))\n",
    "print(np.mean(diff_pred))\n",
    "print(np.mean(diff_sum))"
   ]
  },
  {
   "cell_type": "code",
   "execution_count": 113,
   "metadata": {},
   "outputs": [
    {
     "name": "stdout",
     "output_type": "stream",
     "text": [
      "[0.12222305] 0.11433707755961368 0.11397373110548398\n"
     ]
    }
   ],
   "source": [
    "\n",
    "def check_predict(n):\n",
    "    print(CNN_predict[n], energy_test[n], (diff_sum[n]*energy_test[n]*nrm_e+energy_test[n]*nrm_e)/100)\n",
    "check_predict(20)"
   ]
  },
  {
   "cell_type": "code",
   "execution_count": 103,
   "metadata": {},
   "outputs": [],
   "source": [
    "Cnn_nparr=np.array([CNN_predict]).reshape(200000)"
   ]
  },
  {
   "cell_type": "code",
   "execution_count": 104,
   "metadata": {},
   "outputs": [
    {
     "data": {
      "text/plain": [
       "(array([1.0000e+00, 0.0000e+00, 1.0000e+00, 0.0000e+00, 0.0000e+00,\n",
       "        1.0000e+00, 0.0000e+00, 1.0000e+00, 0.0000e+00, 0.0000e+00,\n",
       "        0.0000e+00, 0.0000e+00, 1.0000e+00, 1.0000e+00, 1.0000e+00,\n",
       "        0.0000e+00, 0.0000e+00, 2.0000e+00, 0.0000e+00, 1.0000e+00,\n",
       "        2.0000e+00, 4.0000e+00, 1.0000e+00, 1.0000e+00, 0.0000e+00,\n",
       "        1.0000e+00, 1.0000e+00, 0.0000e+00, 1.0000e+00, 1.0000e+00,\n",
       "        0.0000e+00, 1.0000e+00, 0.0000e+00, 0.0000e+00, 0.0000e+00,\n",
       "        0.0000e+00, 0.0000e+00, 0.0000e+00, 1.0000e+00, 0.0000e+00,\n",
       "        0.0000e+00, 1.0000e+00, 0.0000e+00, 1.0000e+00, 1.0000e+00,\n",
       "        1.0000e+00, 1.0000e+00, 0.0000e+00, 0.0000e+00, 0.0000e+00,\n",
       "        0.0000e+00, 1.0000e+00, 0.0000e+00, 1.0000e+00, 1.0000e+00,\n",
       "        2.0000e+00, 0.0000e+00, 1.0000e+00, 0.0000e+00, 2.0000e+00,\n",
       "        1.0000e+00, 1.0000e+00, 2.0000e+00, 1.0000e+00, 1.0000e+00,\n",
       "        0.0000e+00, 2.0000e+00, 0.0000e+00, 0.0000e+00, 1.0000e+00,\n",
       "        1.0000e+00, 1.0000e+00, 2.0000e+00, 0.0000e+00, 1.0000e+00,\n",
       "        1.0000e+00, 1.0000e+00, 2.0000e+00, 1.0000e+00, 0.0000e+00,\n",
       "        1.0000e+00, 1.0000e+00, 1.0000e+00, 0.0000e+00, 0.0000e+00,\n",
       "        0.0000e+00, 3.0000e+00, 1.0000e+00, 1.0000e+00, 0.0000e+00,\n",
       "        1.0000e+00, 0.0000e+00, 2.0000e+00, 0.0000e+00, 0.0000e+00,\n",
       "        0.0000e+00, 2.0000e+00, 1.0000e+00, 1.0000e+00, 2.0000e+00,\n",
       "        2.0000e+00, 4.0000e+00, 2.0000e+00, 1.0000e+00, 3.0000e+00,\n",
       "        4.0000e+00, 3.0000e+00, 0.0000e+00, 3.0000e+00, 0.0000e+00,\n",
       "        4.0000e+00, 4.0000e+00, 3.0000e+00, 4.0000e+00, 4.0000e+00,\n",
       "        4.0000e+00, 3.0000e+00, 6.0000e+00, 5.0000e+00, 1.1000e+01,\n",
       "        1.1000e+01, 1.3000e+01, 1.3000e+01, 1.3000e+01, 1.3000e+01,\n",
       "        1.5000e+01, 1.8000e+01, 2.3000e+01, 2.5000e+01, 2.5000e+01,\n",
       "        3.0000e+01, 2.9000e+01, 4.4000e+01, 6.0000e+01, 5.6000e+01,\n",
       "        6.8000e+01, 8.1000e+01, 1.1400e+02, 1.7400e+02, 3.0100e+02,\n",
       "        6.5600e+02, 2.0980e+03, 6.8010e+03, 1.4242e+04, 1.9467e+04,\n",
       "        2.0245e+04, 1.8139e+04, 1.4634e+04, 1.2755e+04, 1.1258e+04,\n",
       "        9.3850e+03, 7.2490e+03, 5.5610e+03, 4.7010e+03, 4.1100e+03,\n",
       "        3.4030e+03, 3.0780e+03, 2.7280e+03, 2.4880e+03, 2.2980e+03,\n",
       "        2.1230e+03, 1.9760e+03, 1.8590e+03, 1.7640e+03, 1.7470e+03,\n",
       "        1.7020e+03, 1.7180e+03, 1.5760e+03, 1.5710e+03, 1.4410e+03,\n",
       "        1.4610e+03, 1.2930e+03, 1.1640e+03, 1.0850e+03, 9.4200e+02,\n",
       "        8.3600e+02, 7.9800e+02, 6.8000e+02, 6.3500e+02, 5.7200e+02,\n",
       "        4.7500e+02, 4.0000e+02, 3.9700e+02, 3.3400e+02, 2.7300e+02,\n",
       "        2.3900e+02, 1.9700e+02, 1.7800e+02, 1.6700e+02, 1.3500e+02,\n",
       "        1.2600e+02, 1.1600e+02, 8.3000e+01, 8.1000e+01, 5.6000e+01,\n",
       "        6.1000e+01, 7.2000e+01, 6.0000e+01, 4.3000e+01, 4.0000e+01,\n",
       "        4.9000e+01, 3.0000e+01, 3.6000e+01, 4.0000e+01, 2.7000e+01,\n",
       "        3.6000e+01, 3.2000e+01, 2.8000e+01, 2.6000e+01, 2.3000e+01,\n",
       "        2.5000e+01, 2.1000e+01, 2.2000e+01, 1.2000e+01, 1.9000e+01,\n",
       "        1.5000e+01, 1.6000e+01, 1.3000e+01, 2.4000e+01, 1.7000e+01,\n",
       "        2.6000e+01, 2.2000e+01, 2.2000e+01, 2.1000e+01, 2.7000e+01,\n",
       "        2.7000e+01, 2.2000e+01, 1.3000e+01, 1.8000e+01, 2.1000e+01,\n",
       "        1.8000e+01, 2.6000e+01, 1.7000e+01, 1.5000e+01, 1.9000e+01,\n",
       "        1.3000e+01, 1.9000e+01, 1.4000e+01, 1.2000e+01, 1.1000e+01,\n",
       "        2.0000e+01, 1.6000e+01, 1.2000e+01, 2.5000e+01, 2.3000e+01,\n",
       "        1.3000e+01, 1.2000e+01, 1.7000e+01, 1.6000e+01, 2.1000e+01,\n",
       "        1.8000e+01, 8.0000e+00, 1.2000e+01, 1.2000e+01, 1.6000e+01,\n",
       "        8.0000e+00, 1.9000e+01, 1.2000e+01, 1.2000e+01, 1.7000e+01,\n",
       "        1.4000e+01, 1.1000e+01, 9.0000e+00, 1.3000e+01, 1.3000e+01,\n",
       "        1.6000e+01, 1.0000e+01, 7.0000e+00, 1.6000e+01, 2.2000e+01,\n",
       "        1.0000e+01, 1.4000e+01, 1.7000e+01, 1.1000e+01, 9.0000e+00,\n",
       "        1.9000e+01, 7.0000e+00, 1.0000e+01, 1.1000e+01, 1.6000e+01,\n",
       "        1.2000e+01, 1.5000e+01, 1.5000e+01, 1.2000e+01, 1.1000e+01,\n",
       "        1.1000e+01, 1.4000e+01, 1.4000e+01, 7.0000e+00, 1.3000e+01,\n",
       "        1.1000e+01, 1.0000e+01, 1.4000e+01, 1.8000e+01, 6.0000e+00,\n",
       "        7.0000e+00, 1.1000e+01, 6.0000e+00, 9.0000e+00, 1.0000e+01,\n",
       "        1.1000e+01, 1.2000e+01, 7.0000e+00, 1.3000e+01, 1.0000e+01,\n",
       "        9.0000e+00, 1.2000e+01, 7.0000e+00, 9.0000e+00, 8.0000e+00,\n",
       "        1.0000e+01, 9.0000e+00, 5.0000e+00, 8.0000e+00, 9.0000e+00,\n",
       "        8.0000e+00, 1.6000e+01, 8.0000e+00, 1.1000e+01, 9.0000e+00,\n",
       "        8.0000e+00, 1.0000e+01, 8.0000e+00, 1.2000e+01, 8.0000e+00,\n",
       "        6.0000e+00, 6.0000e+00, 3.0000e+00, 1.4000e+01, 1.0000e+01,\n",
       "        1.0000e+01, 8.0000e+00, 7.0000e+00, 1.3000e+01, 6.0000e+00,\n",
       "        1.1000e+01, 1.0000e+01, 7.0000e+00, 1.0000e+01, 8.0000e+00,\n",
       "        6.0000e+00, 9.0000e+00, 7.0000e+00, 1.0000e+01, 1.0000e+01,\n",
       "        1.0000e+01, 1.5000e+01, 1.0000e+01, 1.1000e+01, 9.0000e+00,\n",
       "        9.0000e+00, 7.0000e+00, 6.0000e+00, 1.5000e+01, 6.0000e+00,\n",
       "        9.0000e+00, 1.0000e+00, 1.0000e+01, 9.0000e+00, 5.0000e+00,\n",
       "        4.0000e+00, 1.1000e+01, 8.0000e+00, 1.0000e+01, 4.0000e+00,\n",
       "        9.0000e+00, 1.0000e+01, 8.0000e+00, 7.0000e+00, 5.0000e+00,\n",
       "        3.0000e+00, 1.0000e+01, 4.0000e+00, 6.0000e+00, 7.0000e+00,\n",
       "        1.3000e+01, 8.0000e+00, 2.0000e+00, 6.0000e+00, 6.0000e+00,\n",
       "        1.0000e+01, 5.0000e+00, 5.0000e+00, 4.0000e+00, 5.0000e+00,\n",
       "        8.0000e+00, 3.0000e+00, 4.0000e+00, 8.0000e+00, 7.0000e+00,\n",
       "        5.0000e+00, 1.0000e+01, 7.0000e+00, 6.0000e+00, 8.0000e+00,\n",
       "        6.0000e+00, 1.0000e+01, 2.0000e+00, 4.0000e+00, 6.0000e+00,\n",
       "        1.0000e+00, 8.0000e+00, 1.0000e+01, 7.0000e+00, 5.0000e+00,\n",
       "        6.0000e+00, 1.0000e+00, 6.0000e+00, 8.0000e+00, 6.0000e+00,\n",
       "        4.0000e+00, 5.0000e+00, 6.0000e+00, 1.0000e+01, 7.0000e+00,\n",
       "        4.0000e+00, 8.0000e+00, 1.0000e+01, 6.0000e+00, 1.0000e+00,\n",
       "        7.0000e+00, 1.0000e+00, 4.0000e+00, 2.0000e+00, 3.0000e+00,\n",
       "        5.0000e+00, 4.0000e+00, 5.0000e+00, 6.0000e+00, 6.0000e+00,\n",
       "        7.0000e+00, 1.0000e+01, 3.0000e+00, 5.0000e+00, 6.0000e+00,\n",
       "        1.0000e+01, 6.0000e+00, 4.0000e+00, 4.0000e+00, 6.0000e+00,\n",
       "        4.0000e+00, 1.0000e+00, 9.0000e+00, 2.0000e+00, 3.0000e+00,\n",
       "        5.0000e+00, 1.0000e+00, 4.0000e+00, 3.0000e+00, 5.0000e+00,\n",
       "        7.0000e+00, 5.0000e+00, 4.0000e+00, 6.0000e+00, 6.0000e+00,\n",
       "        9.0000e+00, 5.0000e+00, 7.0000e+00, 6.0000e+00, 3.0000e+00,\n",
       "        1.0000e+00, 5.0000e+00, 3.0000e+00, 2.0000e+00, 4.0000e+00,\n",
       "        3.0000e+00, 5.0000e+00, 3.0000e+00, 5.0000e+00, 4.0000e+00,\n",
       "        5.0000e+00, 7.0000e+00, 3.0000e+00, 6.0000e+00, 3.0000e+00,\n",
       "        5.0000e+00, 7.0000e+00, 2.0000e+00, 1.0000e+00, 5.0000e+00,\n",
       "        2.0000e+00, 5.0000e+00, 2.0000e+00, 3.0000e+00, 4.0000e+00,\n",
       "        4.0000e+00, 7.0000e+00, 7.0000e+00, 3.0000e+00, 3.0000e+00,\n",
       "        5.0000e+00, 4.0000e+00, 4.0000e+00, 4.0000e+00, 4.0000e+00,\n",
       "        5.0000e+00, 5.0000e+00, 1.0000e+00, 0.0000e+00, 2.0000e+00]),\n",
       " array([-9.07664473e-01, -9.01982552e-01, -8.96300631e-01, -8.90618710e-01,\n",
       "        -8.84936788e-01, -8.79254867e-01, -8.73572946e-01, -8.67891025e-01,\n",
       "        -8.62209104e-01, -8.56527183e-01, -8.50845261e-01, -8.45163340e-01,\n",
       "        -8.39481419e-01, -8.33799498e-01, -8.28117577e-01, -8.22435656e-01,\n",
       "        -8.16753735e-01, -8.11071813e-01, -8.05389892e-01, -7.99707971e-01,\n",
       "        -7.94026050e-01, -7.88344129e-01, -7.82662208e-01, -7.76980286e-01,\n",
       "        -7.71298365e-01, -7.65616444e-01, -7.59934523e-01, -7.54252602e-01,\n",
       "        -7.48570681e-01, -7.42888759e-01, -7.37206838e-01, -7.31524917e-01,\n",
       "        -7.25842996e-01, -7.20161075e-01, -7.14479154e-01, -7.08797232e-01,\n",
       "        -7.03115311e-01, -6.97433390e-01, -6.91751469e-01, -6.86069548e-01,\n",
       "        -6.80387627e-01, -6.74705706e-01, -6.69023784e-01, -6.63341863e-01,\n",
       "        -6.57659942e-01, -6.51978021e-01, -6.46296100e-01, -6.40614179e-01,\n",
       "        -6.34932257e-01, -6.29250336e-01, -6.23568415e-01, -6.17886494e-01,\n",
       "        -6.12204573e-01, -6.06522652e-01, -6.00840730e-01, -5.95158809e-01,\n",
       "        -5.89476888e-01, -5.83794967e-01, -5.78113046e-01, -5.72431125e-01,\n",
       "        -5.66749203e-01, -5.61067282e-01, -5.55385361e-01, -5.49703440e-01,\n",
       "        -5.44021519e-01, -5.38339598e-01, -5.32657677e-01, -5.26975755e-01,\n",
       "        -5.21293834e-01, -5.15611913e-01, -5.09929992e-01, -5.04248071e-01,\n",
       "        -4.98566150e-01, -4.92884228e-01, -4.87202307e-01, -4.81520386e-01,\n",
       "        -4.75838465e-01, -4.70156544e-01, -4.64474623e-01, -4.58792701e-01,\n",
       "        -4.53110780e-01, -4.47428859e-01, -4.41746938e-01, -4.36065017e-01,\n",
       "        -4.30383096e-01, -4.24701174e-01, -4.19019253e-01, -4.13337332e-01,\n",
       "        -4.07655411e-01, -4.01973490e-01, -3.96291569e-01, -3.90609647e-01,\n",
       "        -3.84927726e-01, -3.79245805e-01, -3.73563884e-01, -3.67881963e-01,\n",
       "        -3.62200042e-01, -3.56518121e-01, -3.50836199e-01, -3.45154278e-01,\n",
       "        -3.39472357e-01, -3.33790436e-01, -3.28108515e-01, -3.22426594e-01,\n",
       "        -3.16744672e-01, -3.11062751e-01, -3.05380830e-01, -2.99698909e-01,\n",
       "        -2.94016988e-01, -2.88335067e-01, -2.82653145e-01, -2.76971224e-01,\n",
       "        -2.71289303e-01, -2.65607382e-01, -2.59925461e-01, -2.54243540e-01,\n",
       "        -2.48561618e-01, -2.42879697e-01, -2.37197776e-01, -2.31515855e-01,\n",
       "        -2.25833934e-01, -2.20152013e-01, -2.14470092e-01, -2.08788170e-01,\n",
       "        -2.03106249e-01, -1.97424328e-01, -1.91742407e-01, -1.86060486e-01,\n",
       "        -1.80378565e-01, -1.74696643e-01, -1.69014722e-01, -1.63332801e-01,\n",
       "        -1.57650880e-01, -1.51968959e-01, -1.46287038e-01, -1.40605116e-01,\n",
       "        -1.34923195e-01, -1.29241274e-01, -1.23559353e-01, -1.17877432e-01,\n",
       "        -1.12195511e-01, -1.06513589e-01, -1.00831668e-01, -9.51497472e-02,\n",
       "        -8.94678260e-02, -8.37859048e-02, -7.81039837e-02, -7.24220625e-02,\n",
       "        -6.67401414e-02, -6.10582202e-02, -5.53762990e-02, -4.96943779e-02,\n",
       "        -4.40124567e-02, -3.83305356e-02, -3.26486144e-02, -2.69666932e-02,\n",
       "        -2.12847721e-02, -1.56028509e-02, -9.92092975e-03, -4.23900859e-03,\n",
       "         1.44291257e-03,  7.12483373e-03,  1.28067549e-02,  1.84886760e-02,\n",
       "         2.41705972e-02,  2.98525184e-02,  3.55344395e-02,  4.12163607e-02,\n",
       "         4.68982818e-02,  5.25802030e-02,  5.82621242e-02,  6.39440453e-02,\n",
       "         6.96259665e-02,  7.53078876e-02,  8.09898088e-02,  8.66717300e-02,\n",
       "         9.23536511e-02,  9.80355723e-02,  1.03717493e-01,  1.09399415e-01,\n",
       "         1.15081336e-01,  1.20763257e-01,  1.26445178e-01,  1.32127099e-01,\n",
       "         1.37809020e-01,  1.43490942e-01,  1.49172863e-01,  1.54854784e-01,\n",
       "         1.60536705e-01,  1.66218626e-01,  1.71900547e-01,  1.77582469e-01,\n",
       "         1.83264390e-01,  1.88946311e-01,  1.94628232e-01,  2.00310153e-01,\n",
       "         2.05992074e-01,  2.11673995e-01,  2.17355917e-01,  2.23037838e-01,\n",
       "         2.28719759e-01,  2.34401680e-01,  2.40083601e-01,  2.45765522e-01,\n",
       "         2.51447444e-01,  2.57129365e-01,  2.62811286e-01,  2.68493207e-01,\n",
       "         2.74175128e-01,  2.79857049e-01,  2.85538971e-01,  2.91220892e-01,\n",
       "         2.96902813e-01,  3.02584734e-01,  3.08266655e-01,  3.13948576e-01,\n",
       "         3.19630498e-01,  3.25312419e-01,  3.30994340e-01,  3.36676261e-01,\n",
       "         3.42358182e-01,  3.48040103e-01,  3.53722025e-01,  3.59403946e-01,\n",
       "         3.65085867e-01,  3.70767788e-01,  3.76449709e-01,  3.82131630e-01,\n",
       "         3.87813551e-01,  3.93495473e-01,  3.99177394e-01,  4.04859315e-01,\n",
       "         4.10541236e-01,  4.16223157e-01,  4.21905078e-01,  4.27587000e-01,\n",
       "         4.33268921e-01,  4.38950842e-01,  4.44632763e-01,  4.50314684e-01,\n",
       "         4.55996605e-01,  4.61678527e-01,  4.67360448e-01,  4.73042369e-01,\n",
       "         4.78724290e-01,  4.84406211e-01,  4.90088132e-01,  4.95770054e-01,\n",
       "         5.01451975e-01,  5.07133896e-01,  5.12815817e-01,  5.18497738e-01,\n",
       "         5.24179659e-01,  5.29861580e-01,  5.35543502e-01,  5.41225423e-01,\n",
       "         5.46907344e-01,  5.52589265e-01,  5.58271186e-01,  5.63953107e-01,\n",
       "         5.69635029e-01,  5.75316950e-01,  5.80998871e-01,  5.86680792e-01,\n",
       "         5.92362713e-01,  5.98044634e-01,  6.03726556e-01,  6.09408477e-01,\n",
       "         6.15090398e-01,  6.20772319e-01,  6.26454240e-01,  6.32136161e-01,\n",
       "         6.37818083e-01,  6.43500004e-01,  6.49181925e-01,  6.54863846e-01,\n",
       "         6.60545767e-01,  6.66227688e-01,  6.71909609e-01,  6.77591531e-01,\n",
       "         6.83273452e-01,  6.88955373e-01,  6.94637294e-01,  7.00319215e-01,\n",
       "         7.06001136e-01,  7.11683058e-01,  7.17364979e-01,  7.23046900e-01,\n",
       "         7.28728821e-01,  7.34410742e-01,  7.40092663e-01,  7.45774585e-01,\n",
       "         7.51456506e-01,  7.57138427e-01,  7.62820348e-01,  7.68502269e-01,\n",
       "         7.74184190e-01,  7.79866112e-01,  7.85548033e-01,  7.91229954e-01,\n",
       "         7.96911875e-01,  8.02593796e-01,  8.08275717e-01,  8.13957638e-01,\n",
       "         8.19639560e-01,  8.25321481e-01,  8.31003402e-01,  8.36685323e-01,\n",
       "         8.42367244e-01,  8.48049165e-01,  8.53731087e-01,  8.59413008e-01,\n",
       "         8.65094929e-01,  8.70776850e-01,  8.76458771e-01,  8.82140692e-01,\n",
       "         8.87822614e-01,  8.93504535e-01,  8.99186456e-01,  9.04868377e-01,\n",
       "         9.10550298e-01,  9.16232219e-01,  9.21914141e-01,  9.27596062e-01,\n",
       "         9.33277983e-01,  9.38959904e-01,  9.44641825e-01,  9.50323746e-01,\n",
       "         9.56005667e-01,  9.61687589e-01,  9.67369510e-01,  9.73051431e-01,\n",
       "         9.78733352e-01,  9.84415273e-01,  9.90097194e-01,  9.95779116e-01,\n",
       "         1.00146104e+00,  1.00714296e+00,  1.01282488e+00,  1.01850680e+00,\n",
       "         1.02418872e+00,  1.02987064e+00,  1.03555256e+00,  1.04123448e+00,\n",
       "         1.04691641e+00,  1.05259833e+00,  1.05828025e+00,  1.06396217e+00,\n",
       "         1.06964409e+00,  1.07532601e+00,  1.08100793e+00,  1.08668985e+00,\n",
       "         1.09237178e+00,  1.09805370e+00,  1.10373562e+00,  1.10941754e+00,\n",
       "         1.11509946e+00,  1.12078138e+00,  1.12646330e+00,  1.13214522e+00,\n",
       "         1.13782714e+00,  1.14350907e+00,  1.14919099e+00,  1.15487291e+00,\n",
       "         1.16055483e+00,  1.16623675e+00,  1.17191867e+00,  1.17760059e+00,\n",
       "         1.18328251e+00,  1.18896444e+00,  1.19464636e+00,  1.20032828e+00,\n",
       "         1.20601020e+00,  1.21169212e+00,  1.21737404e+00,  1.22305596e+00,\n",
       "         1.22873788e+00,  1.23441980e+00,  1.24010173e+00,  1.24578365e+00,\n",
       "         1.25146557e+00,  1.25714749e+00,  1.26282941e+00,  1.26851133e+00,\n",
       "         1.27419325e+00,  1.27987517e+00,  1.28555709e+00,  1.29123902e+00,\n",
       "         1.29692094e+00,  1.30260286e+00,  1.30828478e+00,  1.31396670e+00,\n",
       "         1.31964862e+00,  1.32533054e+00,  1.33101246e+00,  1.33669439e+00,\n",
       "         1.34237631e+00,  1.34805823e+00,  1.35374015e+00,  1.35942207e+00,\n",
       "         1.36510399e+00,  1.37078591e+00,  1.37646783e+00,  1.38214975e+00,\n",
       "         1.38783168e+00,  1.39351360e+00,  1.39919552e+00,  1.40487744e+00,\n",
       "         1.41055936e+00,  1.41624128e+00,  1.42192320e+00,  1.42760512e+00,\n",
       "         1.43328704e+00,  1.43896897e+00,  1.44465089e+00,  1.45033281e+00,\n",
       "         1.45601473e+00,  1.46169665e+00,  1.46737857e+00,  1.47306049e+00,\n",
       "         1.47874241e+00,  1.48442434e+00,  1.49010626e+00,  1.49578818e+00,\n",
       "         1.50147010e+00,  1.50715202e+00,  1.51283394e+00,  1.51851586e+00,\n",
       "         1.52419778e+00,  1.52987970e+00,  1.53556163e+00,  1.54124355e+00,\n",
       "         1.54692547e+00,  1.55260739e+00,  1.55828931e+00,  1.56397123e+00,\n",
       "         1.56965315e+00,  1.57533507e+00,  1.58101700e+00,  1.58669892e+00,\n",
       "         1.59238084e+00,  1.59806276e+00,  1.60374468e+00,  1.60942660e+00,\n",
       "         1.61510852e+00,  1.62079044e+00,  1.62647236e+00,  1.63215429e+00,\n",
       "         1.63783621e+00,  1.64351813e+00,  1.64920005e+00,  1.65488197e+00,\n",
       "         1.66056389e+00,  1.66624581e+00,  1.67192773e+00,  1.67760965e+00,\n",
       "         1.68329158e+00,  1.68897350e+00,  1.69465542e+00,  1.70033734e+00,\n",
       "         1.70601926e+00,  1.71170118e+00,  1.71738310e+00,  1.72306502e+00,\n",
       "         1.72874695e+00,  1.73442887e+00,  1.74011079e+00,  1.74579271e+00,\n",
       "         1.75147463e+00,  1.75715655e+00,  1.76283847e+00,  1.76852039e+00,\n",
       "         1.77420231e+00,  1.77988424e+00,  1.78556616e+00,  1.79124808e+00,\n",
       "         1.79693000e+00,  1.80261192e+00,  1.80829384e+00,  1.81397576e+00,\n",
       "         1.81965768e+00,  1.82533961e+00,  1.83102153e+00,  1.83670345e+00,\n",
       "         1.84238537e+00,  1.84806729e+00,  1.85374921e+00,  1.85943113e+00,\n",
       "         1.86511305e+00,  1.87079497e+00,  1.87647690e+00,  1.88215882e+00,\n",
       "         1.88784074e+00,  1.89352266e+00,  1.89920458e+00,  1.90488650e+00,\n",
       "         1.91056842e+00,  1.91625034e+00,  1.92193226e+00,  1.92761419e+00,\n",
       "         1.93329611e+00]),\n",
       " <BarContainer object of 500 artists>)"
      ]
     },
     "execution_count": 104,
     "metadata": {},
     "output_type": "execute_result"
    },
    {
     "data": {
      "image/png": "[encoded data removed]",
      "text/plain": [
       "<Figure size 432x288 with 1 Axes>"
      ]
     },
     "metadata": {
      "needs_background": "light"
     },
     "output_type": "display_data"
    }
   ],
   "source": [
    "cnn_predict=(Cnn_nparr[energy_test>energy_cut]-energy_test[energy_test>energy_cut])/energy_test[energy_test>energy_cut]\n",
    "plt.hist(cnn_predict, bins=500)"
   ]
  },
  {
   "cell_type": "code",
   "execution_count": 114,
   "metadata": {},
   "outputs": [],
   "source": [
    "cnn_ext=np.mean(cnn_predict)-np.mean(diff_pred)\n",
    "cnn_predict_mod=cnn_predict-cnn_ext"
   ]
  },
  {
   "cell_type": "code",
   "execution_count": 116,
   "metadata": {
    "id": "rVUjJx44mycm"
   },
   "outputs": [
    {
     "data": {
      "text/plain": [
       "<matplotlib.legend.Legend at 0x29e09c81190>"
      ]
     },
     "execution_count": 116,
     "metadata": {},
     "output_type": "execute_result"
    },
    {
     "data": {
      "image/png": "[encoded data removed]",
      "text/plain": [
       "<Figure size 360x360 with 1 Axes>"
      ]
     },
     "metadata": {
      "needs_background": "light"
     },
     "output_type": "display_data"
    }
   ],
   "source": [
    "fig, ax = plt.subplots(1,1,figsize=[5,5])\n",
    "ax.hist(diff_pred, bins = 100, range=[-0.1,0.1], label = \"dnn pred\") \n",
    "ax.hist(diff_sum, alpha = 0.6, bins = 100, range=[-0.1,0.1], label = \"sum algo\", color=\"r\")\n",
    "ax.hist(cnn_predict_mod,  bins = 100, range=[-0.1,0.1],color=\"m\", label = \"cnn pred_mod\")\n",
    "ax.hist(cnn_predict,  bins = 100, range=[-0.1,0.1],color=\"g\", label = \"cnn pred\") \n",
    "ax.legend()"
   ]
  },
  {
   "cell_type": "code",
   "execution_count": null,
   "metadata": {},
   "outputs": [],
   "source": []
  },
  {
   "cell_type": "code",
   "execution_count": null,
   "metadata": {},
   "outputs": [],
   "source": []
  }
 ],
 "metadata": {
  "colab": {
   "collapsed_sections": [],
   "private_outputs": true,
   "provenance": []
  },
  "kernelspec": {
   "display_name": "Python 3 (ipykernel)",
   "language": "python",
   "name": "python3"
  },
  "language_info": {
   "codemirror_mode": {
    "name": "ipython",
    "version": 3
   },
   "file_extension": ".py",
   "mimetype": "text/x-python",
   "name": "python",
   "nbconvert_exporter": "python",
   "pygments_lexer": "ipython3",
   "version": "3.9.12"
  }
 },
 "nbformat": 4,
 "nbformat_minor": 4
}
