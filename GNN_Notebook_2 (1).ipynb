{
 "cells": [
  {
   "cell_type": "code",
   "execution_count": 1,
   "metadata": {
    "id": "RIO91Fu65s6k"
   },
   "outputs": [
    {
     "data": {
      "text/plain": [
       "'/feynman/scratch/dedip/stream/msahin/gamma_angle_position_5deg_xy.h5'"
      ]
     },
     "execution_count": 1,
     "metadata": {},
     "output_type": "execute_result"
    }
   ],
   "source": [
    "import tensorflow\n",
    "import numpy as np\n",
    "import pandas as pd\n",
    "import os\n",
    "import tensorflow.keras as keras\n",
    "#zip_file=keras.utils.get_file(\n",
    "#    fname=\"gamma_angle_position_5deg_xy.h5\",\n",
    "#    origin=\"https://zenodo.org/record/846388/files/gamma_angle_position_5deg_xy.h5?download=1\",\n",
    "#    extract=True\n",
    "\n",
    "#)\n",
    "#dirnam=os.path.join(os.path.dirname(zip_file), \"gamma_angle_position_5deg_xy.h5\")\n",
    "zip_file=\"/feynman/scratch/dedip/stream/msahin/gamma_angle_position_5deg_xy.h5\"\n",
    "dirnam=os.path.join(os.path.dirname(zip_file), \"gamma_angle_position_5deg_xy.h5\")\n",
    "\n",
    "import h5py\n",
    "import h5py\n",
    "zip_file\n"
   ]
  },
  {
   "cell_type": "code",
   "execution_count": null,
   "metadata": {
    "id": "nCkvgr2FHAFG"
   },
   "outputs": [],
   "source": []
  },
  {
   "cell_type": "code",
   "execution_count": 2,
   "metadata": {
    "id": "ysaVq5t7xcmU"
   },
   "outputs": [],
   "source": [
    "import matplotlib.pyplot as plt\n",
    "def extract_data(n):\n",
    "  windows=np.empty((12,12,1))\n",
    "  for i in range(n):\n",
    "    window = (np.array(h5py.File(zip_file)[\"layer_1\"][i]))\n",
    "    #print(window.reshape(1,12,12).shape)\n",
    "    #window=window.reshape(1,12,12)\n",
    "    windows=np.dstack((windows, window))\n",
    "  return windows\n",
    "  "
   ]
  },
  {
   "cell_type": "code",
   "execution_count": 3,
   "metadata": {
    "id": "cuM9humvFrbe"
   },
   "outputs": [
    {
     "name": "stdout",
     "output_type": "stream",
     "text": [
      "(500000, 3, 96)\n"
     ]
    }
   ],
   "source": [
    "\n",
    "\n",
    "x=h5py.File(zip_file)\n",
    "layer_0_data = (np.array(h5py.File(zip_file)[\"layer_0\"][:]))\n",
    "layer_1_data = (np.array(h5py.File(zip_file)[\"layer_1\"][:]))\n",
    "layer_2_data = (np.array(h5py.File(zip_file)[\"layer_2\"][:]))\n",
    "energy=(np.array(h5py.File(zip_file)[\"energy\"]))\n",
    "energy=energy.reshape(energy.shape[0])\n",
    "print(layer_0_data.shape)\n",
    "\n",
    "nrm_l0=np.max(layer_0_data)\n",
    "nrm_l1=np.max(layer_1_data)\n",
    "nrm_l2=np.max(layer_2_data)\n",
    "nrm_e=np.max(energy)\n",
    "\n",
    "rng = np.random.default_rng()\n",
    "noise_l0 = rng.normal(0,167,layer_0_data.shape[0]*layer_0_data.shape[1]*layer_0_data.shape[2])\n",
    "noise_l0 = noise_l0.reshape(layer_0_data.shape[0],layer_0_data.shape[1],layer_0_data.shape[2])\n",
    "layer_0_data = layer_0_data + noise_l0\n",
    "layer_0_data[layer_0_data<0] = 0\n",
    "\n",
    "noise_l1 = rng.normal(0,167,layer_1_data.shape[0]*layer_1_data.shape[1]*layer_1_data.shape[2])\n",
    "noise_l1 = noise_l1.reshape(layer_1_data.shape[0],layer_1_data.shape[1],layer_1_data.shape[2])\n",
    "layer_1_data = layer_1_data + noise_l1\n",
    "layer_1_data[layer_1_data<0] = 0\n",
    "\n",
    "noise_l2 = rng.normal(0,167,layer_2_data.shape[0]*layer_2_data.shape[1]*layer_2_data.shape[2])\n",
    "noise_l2 = noise_l2.reshape(layer_2_data.shape[0],layer_2_data.shape[1],layer_2_data.shape[2])\n",
    "layer_2_data = layer_2_data + noise_l2\n",
    "layer_2_data[layer_2_data<0] = 0\n",
    "\n",
    "Layer_0_data_preprocessed=layer_0_data/nrm_l0\n",
    "Layer_1_data_preprocessed=layer_1_data/nrm_l1\n",
    "Layer_2_data_preprocessed=layer_2_data/nrm_l2\n",
    "energy = energy / nrm_e\n"
   ]
  },
  {
   "cell_type": "code",
   "execution_count": 4,
   "metadata": {},
   "outputs": [
    {
     "data": {
      "text/plain": [
       "array([[[0.        , 0.00551791, 0.        , ..., 0.00618963,\n",
       "         0.        , 0.00670415],\n",
       "        [0.        , 0.        , 0.00310637, ..., 0.01746229,\n",
       "         0.        , 0.        ],\n",
       "        [0.        , 0.        , 0.        , ..., 0.00961653,\n",
       "         0.        , 0.        ]],\n",
       "\n",
       "       [[0.00851133, 0.        , 0.00489743, ..., 0.        ,\n",
       "         0.00944635, 0.00588908],\n",
       "        [0.        , 0.        , 0.01045971, ..., 0.        ,\n",
       "         0.00206425, 0.00538627],\n",
       "        [0.00026757, 0.00558551, 0.        , ..., 0.00645585,\n",
       "         0.        , 0.        ]],\n",
       "\n",
       "       [[0.        , 0.00302793, 0.        , ..., 0.        ,\n",
       "         0.00371381, 0.00890111],\n",
       "        [0.00224772, 0.        , 0.        , ..., 0.        ,\n",
       "         0.00323603, 0.00573938],\n",
       "        [0.        , 0.        , 0.00168784, ..., 0.        ,\n",
       "         0.01664465, 0.00482647]],\n",
       "\n",
       "       ...,\n",
       "\n",
       "       [[0.        , 0.        , 0.01400492, ..., 0.00162826,\n",
       "         0.        , 0.        ],\n",
       "        [0.        , 0.        , 0.        , ..., 0.        ,\n",
       "         0.02178445, 0.        ],\n",
       "        [0.        , 0.00618638, 0.        , ..., 0.00696716,\n",
       "         0.00027636, 0.00709629]],\n",
       "\n",
       "       [[0.01209761, 0.        , 0.        , ..., 0.01889656,\n",
       "         0.        , 0.00723749],\n",
       "        [0.        , 0.        , 0.00813789, ..., 0.0138804 ,\n",
       "         0.        , 0.        ],\n",
       "        [0.        , 0.        , 0.        , ..., 0.        ,\n",
       "         0.        , 0.00788307]],\n",
       "\n",
       "       [[0.01327413, 0.01183671, 0.00720048, ..., 0.00382747,\n",
       "         0.00688474, 0.00870399],\n",
       "        [0.        , 0.01036242, 0.00196699, ..., 0.        ,\n",
       "         0.        , 0.        ],\n",
       "        [0.        , 0.        , 0.        , ..., 0.01603464,\n",
       "         0.        , 0.        ]]])"
      ]
     },
     "execution_count": 4,
     "metadata": {},
     "output_type": "execute_result"
    }
   ],
   "source": [
    "Layer_0_data_preprocessed"
   ]
  },
  {
   "cell_type": "code",
   "execution_count": 5,
   "metadata": {
    "id": "I7a-mPR6O9qa"
   },
   "outputs": [],
   "source": [
    "flatten_layer_0=Layer_0_data_preprocessed.reshape(500000,3*96)\n",
    "flatten_layer_1=Layer_1_data_preprocessed.reshape(500000,12*12)\n",
    "flatten_layer_2=Layer_2_data_preprocessed.reshape(500000,6*12)\n",
    "from random import randint\n",
    "\n",
    "labels=list(range(500000))\n",
    "\n",
    "\n",
    "\n",
    "\n",
    "#random_selection=np.array([x for x in range (500000) if x not in random])"
   ]
  },
  {
   "cell_type": "markdown",
   "metadata": {
    "id": "lCi6c27iruzL"
   },
   "source": [
    "for i in range(int(0.6*len(flatten_layer_0))):\n",
    "  n=randint(0,499999)\n",
    "  random.append(n)\n",
    "  train_labels.append(energy[n])\n",
    "  train_layer_0.append(flatten_layer_0[n])\n",
    "  train_layer_1.append(flatten_layer_1[n])\n",
    "  train_layer_2.append(flatten_layer_2[n])"
   ]
  },
  {
   "cell_type": "code",
   "execution_count": 6,
   "metadata": {
    "id": "Qpn56IptgnKn"
   },
   "outputs": [],
   "source": [
    "from sklearn.model_selection import train_test_split\n",
    "layer_0_train, layer_0_test, energy_train, energy_test,  layer_1_train,layer_1_test, layer_2_train, layer_2_test,= train_test_split(flatten_layer_0,  energy, flatten_layer_1, flatten_layer_2,  test_size=0.4, random_state=42)\n",
    "layer_0_train_2D, layer_0_test_2D, energy_train, energy_test,  layer_1_train_2D,layer_1_test_2D, layer_2_train_2D, layer_2_test2D,= train_test_split(Layer_0_data_preprocessed,  energy, Layer_1_data_preprocessed, Layer_2_data_preprocessed,  test_size=0.4, random_state=42)"
   ]
  },
  {
   "cell_type": "code",
   "execution_count": 7,
   "metadata": {
    "id": "e_wOew_QE-dc"
   },
   "outputs": [
    {
     "name": "stdout",
     "output_type": "stream",
     "text": [
      "(300000, 3, 96)\n"
     ]
    }
   ],
   "source": [
    "print(layer_0_train_2D.shape)"
   ]
  },
  {
   "cell_type": "markdown",
   "metadata": {
    "id": "ZDqQ8hLR9d7q"
   },
   "source": [
    "\n",
    "def check_data(n):\n",
    "  x=layer_0_train[n].sum()*np.max(layer_0_data)+layer_1_train[n].sum()*np.max(layer_1_data)+layer_2_train[n].sum()*np.max(layer_2_data)\n",
    "  n=label0_train[n]\n",
    "  print(x,energy[n])\n",
    "check_data(5)"
   ]
  },
  {
   "cell_type": "markdown",
   "metadata": {
    "id": "pNAOiGn4rFit"
   },
   "source": [
    "lbl_tr ==> labels of training\n",
    "\n",
    "lbl_val==>labels of validation\n",
    "\n",
    "l0_tr, l1_tr, l2_tr will be used in training and are chosen from previously splitted training data"
   ]
  },
  {
   "cell_type": "markdown",
   "metadata": {
    "id": "QZGqkf745j9e"
   },
   "source": [
    "l0_tr,l0_val,l1_tr,l1_val,l2_tr,l2_val,lbl_tr,lbl_val= train_test_split(layer_0_train,layer_1_train,layer_2_train, label0_train, test_size=0.2, random_state=42)\n",
    "del(l0_tr,l0_val,l1_tr,l1_val,l2_tr,l2_val,lbl_tr,lbl_val)"
   ]
  },
  {
   "cell_type": "code",
   "execution_count": 8,
   "metadata": {
    "id": "TOYVznGWZMyy"
   },
   "outputs": [],
   "source": [
    "\n",
    "lc1_test=np.array([np.concatenate((layer_0_test, layer_1_test, layer_2_test),axis=1)  ])\n",
    "lc1_train=np.array([np.concatenate((layer_0_train, layer_1_train, layer_2_train),axis=1)  ])\n",
    "lc1_train=lc1_train.reshape(lc1_train.shape[1],lc1_train.shape[2])\n",
    "lc1_test=lc1_test.reshape(lc1_test.shape[1],lc1_test.shape[2])\n"
   ]
  },
  {
   "cell_type": "code",
   "execution_count": 9,
   "metadata": {
    "id": "Z06AW0WdFnIy"
   },
   "outputs": [
    {
     "name": "stdout",
     "output_type": "stream",
     "text": [
      "(200000, 504)\n",
      "(200000,)\n",
      "(300000, 504)\n",
      "(300000,)\n"
     ]
    }
   ],
   "source": [
    "print(lc1_test.shape) \n",
    "print(energy_test.shape)\n",
    "print(lc1_train.shape)\n",
    "print(energy_train.shape) "
   ]
  },
  {
   "cell_type": "markdown",
   "metadata": {
    "id": "PphME-j9cRs_"
   },
   "source": [
    "test_layer_0 = np.array([flatten_layer_0[i] for i in range(len(flatten_layer_0)) if i not in random])\n",
    "test_layer_1 = np.array([flatten_layer_1[i] for i in range(len(flatten_layer_0)) if i not in random])\n",
    "test_layer_2 = np.array([flatten_layer_2[i] for i in range(len(flatten_layer_0)) if i not in random])"
   ]
  },
  {
   "cell_type": "code",
   "execution_count": 10,
   "metadata": {
    "id": "7yz029HZvne9"
   },
   "outputs": [],
   "source": [
    "def run_experiment(model, x_train, y_train):\n",
    "    \n",
    "    model.compile(\n",
    "        optimizer=keras.optimizers.Adam(0.003),\n",
    "        loss=keras.losses.MeanSquaredError(reduction=\"auto\", name=\"mean_squared_error\")#,\n",
    "        #metrics=tf.keras.metrics.BinaryAccuracy(),\n",
    "    )\n",
    "    \n",
    "    early_stopping = keras.callbacks.EarlyStopping(\n",
    "        monitor=\"val_loss\", patience=50, restore_best_weights=True\n",
    "    )\n",
    "    \n",
    "    history = model.fit(\n",
    "        x=x_train,\n",
    "        y=y_train,\n",
    "        epochs=50,\n",
    "        batch_size=2028,\n",
    "        validation_split=0.2,\n",
    "        callbacks=[early_stopping],\n",
    "    )\n",
    "\n",
    "    return history"
   ]
  },
  {
   "cell_type": "code",
   "execution_count": 11,
   "metadata": {
    "id": "AgJ2Mj70s9fk"
   },
   "outputs": [
    {
     "name": "stdout",
     "output_type": "stream",
     "text": [
      "Model: \"dnn\"\n",
      "_________________________________________________________________\n",
      " Layer (type)                Output Shape              Param #   \n",
      "=================================================================\n",
      " input_features (InputLayer)  [(None, 504)]            0         \n",
      "                                                                 \n",
      " dense (Dense)               (None, 1024)              517120    \n",
      "                                                                 \n",
      " dropout (Dropout)           (None, 1024)              0         \n",
      "                                                                 \n",
      " dense_1 (Dense)             (None, 512)               524800    \n",
      "                                                                 \n",
      " dropout_1 (Dropout)         (None, 512)               0         \n",
      "                                                                 \n",
      " dense_2 (Dense)             (None, 64)                32832     \n",
      "                                                                 \n",
      " dropout_2 (Dropout)         (None, 64)                0         \n",
      "                                                                 \n",
      " output (Dense)              (None, 1)                 65        \n",
      "                                                                 \n",
      "=================================================================\n",
      "Total params: 1,074,817\n",
      "Trainable params: 1,074,817\n",
      "Non-trainable params: 0\n",
      "_________________________________________________________________\n"
     ]
    },
    {
     "name": "stderr",
     "output_type": "stream",
     "text": [
      "2022-10-02 12:14:23.814299: I tensorflow/core/platform/cpu_feature_guard.cc:193] This TensorFlow binary is optimized with oneAPI Deep Neural Network Library (oneDNN) to use the following CPU instructions in performance-critical operations:  AVX2 FMA\n",
      "To enable them in other operations, rebuild TensorFlow with the appropriate compiler flags.\n",
      "2022-10-02 12:14:24.115214: I tensorflow/core/common_runtime/gpu/gpu_device.cc:1532] Created device /job:localhost/replica:0/task:0/device:GPU:0 with 38420 MB memory:  -> device: 0, name: NVIDIA A100-PCIE-40GB, pci bus id: 0000:25:00.0, compute capability: 8.0\n"
     ]
    }
   ],
   "source": [
    "import keras.layers as layers\n",
    "import tensorflow as tf\n",
    "hidden_units = [1024, 512,64]\n",
    "def dnn(hidden_units, num_classes, dropout_rate):\n",
    "    inputs = layers.Input(shape=(144+(96*3)+72,), name=\"input_features\")\n",
    "    x = inputs\n",
    "    for units in hidden_units:        \n",
    "        x  = layers.Dense(units, activation=tf.nn.relu)(x)\n",
    "        x  = layers.Dropout(rate=dropout_rate)(x)\n",
    "    logits = layers.Dense(num_classes, name=\"output\")(x)\n",
    "    # Create the model.\n",
    "    return keras.Model(inputs=inputs, outputs=logits, name=\"dnn\")\n",
    "\n",
    "\n",
    "baseline_model = dnn(hidden_units, 1, 0)\n",
    "baseline_model.summary()"
   ]
  },
  {
   "cell_type": "code",
   "execution_count": 12,
   "metadata": {},
   "outputs": [],
   "source": [
    "def cnn(hidden_units, num_classes, dropout_rate):\n",
    "    inputs0 = layers.Input(shape=(3,96,1,), name=\"input_features_l0\")\n",
    "    inputs1 = layers.Input(shape=(12,12,1,), name=\"input_features_l1\")\n",
    "    inputs2 = layers.Input(shape=(12,6,1,), name=\"input_features_l2\")\n",
    "    cnn0 = layers.Conv2D(32, 3, activation='relu', padding='same')(inputs0)\n",
    "    cnn0 = layers.Conv2D(64, 3, activation='relu')(cnn0)\n",
    "    # cnn0 = layers.Conv2D(64, 5, activation='relu')(cnn0)\n",
    "    cnn0 = layers.Flatten()(cnn0)\n",
    "    inputs0_flat = layers.Flatten()(inputs0)\n",
    "    cnn0Comb = layers.Concatenate()([cnn0,inputs0_flat])\n",
    "    cnn1 = layers.Conv2D(32, 3, activation='relu', padding='same')(inputs1)\n",
    "    cnn1 = layers.Conv2D(64, 3, activation='relu')(cnn1)\n",
    "    cnn1 = layers.Conv2D(128, 5, activation='relu')(cnn1)\n",
    "    cnn1 = layers.Flatten()(cnn1)\n",
    "    inputs1_flat = layers.Flatten()(inputs1)\n",
    "    cnn1Comb = layers.Concatenate()([cnn1,inputs1_flat])\n",
    "    cnn2 = layers.Conv2D(32, 3, activation='relu', padding='same')(inputs2)\n",
    "    cnn2 = layers.Conv2D(64, 3, activation='relu')(cnn2)  \n",
    "    cnn2 = layers.Conv2D(128, 3, activation='relu')(cnn2)      \n",
    "    cnn2 = layers.Flatten()(cnn2)\n",
    "    inputs2_flat = layers.Flatten()(inputs2)\n",
    "    cnn2Comb = layers.Concatenate()([cnn2,inputs2_flat])\n",
    "    x =  layers.Concatenate()([cnn0Comb,cnn1Comb,cnn2Comb])\n",
    "    for units in hidden_units:        \n",
    "        x  = layers.Dense(units, activation=tf.nn.relu)(x)\n",
    "       # x  = layers.Dropout(rate=dropout_rate)(x)\n",
    "    logits = layers.Dense(num_classes, name=\"output\")(x)\n",
    "    # Create the model.\n",
    "    return keras.Model(inputs=(inputs0,inputs1,inputs2), outputs=logits, name=\"dnn\")"
   ]
  },
  {
   "cell_type": "code",
   "execution_count": 13,
   "metadata": {},
   "outputs": [
    {
     "name": "stdout",
     "output_type": "stream",
     "text": [
      "Model: \"dnn\"\n",
      "__________________________________________________________________________________________________\n",
      " Layer (type)                   Output Shape         Param #     Connected to                     \n",
      "==================================================================================================\n",
      " input_features_l1 (InputLayer)  [(None, 12, 12, 1)]  0          []                               \n",
      "                                                                                                  \n",
      " input_features_l2 (InputLayer)  [(None, 12, 6, 1)]  0           []                               \n",
      "                                                                                                  \n",
      " input_features_l0 (InputLayer)  [(None, 3, 96, 1)]  0           []                               \n",
      "                                                                                                  \n",
      " conv2d_2 (Conv2D)              (None, 12, 12, 32)   320         ['input_features_l1[0][0]']      \n",
      "                                                                                                  \n",
      " conv2d_5 (Conv2D)              (None, 12, 6, 32)    320         ['input_features_l2[0][0]']      \n",
      "                                                                                                  \n",
      " conv2d (Conv2D)                (None, 3, 96, 32)    320         ['input_features_l0[0][0]']      \n",
      "                                                                                                  \n",
      " conv2d_3 (Conv2D)              (None, 10, 10, 64)   18496       ['conv2d_2[0][0]']               \n",
      "                                                                                                  \n",
      " conv2d_6 (Conv2D)              (None, 10, 4, 64)    18496       ['conv2d_5[0][0]']               \n",
      "                                                                                                  \n",
      " conv2d_1 (Conv2D)              (None, 1, 94, 64)    18496       ['conv2d[0][0]']                 \n",
      "                                                                                                  \n",
      " conv2d_4 (Conv2D)              (None, 6, 6, 128)    204928      ['conv2d_3[0][0]']               \n",
      "                                                                                                  \n",
      " conv2d_7 (Conv2D)              (None, 8, 2, 128)    73856       ['conv2d_6[0][0]']               \n",
      "                                                                                                  \n",
      " flatten (Flatten)              (None, 6016)         0           ['conv2d_1[0][0]']               \n",
      "                                                                                                  \n",
      " flatten_1 (Flatten)            (None, 288)          0           ['input_features_l0[0][0]']      \n",
      "                                                                                                  \n",
      " flatten_2 (Flatten)            (None, 4608)         0           ['conv2d_4[0][0]']               \n",
      "                                                                                                  \n",
      " flatten_3 (Flatten)            (None, 144)          0           ['input_features_l1[0][0]']      \n",
      "                                                                                                  \n",
      " flatten_4 (Flatten)            (None, 2048)         0           ['conv2d_7[0][0]']               \n",
      "                                                                                                  \n",
      " flatten_5 (Flatten)            (None, 72)           0           ['input_features_l2[0][0]']      \n",
      "                                                                                                  \n",
      " concatenate (Concatenate)      (None, 6304)         0           ['flatten[0][0]',                \n",
      "                                                                  'flatten_1[0][0]']              \n",
      "                                                                                                  \n",
      " concatenate_1 (Concatenate)    (None, 4752)         0           ['flatten_2[0][0]',              \n",
      "                                                                  'flatten_3[0][0]']              \n",
      "                                                                                                  \n",
      " concatenate_2 (Concatenate)    (None, 2120)         0           ['flatten_4[0][0]',              \n",
      "                                                                  'flatten_5[0][0]']              \n",
      "                                                                                                  \n",
      " concatenate_3 (Concatenate)    (None, 13176)        0           ['concatenate[0][0]',            \n",
      "                                                                  'concatenate_1[0][0]',          \n",
      "                                                                  'concatenate_2[0][0]']          \n",
      "                                                                                                  \n",
      " dense_3 (Dense)                (None, 1024)         13493248    ['concatenate_3[0][0]']          \n",
      "                                                                                                  \n",
      " dense_4 (Dense)                (None, 512)          524800      ['dense_3[0][0]']                \n",
      "                                                                                                  \n",
      " dense_5 (Dense)                (None, 64)           32832       ['dense_4[0][0]']                \n",
      "                                                                                                  \n",
      " output (Dense)                 (None, 1)            65          ['dense_5[0][0]']                \n",
      "                                                                                                  \n",
      "==================================================================================================\n",
      "Total params: 14,386,177\n",
      "Trainable params: 14,386,177\n",
      "Non-trainable params: 0\n",
      "__________________________________________________________________________________________________\n"
     ]
    }
   ],
   "source": [
    "cnn_model = cnn(hidden_units, 1, 0.1)\n",
    "cnn_model.summary()\n"
   ]
  },
  {
   "cell_type": "code",
   "execution_count": 14,
   "metadata": {},
   "outputs": [
    {
     "name": "stdout",
     "output_type": "stream",
     "text": [
      "Epoch 1/50\n"
     ]
    },
    {
     "name": "stderr",
     "output_type": "stream",
     "text": [
      "2022-10-02 12:14:25.747437: I tensorflow/stream_executor/cuda/cuda_dnn.cc:384] Loaded cuDNN version 8301\n",
      "2022-10-02 12:14:26.314086: I tensorflow/core/platform/default/subprocess.cc:304] Start cannot spawn child process: No such file or directory\n",
      "2022-10-02 12:14:26.529357: I tensorflow/stream_executor/cuda/cuda_blas.cc:1786] TensorFloat-32 will be used for the matrix multiplication. This will only be logged once.\n"
     ]
    },
    {
     "name": "stdout",
     "output_type": "stream",
     "text": [
      "119/119 [==============================] - 4s 19ms/step - loss: 0.0690 - val_loss: 1.6003e-04\n",
      "Epoch 2/50\n",
      "119/119 [==============================] - 2s 14ms/step - loss: 1.7141e-04 - val_loss: 1.4399e-04\n",
      "Epoch 3/50\n",
      "119/119 [==============================] - 2s 14ms/step - loss: 1.6179e-04 - val_loss: 1.4524e-04\n",
      "Epoch 4/50\n",
      "119/119 [==============================] - 2s 14ms/step - loss: 1.5714e-04 - val_loss: 1.3150e-04\n",
      "Epoch 5/50\n",
      "119/119 [==============================] - 2s 14ms/step - loss: 1.5341e-04 - val_loss: 1.2899e-04\n",
      "Epoch 6/50\n",
      "119/119 [==============================] - 2s 14ms/step - loss: 1.5637e-04 - val_loss: 1.3677e-04\n",
      "Epoch 7/50\n",
      "119/119 [==============================] - 2s 14ms/step - loss: 1.6487e-04 - val_loss: 1.2425e-04\n",
      "Epoch 8/50\n",
      "119/119 [==============================] - 2s 14ms/step - loss: 1.4521e-04 - val_loss: 1.4303e-04\n",
      "Epoch 9/50\n",
      "119/119 [==============================] - 2s 14ms/step - loss: 1.4607e-04 - val_loss: 1.2143e-04\n",
      "Epoch 10/50\n",
      "119/119 [==============================] - 2s 14ms/step - loss: 1.4451e-04 - val_loss: 1.2996e-04\n",
      "Epoch 11/50\n",
      "119/119 [==============================] - 2s 14ms/step - loss: 1.5583e-04 - val_loss: 1.3282e-04\n",
      "Epoch 12/50\n",
      "119/119 [==============================] - 2s 14ms/step - loss: 1.4683e-04 - val_loss: 1.1875e-04\n",
      "Epoch 13/50\n",
      "119/119 [==============================] - 2s 14ms/step - loss: 1.4506e-04 - val_loss: 1.1775e-04\n",
      "Epoch 14/50\n",
      "119/119 [==============================] - 2s 14ms/step - loss: 1.4879e-04 - val_loss: 1.4876e-04\n",
      "Epoch 15/50\n",
      "119/119 [==============================] - 2s 14ms/step - loss: 1.5903e-04 - val_loss: 1.3732e-04\n",
      "Epoch 16/50\n",
      "119/119 [==============================] - 2s 14ms/step - loss: 1.3624e-04 - val_loss: 1.1235e-04\n",
      "Epoch 17/50\n",
      "119/119 [==============================] - 2s 14ms/step - loss: 1.5538e-04 - val_loss: 1.1268e-04\n",
      "Epoch 18/50\n",
      "119/119 [==============================] - 2s 14ms/step - loss: 1.4011e-04 - val_loss: 1.2628e-04\n",
      "Epoch 19/50\n",
      "119/119 [==============================] - 2s 14ms/step - loss: 1.3605e-04 - val_loss: 1.1489e-04\n",
      "Epoch 20/50\n",
      "119/119 [==============================] - 2s 14ms/step - loss: 1.3862e-04 - val_loss: 1.1110e-04\n",
      "Epoch 21/50\n",
      "119/119 [==============================] - 2s 14ms/step - loss: 1.4492e-04 - val_loss: 1.1142e-04\n",
      "Epoch 22/50\n",
      "119/119 [==============================] - 2s 14ms/step - loss: 1.3078e-04 - val_loss: 1.5809e-04\n",
      "Epoch 23/50\n",
      "119/119 [==============================] - 2s 14ms/step - loss: 1.5007e-04 - val_loss: 1.3110e-04\n",
      "Epoch 24/50\n",
      "119/119 [==============================] - 2s 14ms/step - loss: 1.3737e-04 - val_loss: 1.4109e-04\n",
      "Epoch 25/50\n",
      "119/119 [==============================] - 2s 14ms/step - loss: 1.4529e-04 - val_loss: 1.6008e-04\n",
      "Epoch 26/50\n",
      "119/119 [==============================] - 2s 14ms/step - loss: 1.3578e-04 - val_loss: 1.3223e-04\n",
      "Epoch 27/50\n",
      "119/119 [==============================] - 2s 14ms/step - loss: 1.2875e-04 - val_loss: 3.1940e-04\n",
      "Epoch 28/50\n",
      "119/119 [==============================] - 2s 14ms/step - loss: 1.3759e-04 - val_loss: 1.7898e-04\n",
      "Epoch 29/50\n",
      "119/119 [==============================] - 2s 14ms/step - loss: 1.4742e-04 - val_loss: 1.2816e-04\n",
      "Epoch 30/50\n",
      "119/119 [==============================] - 2s 14ms/step - loss: 1.3549e-04 - val_loss: 1.1513e-04\n",
      "Epoch 31/50\n",
      "119/119 [==============================] - 2s 14ms/step - loss: 1.2181e-04 - val_loss: 1.1525e-04\n",
      "Epoch 32/50\n",
      "119/119 [==============================] - 2s 14ms/step - loss: 1.5334e-04 - val_loss: 2.0433e-04\n",
      "Epoch 33/50\n",
      "119/119 [==============================] - 2s 14ms/step - loss: 1.2126e-04 - val_loss: 1.5670e-04\n",
      "Epoch 34/50\n",
      "119/119 [==============================] - 2s 14ms/step - loss: 1.3031e-04 - val_loss: 2.3286e-04\n",
      "Epoch 35/50\n",
      "119/119 [==============================] - 2s 14ms/step - loss: 1.2001e-04 - val_loss: 1.3306e-04\n",
      "Epoch 36/50\n",
      "119/119 [==============================] - 2s 14ms/step - loss: 1.2636e-04 - val_loss: 1.0941e-04\n",
      "Epoch 37/50\n",
      "119/119 [==============================] - 2s 14ms/step - loss: 1.6032e-04 - val_loss: 1.0951e-04\n",
      "Epoch 38/50\n",
      "119/119 [==============================] - 2s 14ms/step - loss: 1.1439e-04 - val_loss: 1.1263e-04\n",
      "Epoch 39/50\n",
      "119/119 [==============================] - 2s 14ms/step - loss: 1.1508e-04 - val_loss: 1.0965e-04\n",
      "Epoch 40/50\n",
      "119/119 [==============================] - 2s 14ms/step - loss: 1.2480e-04 - val_loss: 1.0976e-04\n",
      "Epoch 41/50\n",
      "119/119 [==============================] - 2s 14ms/step - loss: 1.2120e-04 - val_loss: 1.1239e-04\n",
      "Epoch 42/50\n",
      "119/119 [==============================] - 2s 14ms/step - loss: 1.2507e-04 - val_loss: 1.3695e-04\n",
      "Epoch 43/50\n",
      "119/119 [==============================] - 2s 14ms/step - loss: 1.1532e-04 - val_loss: 2.0003e-04\n",
      "Epoch 44/50\n",
      "119/119 [==============================] - 2s 14ms/step - loss: 1.3074e-04 - val_loss: 1.1136e-04\n",
      "Epoch 45/50\n",
      "119/119 [==============================] - 2s 14ms/step - loss: 1.1905e-04 - val_loss: 1.1153e-04\n",
      "Epoch 46/50\n",
      "119/119 [==============================] - 2s 14ms/step - loss: 1.1349e-04 - val_loss: 0.0038\n",
      "Epoch 47/50\n",
      "119/119 [==============================] - 2s 14ms/step - loss: 7.4084e-04 - val_loss: 1.1586e-04\n",
      "Epoch 48/50\n",
      "119/119 [==============================] - 2s 14ms/step - loss: 9.9404e-05 - val_loss: 1.1065e-04\n",
      "Epoch 49/50\n",
      "119/119 [==============================] - 2s 14ms/step - loss: 9.5518e-05 - val_loss: 1.1100e-04\n",
      "Epoch 50/50\n",
      "119/119 [==============================] - 2s 14ms/step - loss: 9.3716e-05 - val_loss: 1.0860e-04\n"
     ]
    }
   ],
   "source": [
    "history_cnn=run_experiment(cnn_model,[layer_0_train_2D,layer_1_train_2D,layer_2_train_2D],energy_train)"
   ]
  },
  {
   "cell_type": "code",
   "execution_count": 15,
   "metadata": {
    "id": "PUPhTztZvza-"
   },
   "outputs": [
    {
     "name": "stdout",
     "output_type": "stream",
     "text": [
      "Epoch 1/50\n",
      "119/119 [==============================] - 1s 3ms/step - loss: 0.0219 - val_loss: 6.6473e-04\n",
      "Epoch 2/50\n",
      "119/119 [==============================] - 0s 2ms/step - loss: 4.0374e-04 - val_loss: 2.3360e-04\n",
      "Epoch 3/50\n",
      "119/119 [==============================] - 0s 2ms/step - loss: 2.1167e-04 - val_loss: 1.6038e-04\n",
      "Epoch 4/50\n",
      "119/119 [==============================] - 0s 2ms/step - loss: 1.7306e-04 - val_loss: 1.4296e-04\n",
      "Epoch 5/50\n",
      "119/119 [==============================] - 0s 2ms/step - loss: 1.6141e-04 - val_loss: 1.3686e-04\n",
      "Epoch 6/50\n",
      "119/119 [==============================] - 0s 2ms/step - loss: 1.5651e-04 - val_loss: 1.3264e-04\n",
      "Epoch 7/50\n",
      "119/119 [==============================] - 0s 2ms/step - loss: 1.5419e-04 - val_loss: 1.2951e-04\n",
      "Epoch 8/50\n",
      "119/119 [==============================] - 0s 2ms/step - loss: 1.5087e-04 - val_loss: 1.2909e-04\n",
      "Epoch 9/50\n",
      "119/119 [==============================] - 0s 2ms/step - loss: 1.4790e-04 - val_loss: 1.3109e-04\n",
      "Epoch 10/50\n",
      "119/119 [==============================] - 0s 2ms/step - loss: 1.4675e-04 - val_loss: 1.2471e-04\n",
      "Epoch 11/50\n",
      "119/119 [==============================] - 0s 2ms/step - loss: 1.4542e-04 - val_loss: 1.5955e-04\n",
      "Epoch 12/50\n",
      "119/119 [==============================] - 0s 2ms/step - loss: 1.4396e-04 - val_loss: 1.1988e-04\n",
      "Epoch 13/50\n",
      "119/119 [==============================] - 0s 2ms/step - loss: 1.4658e-04 - val_loss: 1.1945e-04\n",
      "Epoch 14/50\n",
      "119/119 [==============================] - 0s 2ms/step - loss: 1.5992e-04 - val_loss: 1.2281e-04\n",
      "Epoch 15/50\n",
      "119/119 [==============================] - 0s 2ms/step - loss: 1.6492e-04 - val_loss: 1.3697e-04\n",
      "Epoch 16/50\n",
      "119/119 [==============================] - 0s 2ms/step - loss: 1.5449e-04 - val_loss: 1.2733e-04\n",
      "Epoch 17/50\n",
      "119/119 [==============================] - 0s 2ms/step - loss: 1.9304e-04 - val_loss: 1.1833e-04\n",
      "Epoch 18/50\n",
      "119/119 [==============================] - 0s 2ms/step - loss: 1.7181e-04 - val_loss: 1.4378e-04\n",
      "Epoch 19/50\n",
      "119/119 [==============================] - 0s 2ms/step - loss: 1.7552e-04 - val_loss: 1.1739e-04\n",
      "Epoch 20/50\n",
      "119/119 [==============================] - 0s 2ms/step - loss: 1.7063e-04 - val_loss: 1.5187e-04\n",
      "Epoch 21/50\n",
      "119/119 [==============================] - 0s 2ms/step - loss: 1.8901e-04 - val_loss: 1.1749e-04\n",
      "Epoch 22/50\n",
      "119/119 [==============================] - 0s 2ms/step - loss: 2.0120e-04 - val_loss: 1.6083e-04\n",
      "Epoch 23/50\n",
      "119/119 [==============================] - 0s 2ms/step - loss: 1.7698e-04 - val_loss: 2.1339e-04\n",
      "Epoch 24/50\n",
      "119/119 [==============================] - 0s 2ms/step - loss: 1.7065e-04 - val_loss: 1.3937e-04\n",
      "Epoch 25/50\n",
      "119/119 [==============================] - 0s 2ms/step - loss: 1.6853e-04 - val_loss: 1.1578e-04\n",
      "Epoch 26/50\n",
      "119/119 [==============================] - 0s 2ms/step - loss: 1.8453e-04 - val_loss: 1.1601e-04\n",
      "Epoch 27/50\n",
      "119/119 [==============================] - 0s 2ms/step - loss: 1.6957e-04 - val_loss: 1.2180e-04\n",
      "Epoch 28/50\n",
      "119/119 [==============================] - 0s 2ms/step - loss: 1.6924e-04 - val_loss: 1.1725e-04\n",
      "Epoch 29/50\n",
      "119/119 [==============================] - 0s 2ms/step - loss: 1.7361e-04 - val_loss: 1.4232e-04\n",
      "Epoch 30/50\n",
      "119/119 [==============================] - 0s 2ms/step - loss: 1.7984e-04 - val_loss: 2.1625e-04\n",
      "Epoch 31/50\n",
      "119/119 [==============================] - 0s 2ms/step - loss: 1.6320e-04 - val_loss: 2.2636e-04\n",
      "Epoch 32/50\n",
      "119/119 [==============================] - 0s 2ms/step - loss: 1.4765e-04 - val_loss: 2.1960e-04\n",
      "Epoch 33/50\n",
      "119/119 [==============================] - 0s 2ms/step - loss: 1.6452e-04 - val_loss: 1.1805e-04\n",
      "Epoch 34/50\n",
      "119/119 [==============================] - 0s 2ms/step - loss: 1.5204e-04 - val_loss: 1.4242e-04\n",
      "Epoch 35/50\n",
      "119/119 [==============================] - 0s 2ms/step - loss: 1.6570e-04 - val_loss: 3.6483e-04\n",
      "Epoch 36/50\n",
      "119/119 [==============================] - 0s 2ms/step - loss: 1.5707e-04 - val_loss: 1.3778e-04\n",
      "Epoch 37/50\n",
      "119/119 [==============================] - 0s 2ms/step - loss: 1.5632e-04 - val_loss: 1.6641e-04\n",
      "Epoch 38/50\n",
      "119/119 [==============================] - 0s 2ms/step - loss: 1.4436e-04 - val_loss: 1.1613e-04\n",
      "Epoch 39/50\n",
      "119/119 [==============================] - 0s 2ms/step - loss: 1.7454e-04 - val_loss: 2.9481e-04\n",
      "Epoch 40/50\n",
      "119/119 [==============================] - 0s 2ms/step - loss: 1.4882e-04 - val_loss: 1.1975e-04\n",
      "Epoch 41/50\n",
      "119/119 [==============================] - 0s 2ms/step - loss: 1.2307e-04 - val_loss: 1.6503e-04\n",
      "Epoch 42/50\n",
      "119/119 [==============================] - 0s 2ms/step - loss: 1.6687e-04 - val_loss: 1.2615e-04\n",
      "Epoch 43/50\n",
      "119/119 [==============================] - 0s 2ms/step - loss: 1.4429e-04 - val_loss: 1.1269e-04\n",
      "Epoch 44/50\n",
      "119/119 [==============================] - 0s 2ms/step - loss: 1.4397e-04 - val_loss: 1.9627e-04\n",
      "Epoch 45/50\n",
      "119/119 [==============================] - 0s 2ms/step - loss: 1.4280e-04 - val_loss: 1.3677e-04\n",
      "Epoch 46/50\n",
      "119/119 [==============================] - 0s 2ms/step - loss: 1.4300e-04 - val_loss: 1.2024e-04\n",
      "Epoch 47/50\n",
      "119/119 [==============================] - 0s 2ms/step - loss: 1.3960e-04 - val_loss: 1.1263e-04\n",
      "Epoch 48/50\n",
      "119/119 [==============================] - 0s 2ms/step - loss: 1.3521e-04 - val_loss: 1.5024e-04\n",
      "Epoch 49/50\n",
      "119/119 [==============================] - 0s 2ms/step - loss: 1.4688e-04 - val_loss: 1.1236e-04\n",
      "Epoch 50/50\n",
      "119/119 [==============================] - 0s 2ms/step - loss: 1.2600e-04 - val_loss: 1.3993e-04\n"
     ]
    }
   ],
   "source": [
    "x_train=lc1_train\n",
    "\n",
    "y_train=energy_train\n",
    "x=run_experiment(baseline_model, x_train, y_train)"
   ]
  },
  {
   "cell_type": "code",
   "execution_count": 16,
   "metadata": {
    "id": "267imLDtGgt2"
   },
   "outputs": [
    {
     "name": "stdout",
     "output_type": "stream",
     "text": [
      "45071.36803263733 10205.808976085407\n"
     ]
    }
   ],
   "source": [
    "def check_data(n):\n",
    "  x=np.sum(layer_0_test[n])*nrm_l0+np.sum(layer_1_test[n])*nrm_l1+np.sum(layer_2_test[n])*nrm_l2\n",
    "  y=energy_test[n]*nrm_e*1000\n",
    "  print(x,y)\n",
    "check_data(5)\n",
    "\n"
   ]
  },
  {
   "cell_type": "code",
   "execution_count": 17,
   "metadata": {},
   "outputs": [
    {
     "name": "stdout",
     "output_type": "stream",
     "text": [
      "6250/6250 [==============================] - 8s 1ms/step\n"
     ]
    }
   ],
   "source": [
    "cnn_predict = cnn_model.predict(x=[layer_0_test_2D,layer_1_test_2D,layer_2_test2D], verbose=1)"
   ]
  },
  {
   "cell_type": "code",
   "execution_count": 18,
   "metadata": {
    "id": "BW0EWDIQ6Rhd"
   },
   "outputs": [],
   "source": [
    "dnn_predict = baseline_model.predict(x=lc1_test, verbose=0)"
   ]
  },
  {
   "cell_type": "code",
   "execution_count": 19,
   "metadata": {},
   "outputs": [
    {
     "data": {
      "text/plain": [
       "<matplotlib.legend.Legend at 0x7ffec7d84ac0>"
      ]
     },
     "execution_count": 19,
     "metadata": {},
     "output_type": "execute_result"
    },
    {
     "data": {
      "image/png": "[encoded data removed]",
      "text/plain": [
       "<Figure size 360x360 with 1 Axes>"
      ]
     },
     "metadata": {
      "needs_background": "light"
     },
     "output_type": "display_data"
    }
   ],
   "source": [
    "energy = np.array(energy)\n",
    "dnn_predict = np.array(dnn_predict)\n",
    "cnn_predict = np.array(cnn_predict)\n",
    "fig, ax = plt.subplots(1,1,figsize=[5,5])\n",
    "\n",
    "ax.hist(energy,bins= 100, density= True, label=\"Sum energy\") \n",
    "ax.hist(dnn_predict,bins= 100, density = True , alpha = 0.4,  label=\"DNN predict\")\n",
    "ax.hist(cnn_predict,bins= 100, density = True, alpha = 0.4, label=\"CNN predict\")\n",
    "\n",
    "plt.legend()\n"
   ]
  },
  {
   "cell_type": "code",
   "execution_count": 20,
   "metadata": {
    "id": "64s3HBLVmxJl"
   },
   "outputs": [],
   "source": [
    "def display_learning_curves(history):\n",
    "    fig, (ax1) = plt.subplots(1, 2, figsize=(5, 5))\n",
    "\n",
    "    ax1[0].plot(x.history[\"loss\"])\n",
    "    ax1[0].plot(x.history[\"val_loss\"])\n",
    "    ax1[0].legend([\"train\", \"test\"], loc=\"upper right\")\n",
    "    ax1[0].set_xlabel(\"Epochs\")\n",
    "    ax1[0].set_ylabel(\"loss\")\n",
    "    ax1[1].plot(history_cnn.history[\"loss\"])\n",
    "    ax1[1].plot(history_cnn.history[\"val_loss\"])\n",
    "    ax1[1].legend([\"train\", \"test\"], loc=\"upper right\")\n",
    "    ax1[1].set_xlabel(\"Epochs\")\n",
    "    ax1[1].set_ylabel(\"loss\")\n",
    "    plt.ylim(top  = 0.01, bottom = 0.0)\n",
    " #   ax2.plot(history.history[\"loss\"])\n",
    " #   ax2.plot(history.history[\"mse\"])\n",
    " #   ax2.legend([\"train\", \"test\"], loc=\"upper right\")\n",
    " #   ax2.set_xlabel(\"Epochs\")\n",
    " #   ax2.set_ylabel(\"loss\")\n",
    "    plt.show()\n"
   ]
  },
  {
   "cell_type": "code",
   "execution_count": 21,
   "metadata": {},
   "outputs": [
    {
     "data": {
      "image/png": "[encoded data removed]",
      "text/plain": [
       "<Figure size 360x360 with 2 Axes>"
      ]
     },
     "metadata": {
      "needs_background": "light"
     },
     "output_type": "display_data"
    }
   ],
   "source": [
    "display_learning_curves(x)"
   ]
  },
  {
   "cell_type": "code",
   "execution_count": 24,
   "metadata": {},
   "outputs": [
    {
     "name": "stdout",
     "output_type": "stream",
     "text": [
      "141083\n",
      "199972\n",
      "0.07549924953238761\n",
      "2.9461857256898933\n",
      "-0.0100440942891504\n",
      "1.503293591943032\n"
     ]
    }
   ],
   "source": [
    "dnn_predict = dnn_predict.reshape(dnn_predict.shape[0])\n",
    "energy_cut  = 0 / (nrm_e * 1000)\n",
    "dnn_diff_pred = (dnn_predict[energy_test>energy_cut] - energy_test[energy_test>energy_cut])/ energy_test[energy_test>energy_cut]\n",
    "diff_sum = (np.sum(layer_0_test[energy_test>energy_cut],axis=1)*nrm_l0+np.sum(layer_1_test[energy_test>energy_cut],axis=1)*nrm_l1+np.sum(layer_2_test[energy_test>energy_cut],axis=1)*nrm_l2 - energy_test[energy_test>energy_cut]*nrm_e*1000 + 0.0068*energy_test[energy_test>energy_cut]*nrm_e*1000)/(energy_test[energy_test>energy_cut]*nrm_e*1000)\n",
    "print(np.argmin(diff_sum))\n",
    "print(np.sum(diff_sum>0))\n",
    "\n",
    "print(np.std(dnn_diff_pred))\n",
    "print(np.std(diff_sum))\n",
    "print(np.mean(dnn_diff_pred))\n",
    "print(np.mean(diff_sum))"
   ]
  },
  {
   "cell_type": "code",
   "execution_count": 25,
   "metadata": {},
   "outputs": [
    {
     "name": "stdout",
     "output_type": "stream",
     "text": [
      "[0.8706928] 0.870694666065143 1.188074822614992\n"
     ]
    }
   ],
   "source": [
    "\n",
    "def check_predict(n):\n",
    "    print(cnn_predict[n], energy_test[n], (diff_sum[n]*energy_test[n]*nrm_e+energy_test[n]*nrm_e)/100)\n",
    "check_predict(100)"
   ]
  },
  {
   "cell_type": "code",
   "execution_count": 26,
   "metadata": {},
   "outputs": [],
   "source": [
    "Cnn_nparr=np.array([cnn_predict]).reshape(200000)"
   ]
  },
  {
   "cell_type": "code",
   "execution_count": 27,
   "metadata": {},
   "outputs": [
    {
     "data": {
      "text/plain": [
       "(array([982., 666., 684., 701., 675., 629., 562., 554., 546., 537., 541.,\n",
       "        524., 492., 493., 497., 477., 460., 484., 446., 461., 449., 451.,\n",
       "        467., 506., 473., 521., 560., 542., 550., 572., 538., 555., 544.,\n",
       "        571., 512., 543., 532., 518., 526., 496., 536., 484., 517., 529.,\n",
       "        506., 509., 503., 501., 522., 502., 516., 496., 525., 522., 491.,\n",
       "        542., 526., 506., 490., 531., 510., 509., 490., 524., 533., 507.,\n",
       "        531., 534., 486., 489., 484., 460., 547., 545., 493., 470., 493.,\n",
       "        514., 474., 526., 497., 518., 509., 528., 503., 497., 543., 485.,\n",
       "        488., 583., 495., 522., 537., 546., 533., 574., 511., 510., 507.,\n",
       "        513., 547., 543., 491., 502., 511., 525., 541., 497., 505., 546.,\n",
       "        526., 564., 492., 499., 472., 536., 510., 489., 546., 538., 485.,\n",
       "        522., 535., 486., 492., 491., 534., 504., 521., 510., 532., 494.,\n",
       "        502., 562., 495., 486., 527., 528., 550., 504., 520., 520., 499.,\n",
       "        508., 492., 482., 518., 523., 541., 552., 480., 510., 507., 531.,\n",
       "        529., 518., 514., 550., 509., 558., 510., 523., 533., 515., 556.,\n",
       "        492., 515., 548., 507., 513., 526., 540., 511., 511., 541., 504.,\n",
       "        488., 500., 544., 560., 491., 505., 492., 520., 555., 554., 543.,\n",
       "        514., 542., 465., 527., 558., 556., 496., 495., 517., 553., 481.,\n",
       "        507., 479., 493., 514., 531., 519., 534., 531., 511., 537., 532.,\n",
       "        481., 517., 540., 515., 536., 540., 499., 550., 505., 506., 520.,\n",
       "        496., 546., 513., 529., 514., 479., 521., 516., 525., 518., 506.,\n",
       "        531., 495., 520., 508., 495., 501., 555., 506., 515., 499., 495.,\n",
       "        534., 552., 540., 499., 517., 562., 510., 539., 495., 457., 512.,\n",
       "        532., 560., 495., 535., 528., 480., 507., 553., 553., 494., 484.,\n",
       "        500., 540., 528., 513., 526., 529., 526., 527., 519., 551., 494.,\n",
       "        480., 516., 518., 514., 569., 524., 500., 461., 457., 476., 530.,\n",
       "        549., 510., 491., 507., 511., 519., 568., 518., 497., 435., 522.,\n",
       "        522., 533., 533., 516., 553., 551., 522., 498., 518., 509., 539.,\n",
       "        528., 513., 507., 493., 501., 532., 474., 511., 511., 518., 544.,\n",
       "        520., 522., 502., 517., 500., 515., 514., 497., 472., 546., 499.,\n",
       "        534., 469., 501., 524., 531., 532., 533., 493., 534., 558., 495.,\n",
       "        535., 535., 494., 502., 502., 529., 548., 533., 523., 505., 520.,\n",
       "        533., 512., 528., 513., 490., 545., 521., 542., 518., 498., 544.,\n",
       "        518., 562., 462., 487., 556., 531., 509., 518., 498., 516., 531.,\n",
       "        520., 517., 536., 539., 469., 484., 463., 406., 440., 376., 276.,\n",
       "        208., 154., 114.,  71.,  49.,  16.,   7.,   3.,   1.,   3.,   0.,\n",
       "          0.,   0.,   0.,   0.,   0.,   0.,   0.,   0.,   0.,   0.,   0.,\n",
       "          0.,   0.,   0.,   0.,   0.,   0.,   0.,   0.,   0.,   0.,   0.,\n",
       "          0.,   0.,   0.,   0.,   0.,   0.,   0.,   0.,   0.,   0.,   0.,\n",
       "          0.,   0.,   0.,   0.,   0.,   0.,   0.,   0.,   0.,   0.,   0.,\n",
       "          0.,   0.,   0.,   0.,   0.,   0.,   0.,   0.,   0.,   0.,   0.,\n",
       "          0.,   0.,   0.,   0.,   0.,   0.,   0.,   0.,   0.,   0.,   0.,\n",
       "          0.,   0.,   0.,   0.,   0.,   0.,   0.,   0.,   0.,   0.,   0.,\n",
       "          0.,   0.,   0.,   0.,   0.,   0.,   0.,   0.,   0.,   0.,   0.,\n",
       "          0.,   0.,   0.,   0.,   0.,   0.,   0.,   0.,   0.,   0.,   0.,\n",
       "          0.,   0.,   1.,   0.,   1.]),\n",
       " array([0.01605272, 0.0186074 , 0.02116209, 0.02371677, 0.02627145,\n",
       "        0.02882613, 0.03138081, 0.0339355 , 0.03649018, 0.03904486,\n",
       "        0.04159954, 0.04415423, 0.04670891, 0.04926359, 0.05181827,\n",
       "        0.05437296, 0.05692764, 0.05948232, 0.062037  , 0.06459168,\n",
       "        0.06714637, 0.06970105, 0.07225573, 0.07481042, 0.07736509,\n",
       "        0.07991978, 0.08247446, 0.08502914, 0.08758382, 0.09013851,\n",
       "        0.09269319, 0.09524787, 0.09780256, 0.10035723, 0.10291192,\n",
       "        0.1054666 , 0.10802128, 0.11057597, 0.11313064, 0.11568533,\n",
       "        0.11824001, 0.12079469, 0.12334938, 0.12590405, 0.12845874,\n",
       "        0.13101342, 0.13356811, 0.1361228 , 0.13867746, 0.14123215,\n",
       "        0.14378683, 0.14634152, 0.1488962 , 0.15145089, 0.15400556,\n",
       "        0.15656024, 0.15911493, 0.16166961, 0.1642243 , 0.16677898,\n",
       "        0.16933365, 0.17188834, 0.17444302, 0.1769977 , 0.17955239,\n",
       "        0.18210706, 0.18466175, 0.18721643, 0.18977112, 0.1923258 ,\n",
       "        0.19488049, 0.19743516, 0.19998984, 0.20254453, 0.20509921,\n",
       "        0.2076539 , 0.21020858, 0.21276325, 0.21531793, 0.21787262,\n",
       "        0.2204273 , 0.22298199, 0.22553666, 0.22809134, 0.23064603,\n",
       "        0.23320071, 0.2357554 , 0.23831008, 0.24086475, 0.24341944,\n",
       "        0.24597412, 0.24852881, 0.2510835 , 0.25363818, 0.25619286,\n",
       "        0.25874755, 0.26130223, 0.2638569 , 0.26641157, 0.26896626,\n",
       "        0.27152094, 0.27407563, 0.2766303 , 0.279185  , 0.28173968,\n",
       "        0.28429437, 0.28684905, 0.28940374, 0.2919584 , 0.29451308,\n",
       "        0.29706776, 0.29962245, 0.30217713, 0.30473182, 0.3072865 ,\n",
       "        0.3098412 , 0.31239587, 0.31495056, 0.31750524, 0.3200599 ,\n",
       "        0.32261458, 0.32516927, 0.32772395, 0.33027864, 0.33283332,\n",
       "        0.335388  , 0.3379427 , 0.34049737, 0.34305206, 0.34560674,\n",
       "        0.34816143, 0.35071608, 0.35327077, 0.35582545, 0.35838014,\n",
       "        0.36093482, 0.3634895 , 0.3660442 , 0.36859888, 0.37115356,\n",
       "        0.37370825, 0.37626293, 0.3788176 , 0.38137227, 0.38392696,\n",
       "        0.38648164, 0.38903633, 0.391591  , 0.3941457 , 0.39670038,\n",
       "        0.39925507, 0.40180975, 0.40436444, 0.4069191 , 0.40947378,\n",
       "        0.41202846, 0.41458315, 0.41713783, 0.41969252, 0.4222472 ,\n",
       "        0.4248019 , 0.42735657, 0.42991126, 0.43246594, 0.43502063,\n",
       "        0.43757528, 0.44012997, 0.44268465, 0.44523934, 0.44779402,\n",
       "        0.4503487 , 0.4529034 , 0.45545807, 0.45801276, 0.46056744,\n",
       "        0.46312213, 0.46567678, 0.46823147, 0.47078615, 0.47334084,\n",
       "        0.47589552, 0.4784502 , 0.4810049 , 0.48355958, 0.48611426,\n",
       "        0.48866895, 0.49122363, 0.49377832, 0.49633297, 0.49888766,\n",
       "        0.5014424 , 0.503997  , 0.50655174, 0.5091064 , 0.51166105,\n",
       "        0.51421577, 0.5167704 , 0.51932514, 0.5218798 , 0.5244345 ,\n",
       "        0.52698916, 0.5295439 , 0.53209853, 0.53465325, 0.5372079 ,\n",
       "        0.53976256, 0.5423173 , 0.5448719 , 0.54742664, 0.5499813 ,\n",
       "        0.552536  , 0.55509067, 0.5576454 , 0.56020004, 0.56275475,\n",
       "        0.5653094 , 0.56786406, 0.5704188 , 0.57297343, 0.57552814,\n",
       "        0.5780828 , 0.5806375 , 0.58319217, 0.5857469 , 0.58830154,\n",
       "        0.59085625, 0.5934109 , 0.59596556, 0.5985203 , 0.60107493,\n",
       "        0.60362965, 0.6061843 , 0.608739  , 0.6112937 , 0.6138484 ,\n",
       "        0.61640304, 0.61895776, 0.6215124 , 0.6240671 , 0.6266218 ,\n",
       "        0.62917644, 0.63173115, 0.6342858 , 0.6368405 , 0.6393952 ,\n",
       "        0.6419499 , 0.64450455, 0.64705926, 0.6496139 , 0.65216863,\n",
       "        0.6547233 , 0.65727794, 0.65983266, 0.6623873 , 0.664942  ,\n",
       "        0.6674967 , 0.6700514 , 0.67260605, 0.67516077, 0.6777154 ,\n",
       "        0.68027014, 0.6828248 , 0.68537945, 0.68793416, 0.6904888 ,\n",
       "        0.69304353, 0.6955982 , 0.6981529 , 0.70070755, 0.70326227,\n",
       "        0.7058169 , 0.70837164, 0.7109263 , 0.71348095, 0.71603566,\n",
       "        0.7185903 , 0.72114503, 0.7236997 , 0.7262544 , 0.72880906,\n",
       "        0.7313638 , 0.7339184 , 0.73647314, 0.7390278 , 0.74158245,\n",
       "        0.74413717, 0.7466918 , 0.74924654, 0.7518012 , 0.7543559 ,\n",
       "        0.75691056, 0.7594653 , 0.76201993, 0.76457465, 0.7671293 ,\n",
       "        0.769684  , 0.7722387 , 0.7747933 , 0.77734804, 0.7799027 ,\n",
       "        0.7824574 , 0.78501207, 0.7875668 , 0.79012144, 0.79267615,\n",
       "        0.7952308 , 0.7977855 , 0.8003402 , 0.80289483, 0.80544955,\n",
       "        0.8080042 , 0.8105589 , 0.8131136 , 0.8156683 , 0.81822294,\n",
       "        0.82077765, 0.8233323 , 0.825887  , 0.8284417 , 0.83099633,\n",
       "        0.83355105, 0.8361057 , 0.8386604 , 0.8412151 , 0.8437698 ,\n",
       "        0.84632444, 0.84887916, 0.8514338 , 0.8539885 , 0.8565432 ,\n",
       "        0.85909784, 0.86165255, 0.8642072 , 0.8667619 , 0.8693166 ,\n",
       "        0.8718713 , 0.87442595, 0.87698066, 0.8795353 , 0.88209003,\n",
       "        0.8846447 , 0.88719934, 0.88975406, 0.8923087 , 0.8948634 ,\n",
       "        0.8974181 , 0.8999728 , 0.90252745, 0.90508217, 0.9076368 ,\n",
       "        0.91019154, 0.9127462 , 0.9153009 , 0.91785556, 0.9204102 ,\n",
       "        0.92296493, 0.9255196 , 0.9280743 , 0.93062896, 0.93318367,\n",
       "        0.9357383 , 0.93829304, 0.9408477 , 0.9434024 , 0.94595706,\n",
       "        0.9485117 , 0.95106643, 0.9536211 , 0.9561758 , 0.95873046,\n",
       "        0.9612852 , 0.9638398 , 0.96639454, 0.9689492 , 0.9715039 ,\n",
       "        0.97405857, 0.9766132 , 0.97916794, 0.9817226 , 0.9842773 ,\n",
       "        0.98683196, 0.9893867 , 0.99194133, 0.99449605, 0.9970507 ,\n",
       "        0.9996054 , 1.0021601 , 1.0047147 , 1.0072694 , 1.0098242 ,\n",
       "        1.0123788 , 1.0149335 , 1.0174881 , 1.0200429 , 1.0225976 ,\n",
       "        1.0251522 , 1.0277069 , 1.0302616 , 1.0328163 , 1.035371  ,\n",
       "        1.0379256 , 1.0404803 , 1.043035  , 1.0455897 , 1.0481443 ,\n",
       "        1.050699  , 1.0532538 , 1.0558084 , 1.0583631 , 1.0609177 ,\n",
       "        1.0634724 , 1.0660272 , 1.0685818 , 1.0711365 , 1.0736911 ,\n",
       "        1.0762459 , 1.0788006 , 1.0813552 , 1.0839099 , 1.0864646 ,\n",
       "        1.0890193 , 1.091574  , 1.0941286 , 1.0966833 , 1.099238  ,\n",
       "        1.1017927 , 1.1043473 , 1.106902  , 1.1094568 , 1.1120114 ,\n",
       "        1.1145661 , 1.1171207 , 1.1196754 , 1.1222302 , 1.1247848 ,\n",
       "        1.1273395 , 1.1298941 , 1.1324489 , 1.1350036 , 1.1375582 ,\n",
       "        1.1401129 , 1.1426677 , 1.1452223 , 1.147777  , 1.1503316 ,\n",
       "        1.1528863 , 1.155441  , 1.1579957 , 1.1605504 , 1.163105  ,\n",
       "        1.1656598 , 1.1682144 , 1.1707691 , 1.1733238 , 1.1758785 ,\n",
       "        1.1784332 , 1.1809878 , 1.1835425 , 1.1860971 , 1.1886519 ,\n",
       "        1.1912066 , 1.1937612 , 1.1963159 , 1.1988707 , 1.2014253 ,\n",
       "        1.20398   , 1.2065346 , 1.2090893 , 1.211644  , 1.2141987 ,\n",
       "        1.2167534 , 1.219308  , 1.2218628 , 1.2244174 , 1.2269721 ,\n",
       "        1.2295268 , 1.2320815 , 1.2346362 , 1.2371908 , 1.2397455 ,\n",
       "        1.2423002 , 1.2448549 , 1.2474096 , 1.2499642 , 1.2525189 ,\n",
       "        1.2550737 , 1.2576283 , 1.260183  , 1.2627376 , 1.2652923 ,\n",
       "        1.2678471 , 1.2704017 , 1.2729564 , 1.275511  , 1.2780658 ,\n",
       "        1.2806205 , 1.2831751 , 1.2857298 , 1.2882845 , 1.2908392 ,\n",
       "        1.2933939 ], dtype=float32),\n",
       " <BarContainer object of 500 artists>)"
      ]
     },
     "execution_count": 27,
     "metadata": {},
     "output_type": "execute_result"
    },
    {
     "data": {
      "image/png": "[encoded data removed]",
      "text/plain": [
       "<Figure size 432x288 with 1 Axes>"
      ]
     },
     "metadata": {
      "needs_background": "light"
     },
     "output_type": "display_data"
    }
   ],
   "source": [
    "cnn_diff_predict=(Cnn_nparr[energy_test>energy_cut]-energy_test[energy_test>energy_cut])/energy_test[energy_test>energy_cut]\n",
    "plt.hist(cnn_predict, bins=500)"
   ]
  },
  {
   "cell_type": "code",
   "execution_count": 32,
   "metadata": {
    "id": "rVUjJx44mycm"
   },
   "outputs": [
    {
     "data": {
      "text/plain": [
       "<matplotlib.legend.Legend at 0x7ffc1daabc70>"
      ]
     },
     "execution_count": 32,
     "metadata": {},
     "output_type": "execute_result"
    },
    {
     "data": {
      "image/png": "[encoded data removed]",
      "text/plain": [
       "<Figure size 360x360 with 1 Axes>"
      ]
     },
     "metadata": {
      "needs_background": "light"
     },
     "output_type": "display_data"
    }
   ],
   "source": [
    "fig, ax = plt.subplots(1,1,figsize=[5,5])\n",
    "ax.hist(dnn_diff_pred, bins = 100, range=[-0.1,0.1], label = \"dnn pred\") \n",
    "#ax.hist(diff_sum, alpha = 0.6, bins = 100, range=[-0.1,0.1], label = \"sum algo\", color=\"r\")\n",
    "ax.hist(cnn_diff_predict,  bins = 100, range=[-0.1,0.1],color=\"g\", label = \"cnn pred\") \n",
    "ax.legend()"
   ]
  },
  {
   "cell_type": "code",
   "execution_count": null,
   "metadata": {},
   "outputs": [],
   "source": []
  },
  {
   "cell_type": "code",
   "execution_count": null,
   "metadata": {},
   "outputs": [],
   "source": []
  }
 ],
 "metadata": {
  "colab": {
   "collapsed_sections": [],
   "private_outputs": true,
   "provenance": []
  },
  "kernelspec": {
   "display_name": "Python 3 (ipykernel)",
   "language": "python",
   "name": "python3"
  },
  "language_info": {
   "codemirror_mode": {
    "name": "ipython",
    "version": 3
   },
   "file_extension": ".py",
   "mimetype": "text/x-python",
   "name": "python",
   "nbconvert_exporter": "python",
   "pygments_lexer": "ipython3",
   "version": "3.9.7"
  }
 },
 "nbformat": 4,
 "nbformat_minor": 4
}
