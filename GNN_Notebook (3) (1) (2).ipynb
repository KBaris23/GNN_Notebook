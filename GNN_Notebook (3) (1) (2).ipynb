{
 "cells": [
  {
   "cell_type": "code",
   "execution_count": 3,
   "metadata": {
    "id": "RIO91Fu65s6k"
   },
   "outputs": [
    {
     "data": {
      "text/plain": [
       "'C:\\\\Users\\\\Asus\\\\.keras\\\\datasets\\\\gamma_angle_position_5deg_xy.h5'"
      ]
     },
     "execution_count": 3,
     "metadata": {},
     "output_type": "execute_result"
    }
   ],
   "source": [
    "import tensorflow\n",
    "import numpy as np\n",
    "import pandas as pd\n",
    "import os\n",
    "import tensorflow.keras as keras\n",
    "zip_file=keras.utils.get_file(\n",
    "    fname=\"gamma_angle_position_5deg_xy.h5\",\n",
    "    origin=\"https://zenodo.org/record/846388/files/gamma_angle_position_5deg_xy.h5?download=1\",\n",
    "    extract=True\n",
    "\n",
    ")\n",
    "dirnam=os.path.join(os.path.dirname(zip_file), \"gamma_angle_position_5deg_xy.h5\")\n",
    "\n",
    "import h5py\n",
    "zip_file\n"
   ]
  },
  {
   "cell_type": "code",
   "execution_count": 4,
   "metadata": {
    "id": "nCkvgr2FHAFG"
   },
   "outputs": [
    {
     "data": {
      "text/plain": [
       "'C:\\\\Users\\\\Asus\\\\.keras\\\\datasets\\\\gamma_angle_position_5deg_xy.h5'"
      ]
     },
     "execution_count": 4,
     "metadata": {},
     "output_type": "execute_result"
    }
   ],
   "source": []
  },
  {
   "cell_type": "code",
   "execution_count": 4,
   "metadata": {
    "id": "ysaVq5t7xcmU"
   },
   "outputs": [],
   "source": [
    "import matplotlib.pyplot as plt\n",
    "def extract_data(n):\n",
    "  windows=np.empty((12,12,1))\n",
    "  for i in range(n):\n",
    "    window = (np.array(h5py.File(zip_file)[\"layer_1\"][i]))\n",
    "    #print(window.reshape(1,12,12).shape)\n",
    "    #window=window.reshape(1,12,12)\n",
    "    windows=np.dstack((windows, window))\n",
    "  return windows\n",
    "  "
   ]
  },
  {
   "cell_type": "code",
   "execution_count": 5,
   "metadata": {
    "id": "cuM9humvFrbe"
   },
   "outputs": [],
   "source": [
    "\n",
    "\n",
    "x=h5py.File(zip_file)\n",
    "layer_0_data = (np.array(h5py.File(zip_file)[\"layer_0\"][:]))\n",
    "\n",
    "layer_1_data = (np.array(h5py.File(zip_file)[\"layer_1\"][:]))\n",
    "layer_2_data = (np.array(h5py.File(zip_file)[\"layer_2\"][:]))\n",
    "energy=(np.array(h5py.File(zip_file)[\"energy\"]))\n",
    "energy=energy.reshape(energy.shape[0])\n",
    "nrm_l0=np.max(layer_0_data)\n",
    "nrm_l1=np.max(layer_1_data)\n",
    "nrm_l2=np.max(layer_2_data)\n",
    "nrm_e=np.max(energy)\n",
    "\n",
    "Layer_0_data_preprocessed=layer_0_data/nrm_l0\n",
    "Layer_1_data_preprocessed=layer_1_data/nrm_l1\n",
    "Layer_2_data_preprocessed=layer_2_data/nrm_l2\n",
    "energy = energy / nrm_e\n"
   ]
  },
  {
   "cell_type": "code",
   "execution_count": 6,
   "metadata": {},
   "outputs": [
    {
     "data": {
      "text/plain": [
       "array([[[0.00000000e+00, 0.00000000e+00, 0.00000000e+00, ...,\n",
       "         0.00000000e+00, 0.00000000e+00, 0.00000000e+00],\n",
       "        [0.00000000e+00, 0.00000000e+00, 0.00000000e+00, ...,\n",
       "         0.00000000e+00, 0.00000000e+00, 0.00000000e+00],\n",
       "        [0.00000000e+00, 0.00000000e+00, 0.00000000e+00, ...,\n",
       "         0.00000000e+00, 0.00000000e+00, 0.00000000e+00]],\n",
       "\n",
       "       [[0.00000000e+00, 2.40711802e-07, 2.90011534e-07, ...,\n",
       "         0.00000000e+00, 0.00000000e+00, 0.00000000e+00],\n",
       "        [6.44887283e-06, 1.92491792e-05, 0.00000000e+00, ...,\n",
       "         0.00000000e+00, 0.00000000e+00, 1.32958062e-04],\n",
       "        [0.00000000e+00, 0.00000000e+00, 0.00000000e+00, ...,\n",
       "         1.24407611e-05, 1.08539811e-04, 1.65105335e-07]],\n",
       "\n",
       "       [[0.00000000e+00, 0.00000000e+00, 0.00000000e+00, ...,\n",
       "         0.00000000e+00, 0.00000000e+00, 0.00000000e+00],\n",
       "        [0.00000000e+00, 0.00000000e+00, 1.25305227e-04, ...,\n",
       "         4.21652981e-05, 0.00000000e+00, 0.00000000e+00],\n",
       "        [0.00000000e+00, 0.00000000e+00, 0.00000000e+00, ...,\n",
       "         0.00000000e+00, 0.00000000e+00, 0.00000000e+00]],\n",
       "\n",
       "       ...,\n",
       "\n",
       "       [[0.00000000e+00, 0.00000000e+00, 0.00000000e+00, ...,\n",
       "         0.00000000e+00, 0.00000000e+00, 0.00000000e+00],\n",
       "        [0.00000000e+00, 0.00000000e+00, 0.00000000e+00, ...,\n",
       "         0.00000000e+00, 0.00000000e+00, 0.00000000e+00],\n",
       "        [0.00000000e+00, 0.00000000e+00, 0.00000000e+00, ...,\n",
       "         0.00000000e+00, 0.00000000e+00, 0.00000000e+00]],\n",
       "\n",
       "       [[1.62849424e-04, 0.00000000e+00, 0.00000000e+00, ...,\n",
       "         0.00000000e+00, 0.00000000e+00, 0.00000000e+00],\n",
       "        [0.00000000e+00, 0.00000000e+00, 5.79549016e-05, ...,\n",
       "         0.00000000e+00, 0.00000000e+00, 0.00000000e+00],\n",
       "        [0.00000000e+00, 0.00000000e+00, 0.00000000e+00, ...,\n",
       "         0.00000000e+00, 0.00000000e+00, 0.00000000e+00]],\n",
       "\n",
       "       [[0.00000000e+00, 0.00000000e+00, 0.00000000e+00, ...,\n",
       "         0.00000000e+00, 0.00000000e+00, 0.00000000e+00],\n",
       "        [0.00000000e+00, 0.00000000e+00, 0.00000000e+00, ...,\n",
       "         0.00000000e+00, 0.00000000e+00, 0.00000000e+00],\n",
       "        [0.00000000e+00, 0.00000000e+00, 0.00000000e+00, ...,\n",
       "         0.00000000e+00, 0.00000000e+00, 0.00000000e+00]]])"
      ]
     },
     "execution_count": 6,
     "metadata": {},
     "output_type": "execute_result"
    }
   ],
   "source": [
    "Layer_0_data_preprocessed"
   ]
  },
  {
   "cell_type": "code",
   "execution_count": 7,
   "metadata": {
    "id": "I7a-mPR6O9qa"
   },
   "outputs": [],
   "source": [
    "flatten_layer_0=Layer_0_data_preprocessed.reshape(500000,3*96)\n",
    "flatten_layer_1=Layer_1_data_preprocessed.reshape(500000,12*12)\n",
    "flatten_layer_2=Layer_2_data_preprocessed.reshape(500000,6*12)\n",
    "from random import randint\n",
    "\n",
    "labels=list(range(500000))\n",
    "\n",
    "\n",
    "\n",
    "\n",
    "#random_selection=np.array([x for x in range (500000) if x not in random])"
   ]
  },
  {
   "cell_type": "markdown",
   "metadata": {
    "id": "lCi6c27iruzL"
   },
   "source": [
    "for i in range(int(0.6*len(flatten_layer_0))):\n",
    "  n=randint(0,499999)\n",
    "  random.append(n)\n",
    "  train_labels.append(energy[n])\n",
    "  train_layer_0.append(flatten_layer_0[n])\n",
    "  train_layer_1.append(flatten_layer_1[n])\n",
    "  train_layer_2.append(flatten_layer_2[n])"
   ]
  },
  {
   "cell_type": "code",
   "execution_count": 8,
   "metadata": {
    "id": "Qpn56IptgnKn"
   },
   "outputs": [],
   "source": [
    "from sklearn.model_selection import train_test_split\n",
    "layer_0_train, layer_0_test, energy_train, energy_test,  layer_1_train,layer_1_test, layer_2_train, layer_2_test,= train_test_split(flatten_layer_0,  energy, flatten_layer_1, flatten_layer_2,  test_size=0.4, random_state=42)\n",
    "layer_0_train_2D, layer_0_test_2D, energy_train, energy_test,  layer_1_train_2D,layer_1_test_2D, layer_2_train_2D, layer_2_test2D,= train_test_split(Layer_0_data_preprocessed,  energy, Layer_1_data_preprocessed, Layer_2_data_preprocessed,  test_size=0.4, random_state=42)"
   ]
  },
  {
   "cell_type": "code",
   "execution_count": 9,
   "metadata": {
    "id": "e_wOew_QE-dc"
   },
   "outputs": [
    {
     "name": "stdout",
     "output_type": "stream",
     "text": [
      "(300000, 3, 96)\n"
     ]
    }
   ],
   "source": [
    "print(layer_0_train_2D.shape)"
   ]
  },
  {
   "cell_type": "markdown",
   "metadata": {
    "id": "ZDqQ8hLR9d7q"
   },
   "source": [
    "\n",
    "def check_data(n):\n",
    "  x=layer_0_train[n].sum()*np.max(layer_0_data)+layer_1_train[n].sum()*np.max(layer_1_data)+layer_2_train[n].sum()*np.max(layer_2_data)\n",
    "  n=label0_train[n]\n",
    "  print(x,energy[n])\n",
    "check_data(5)"
   ]
  },
  {
   "cell_type": "markdown",
   "metadata": {
    "id": "pNAOiGn4rFit"
   },
   "source": [
    "lbl_tr ==> labels of training\n",
    "\n",
    "lbl_val==>labels of validation\n",
    "\n",
    "l0_tr, l1_tr, l2_tr will be used in training and are chosen from previously splitted training data"
   ]
  },
  {
   "cell_type": "markdown",
   "metadata": {
    "id": "QZGqkf745j9e"
   },
   "source": [
    "l0_tr,l0_val,l1_tr,l1_val,l2_tr,l2_val,lbl_tr,lbl_val= train_test_split(layer_0_train,layer_1_train,layer_2_train, label0_train, test_size=0.2, random_state=42)\n",
    "del(l0_tr,l0_val,l1_tr,l1_val,l2_tr,l2_val,lbl_tr,lbl_val)"
   ]
  },
  {
   "cell_type": "code",
   "execution_count": 10,
   "metadata": {
    "id": "TOYVznGWZMyy"
   },
   "outputs": [],
   "source": [
    "\n",
    "lc1_test=np.array([np.concatenate((layer_0_test, layer_1_test, layer_2_test),axis=1)  ])\n",
    "lc1_train=np.array([np.concatenate((layer_0_train, layer_1_train, layer_2_train),axis=1)  ])\n",
    "lc1_train=lc1_train.reshape(lc1_train.shape[1],lc1_train.shape[2])\n",
    "lc1_test=lc1_test.reshape(lc1_test.shape[1],lc1_test.shape[2])\n"
   ]
  },
  {
   "cell_type": "code",
   "execution_count": 11,
   "metadata": {
    "id": "Z06AW0WdFnIy"
   },
   "outputs": [
    {
     "name": "stdout",
     "output_type": "stream",
     "text": [
      "(200000, 504)\n",
      "(200000,)\n",
      "(300000, 504)\n",
      "(300000,)\n"
     ]
    }
   ],
   "source": [
    "print(lc1_test.shape) \n",
    "print(energy_test.shape)\n",
    "print(lc1_train.shape)\n",
    "print(energy_train.shape) "
   ]
  },
  {
   "cell_type": "markdown",
   "metadata": {
    "id": "PphME-j9cRs_"
   },
   "source": [
    "test_layer_0 = np.array([flatten_layer_0[i] for i in range(len(flatten_layer_0)) if i not in random])\n",
    "test_layer_1 = np.array([flatten_layer_1[i] for i in range(len(flatten_layer_0)) if i not in random])\n",
    "test_layer_2 = np.array([flatten_layer_2[i] for i in range(len(flatten_layer_0)) if i not in random])"
   ]
  },
  {
   "cell_type": "code",
   "execution_count": 133,
   "metadata": {
    "id": "7yz029HZvne9"
   },
   "outputs": [],
   "source": [
    "def run_experiment(model, x_train, y_train):\n",
    "    \n",
    "    model.compile(\n",
    "        optimizer=keras.optimizers.Adam(0.003),\n",
    "        loss=keras.losses.MeanSquaredError(reduction=\"auto\", name=\"mean_squared_error\")#,\n",
    "        #metrics=tf.keras.metrics.BinaryAccuracy(),\n",
    "    )\n",
    "    \n",
    "    early_stopping = keras.callbacks.EarlyStopping(\n",
    "        monitor=\"val_loss\", patience=50, restore_best_weights=True\n",
    "    )\n",
    "    \n",
    "    history = model.fit(\n",
    "        x=x_train,\n",
    "        y=y_train,\n",
    "        epochs=50,\n",
    "        batch_size=2028,\n",
    "        validation_split=0.2,\n",
    "        callbacks=[early_stopping],\n",
    "    )\n",
    "\n",
    "    return history"
   ]
  },
  {
   "cell_type": "code",
   "execution_count": 15,
   "metadata": {
    "id": "AgJ2Mj70s9fk"
   },
   "outputs": [
    {
     "name": "stdout",
     "output_type": "stream",
     "text": [
      "Model: \"dnn\"\n",
      "_________________________________________________________________\n",
      " Layer (type)                Output Shape              Param #   \n",
      "=================================================================\n",
      " input_features (InputLayer)  [(None, 504)]            0         \n",
      "                                                                 \n",
      " dense (Dense)               (None, 512)               258560    \n",
      "                                                                 \n",
      " dropout (Dropout)           (None, 512)               0         \n",
      "                                                                 \n",
      " dense_1 (Dense)             (None, 256)               131328    \n",
      "                                                                 \n",
      " dropout_1 (Dropout)         (None, 256)               0         \n",
      "                                                                 \n",
      " dense_2 (Dense)             (None, 64)                16448     \n",
      "                                                                 \n",
      " dropout_2 (Dropout)         (None, 64)                0         \n",
      "                                                                 \n",
      " output (Dense)              (None, 1)                 65        \n",
      "                                                                 \n",
      "=================================================================\n",
      "Total params: 406,401\n",
      "Trainable params: 406,401\n",
      "Non-trainable params: 0\n",
      "_________________________________________________________________\n"
     ]
    }
   ],
   "source": [
    "import keras.layers as layers\n",
    "import tensorflow as tf\n",
    "hidden_units = [512, 256,64]\n",
    "def dnn(hidden_units, num_classes, dropout_rate):\n",
    "    inputs = layers.Input(shape=(144+(96*3)+72,), name=\"input_features\")\n",
    "    x = inputs\n",
    "    for units in hidden_units:        \n",
    "        x  = layers.Dense(units, activation=tf.nn.relu)(x)\n",
    "        x  = layers.Dropout(rate=dropout_rate)(x)\n",
    "    logits = layers.Dense(num_classes, name=\"output\")(x)\n",
    "    # Create the model.\n",
    "    return keras.Model(inputs=inputs, outputs=logits, name=\"dnn\")\n",
    "\n",
    "\n",
    "baseline_model = dnn(hidden_units, 1, 0.1)\n",
    "baseline_model.summary()"
   ]
  },
  {
   "cell_type": "code",
   "execution_count": 16,
   "metadata": {},
   "outputs": [],
   "source": [
    "def cnn(hidden_units, num_classes, dropout_rate):\n",
    "    inputs0 = layers.Input(shape=(3,96,1,), name=\"input_features_l0\")\n",
    "    inputs1 = layers.Input(shape=(12,12,1,), name=\"input_features_l1\")\n",
    "    inputs2 = layers.Input(shape=(12,6,1,), name=\"input_features_l2\")\n",
    "    cnn0 = layers.Conv2D(32, 3, activation='relu', padding='same')(inputs0)\n",
    "    cnn0 = layers.Conv2D(64, 3, activation='relu', padding='same')(cnn0)\n",
    "    cnn0 = layers.Flatten()(cnn0)\n",
    "    cnn1 = layers.Conv2D(32, 3, activation='relu', padding='same')(inputs1)\n",
    "    cnn1 = layers.Conv2D(64, 3, activation='relu', padding='same')(cnn1)\n",
    "    cnn1 = layers.Flatten()(cnn1)\n",
    "    cnn2 = layers.Conv2D(32, 3, activation='relu', padding='same')(inputs2)\n",
    "    cnn2 = layers.Conv2D(64, 3, activation='relu', padding='same')(cnn2)  \n",
    "    cnn2 = layers.Flatten()(cnn2)\n",
    "    x =  layers.Concatenate()([cnn0,cnn1,cnn2])\n",
    "    for units in hidden_units:        \n",
    "        x  = layers.Dense(units, activation=tf.nn.relu)(x)\n",
    "        x  = layers.Dropout(rate=dropout_rate)(x)\n",
    "    logits = layers.Dense(num_classes, name=\"output\")(x)\n",
    "    # Create the model.\n",
    "    return keras.Model(inputs=(inputs0,inputs1,inputs2), outputs=logits, name=\"dnn\")"
   ]
  },
  {
   "cell_type": "code",
   "execution_count": 17,
   "metadata": {},
   "outputs": [
    {
     "name": "stdout",
     "output_type": "stream",
     "text": [
      "Model: \"dnn\"\n",
      "__________________________________________________________________________________________________\n",
      " Layer (type)                   Output Shape         Param #     Connected to                     \n",
      "==================================================================================================\n",
      " input_features_l0 (InputLayer)  [(None, 3, 96, 1)]  0           []                               \n",
      "                                                                                                  \n",
      " input_features_l1 (InputLayer)  [(None, 12, 12, 1)]  0          []                               \n",
      "                                                                                                  \n",
      " input_features_l2 (InputLayer)  [(None, 12, 6, 1)]  0           []                               \n",
      "                                                                                                  \n",
      " conv2d (Conv2D)                (None, 3, 96, 32)    320         ['input_features_l0[0][0]']      \n",
      "                                                                                                  \n",
      " conv2d_2 (Conv2D)              (None, 12, 12, 32)   320         ['input_features_l1[0][0]']      \n",
      "                                                                                                  \n",
      " conv2d_4 (Conv2D)              (None, 12, 6, 32)    320         ['input_features_l2[0][0]']      \n",
      "                                                                                                  \n",
      " conv2d_1 (Conv2D)              (None, 3, 96, 64)    18496       ['conv2d[0][0]']                 \n",
      "                                                                                                  \n",
      " conv2d_3 (Conv2D)              (None, 12, 12, 64)   18496       ['conv2d_2[0][0]']               \n",
      "                                                                                                  \n",
      " conv2d_5 (Conv2D)              (None, 12, 6, 64)    18496       ['conv2d_4[0][0]']               \n",
      "                                                                                                  \n",
      " flatten (Flatten)              (None, 18432)        0           ['conv2d_1[0][0]']               \n",
      "                                                                                                  \n",
      " flatten_1 (Flatten)            (None, 9216)         0           ['conv2d_3[0][0]']               \n",
      "                                                                                                  \n",
      " flatten_2 (Flatten)            (None, 4608)         0           ['conv2d_5[0][0]']               \n",
      "                                                                                                  \n",
      " concatenate (Concatenate)      (None, 32256)        0           ['flatten[0][0]',                \n",
      "                                                                  'flatten_1[0][0]',              \n",
      "                                                                  'flatten_2[0][0]']              \n",
      "                                                                                                  \n",
      " dense_3 (Dense)                (None, 512)          16515584    ['concatenate[0][0]']            \n",
      "                                                                                                  \n",
      " dropout_3 (Dropout)            (None, 512)          0           ['dense_3[0][0]']                \n",
      "                                                                                                  \n",
      " dense_4 (Dense)                (None, 256)          131328      ['dropout_3[0][0]']              \n",
      "                                                                                                  \n",
      " dropout_4 (Dropout)            (None, 256)          0           ['dense_4[0][0]']                \n",
      "                                                                                                  \n",
      " dense_5 (Dense)                (None, 64)           16448       ['dropout_4[0][0]']              \n",
      "                                                                                                  \n",
      " dropout_5 (Dropout)            (None, 64)           0           ['dense_5[0][0]']                \n",
      "                                                                                                  \n",
      " output (Dense)                 (None, 1)            65          ['dropout_5[0][0]']              \n",
      "                                                                                                  \n",
      "==================================================================================================\n",
      "Total params: 16,719,873\n",
      "Trainable params: 16,719,873\n",
      "Non-trainable params: 0\n",
      "__________________________________________________________________________________________________\n"
     ]
    }
   ],
   "source": [
    "cnn_model = cnn(hidden_units, 1, 0.1)\n",
    "cnn_model.summary()\n"
   ]
  },
  {
   "cell_type": "code",
   "execution_count": 145,
   "metadata": {},
   "outputs": [
    {
     "name": "stdout",
     "output_type": "stream",
     "text": [
      "Epoch 1/50\n",
      "119/119 [==============================] - 242s 2s/step - loss: 0.0034 - val_loss: 0.0032\n",
      "Epoch 2/50\n",
      "119/119 [==============================] - 205s 2s/step - loss: 0.0014 - val_loss: 0.0030\n",
      "Epoch 3/50\n",
      "119/119 [==============================] - 199s 2s/step - loss: 0.0013 - val_loss: 0.0027\n",
      "Epoch 4/50\n",
      "119/119 [==============================] - 216s 2s/step - loss: 0.0012 - val_loss: 0.0030\n",
      "Epoch 5/50\n",
      "119/119 [==============================] - 207s 2s/step - loss: 0.0011 - val_loss: 0.0029\n",
      "Epoch 6/50\n",
      "119/119 [==============================] - 193s 2s/step - loss: 0.0013 - val_loss: 0.0029\n",
      "Epoch 7/50\n",
      "119/119 [==============================] - 182s 2s/step - loss: 0.0010 - val_loss: 0.0033\n",
      "Epoch 8/50\n",
      "119/119 [==============================] - 182s 2s/step - loss: 9.7558e-04 - val_loss: 0.0030\n",
      "Epoch 9/50\n",
      "119/119 [==============================] - 181s 2s/step - loss: 9.3605e-04 - val_loss: 0.0026\n",
      "Epoch 10/50\n",
      "119/119 [==============================] - 181s 2s/step - loss: 9.1506e-04 - val_loss: 0.0033\n",
      "Epoch 11/50\n",
      "119/119 [==============================] - 181s 2s/step - loss: 9.0911e-04 - val_loss: 0.0029\n",
      "Epoch 12/50\n",
      "119/119 [==============================] - 181s 2s/step - loss: 8.9340e-04 - val_loss: 0.0034\n",
      "Epoch 13/50\n",
      "119/119 [==============================] - 181s 2s/step - loss: 8.9485e-04 - val_loss: 0.0028\n",
      "Epoch 14/50\n",
      "119/119 [==============================] - 181s 2s/step - loss: 9.0934e-04 - val_loss: 0.0025\n",
      "Epoch 15/50\n",
      "119/119 [==============================] - 181s 2s/step - loss: 8.6400e-04 - val_loss: 0.0027\n",
      "Epoch 16/50\n",
      "119/119 [==============================] - 181s 2s/step - loss: 0.0046 - val_loss: 7.8377e-04\n",
      "Epoch 17/50\n",
      "119/119 [==============================] - 182s 2s/step - loss: 0.0013 - val_loss: 0.0021\n",
      "Epoch 18/50\n",
      "119/119 [==============================] - 181s 2s/step - loss: 9.7303e-04 - val_loss: 0.0022\n",
      "Epoch 19/50\n",
      "119/119 [==============================] - 179s 2s/step - loss: 9.1221e-04 - val_loss: 0.0025\n",
      "Epoch 20/50\n",
      "119/119 [==============================] - 179s 2s/step - loss: 9.0612e-04 - val_loss: 0.0029\n",
      "Epoch 21/50\n",
      "119/119 [==============================] - 184s 2s/step - loss: 8.9145e-04 - val_loss: 0.0025\n",
      "Epoch 22/50\n",
      "119/119 [==============================] - 191s 2s/step - loss: 8.7881e-04 - val_loss: 0.0026\n",
      "Epoch 23/50\n",
      "119/119 [==============================] - 196s 2s/step - loss: 8.7958e-04 - val_loss: 0.0026\n",
      "Epoch 24/50\n",
      "119/119 [==============================] - 186s 2s/step - loss: 8.6802e-04 - val_loss: 0.0023\n",
      "Epoch 25/50\n",
      "119/119 [==============================] - 222s 2s/step - loss: 8.6417e-04 - val_loss: 0.0033\n",
      "Epoch 26/50\n",
      "119/119 [==============================] - 217s 2s/step - loss: 8.5273e-04 - val_loss: 0.0025\n",
      "Epoch 27/50\n",
      "119/119 [==============================] - 217s 2s/step - loss: 8.5467e-04 - val_loss: 0.0025\n",
      "Epoch 28/50\n",
      "119/119 [==============================] - 217s 2s/step - loss: 8.5003e-04 - val_loss: 0.0024\n",
      "Epoch 29/50\n",
      "119/119 [==============================] - 217s 2s/step - loss: 8.4622e-04 - val_loss: 0.0023\n",
      "Epoch 30/50\n",
      "119/119 [==============================] - 217s 2s/step - loss: 8.3812e-04 - val_loss: 0.0026\n",
      "Epoch 31/50\n",
      "119/119 [==============================] - 211s 2s/step - loss: 8.4042e-04 - val_loss: 0.0028\n",
      "Epoch 32/50\n",
      "119/119 [==============================] - 211s 2s/step - loss: 8.3915e-04 - val_loss: 0.0028\n",
      "Epoch 33/50\n",
      "119/119 [==============================] - 216s 2s/step - loss: 8.3217e-04 - val_loss: 0.0031\n",
      "Epoch 34/50\n",
      "119/119 [==============================] - 216s 2s/step - loss: 8.3184e-04 - val_loss: 0.0034\n",
      "Epoch 35/50\n",
      "119/119 [==============================] - 217s 2s/step - loss: 8.1291e-04 - val_loss: 0.0023\n",
      "Epoch 36/50\n",
      "119/119 [==============================] - 216s 2s/step - loss: 8.1418e-04 - val_loss: 0.0021\n",
      "Epoch 37/50\n",
      "119/119 [==============================] - 209s 2s/step - loss: 8.1725e-04 - val_loss: 0.0026\n",
      "Epoch 38/50\n",
      "119/119 [==============================] - 218s 2s/step - loss: 8.1047e-04 - val_loss: 0.0025\n",
      "Epoch 39/50\n",
      "119/119 [==============================] - 217s 2s/step - loss: 8.3581e-04 - val_loss: 0.0023\n",
      "Epoch 40/50\n",
      "119/119 [==============================] - 218s 2s/step - loss: 8.0879e-04 - val_loss: 0.0028\n",
      "Epoch 41/50\n",
      "119/119 [==============================] - 217s 2s/step - loss: 8.1843e-04 - val_loss: 0.0030\n",
      "Epoch 42/50\n",
      "119/119 [==============================] - 217s 2s/step - loss: 8.0432e-04 - val_loss: 0.0026\n",
      "Epoch 43/50\n",
      "119/119 [==============================] - 217s 2s/step - loss: 8.1133e-04 - val_loss: 0.0030\n",
      "Epoch 44/50\n",
      "119/119 [==============================] - 217s 2s/step - loss: 8.2386e-04 - val_loss: 0.0030\n",
      "Epoch 45/50\n",
      "119/119 [==============================] - 216s 2s/step - loss: 8.1671e-04 - val_loss: 0.0031\n",
      "Epoch 46/50\n",
      "119/119 [==============================] - 218s 2s/step - loss: 8.0779e-04 - val_loss: 0.0024\n",
      "Epoch 47/50\n",
      "119/119 [==============================] - 217s 2s/step - loss: 7.9779e-04 - val_loss: 0.0030\n",
      "Epoch 48/50\n",
      "119/119 [==============================] - 217s 2s/step - loss: 7.8224e-04 - val_loss: 0.0021\n",
      "Epoch 49/50\n",
      "119/119 [==============================] - 217s 2s/step - loss: 7.7814e-04 - val_loss: 0.0022\n",
      "Epoch 50/50\n",
      "119/119 [==============================] - 219s 2s/step - loss: 7.7504e-04 - val_loss: 0.0030\n"
     ]
    }
   ],
   "source": [
    "history_cnn=run_experiment(cnn_model,[layer_0_train_2D,layer_1_train_2D,layer_2_train_2D],energy_train)"
   ]
  },
  {
   "cell_type": "code",
   "execution_count": 134,
   "metadata": {
    "id": "PUPhTztZvza-"
   },
   "outputs": [
    {
     "name": "stdout",
     "output_type": "stream",
     "text": [
      "Epoch 1/50\n",
      "119/119 [==============================] - 5s 36ms/step - loss: 0.0020 - val_loss: 1.2549e-04\n",
      "Epoch 2/50\n",
      "119/119 [==============================] - 4s 35ms/step - loss: 7.9387e-04 - val_loss: 1.1258e-04\n",
      "Epoch 3/50\n",
      "119/119 [==============================] - 4s 35ms/step - loss: 7.8483e-04 - val_loss: 1.0513e-04\n",
      "Epoch 4/50\n",
      "119/119 [==============================] - 4s 34ms/step - loss: 7.9396e-04 - val_loss: 1.3336e-04\n",
      "Epoch 5/50\n",
      "119/119 [==============================] - 4s 35ms/step - loss: 7.9445e-04 - val_loss: 1.1714e-04\n",
      "Epoch 6/50\n",
      "119/119 [==============================] - 4s 36ms/step - loss: 7.9489e-04 - val_loss: 1.1678e-04\n",
      "Epoch 7/50\n",
      "119/119 [==============================] - 4s 34ms/step - loss: 7.9547e-04 - val_loss: 1.1367e-04\n",
      "Epoch 8/50\n",
      "119/119 [==============================] - 4s 34ms/step - loss: 7.9931e-04 - val_loss: 2.2171e-04\n",
      "Epoch 9/50\n",
      "119/119 [==============================] - 4s 34ms/step - loss: 8.0036e-04 - val_loss: 1.2334e-04\n",
      "Epoch 10/50\n",
      "119/119 [==============================] - 4s 33ms/step - loss: 8.0447e-04 - val_loss: 9.9594e-05\n",
      "Epoch 11/50\n",
      "119/119 [==============================] - 4s 35ms/step - loss: 8.0293e-04 - val_loss: 9.5655e-05\n",
      "Epoch 12/50\n",
      "119/119 [==============================] - 4s 34ms/step - loss: 8.1633e-04 - val_loss: 7.8542e-05\n",
      "Epoch 13/50\n",
      "119/119 [==============================] - 4s 34ms/step - loss: 8.0823e-04 - val_loss: 1.1129e-04\n",
      "Epoch 14/50\n",
      "119/119 [==============================] - 4s 33ms/step - loss: 8.0498e-04 - val_loss: 2.0578e-04\n",
      "Epoch 15/50\n",
      "119/119 [==============================] - 4s 34ms/step - loss: 8.2428e-04 - val_loss: 1.3453e-04\n",
      "Epoch 16/50\n",
      "119/119 [==============================] - 4s 34ms/step - loss: 8.1005e-04 - val_loss: 8.7426e-05\n",
      "Epoch 17/50\n",
      "119/119 [==============================] - 4s 34ms/step - loss: 8.1225e-04 - val_loss: 2.7112e-04\n",
      "Epoch 18/50\n",
      "119/119 [==============================] - 4s 35ms/step - loss: 8.1094e-04 - val_loss: 1.6391e-04\n",
      "Epoch 19/50\n",
      "119/119 [==============================] - 4s 34ms/step - loss: 8.8667e-04 - val_loss: 1.8168e-04\n",
      "Epoch 20/50\n",
      "119/119 [==============================] - 4s 34ms/step - loss: 8.1944e-04 - val_loss: 1.9343e-04\n",
      "Epoch 21/50\n",
      "119/119 [==============================] - 4s 33ms/step - loss: 8.1746e-04 - val_loss: 1.1562e-04\n",
      "Epoch 22/50\n",
      "119/119 [==============================] - 4s 33ms/step - loss: 8.2157e-04 - val_loss: 3.8682e-04\n",
      "Epoch 23/50\n",
      "119/119 [==============================] - 4s 33ms/step - loss: 8.2263e-04 - val_loss: 1.7828e-04\n",
      "Epoch 24/50\n",
      "119/119 [==============================] - 4s 34ms/step - loss: 8.3467e-04 - val_loss: 2.4333e-04\n",
      "Epoch 25/50\n",
      "119/119 [==============================] - 4s 35ms/step - loss: 8.3929e-04 - val_loss: 2.2152e-04\n",
      "Epoch 26/50\n",
      "119/119 [==============================] - 4s 34ms/step - loss: 8.2406e-04 - val_loss: 2.3422e-04\n",
      "Epoch 27/50\n",
      "119/119 [==============================] - 5s 39ms/step - loss: 8.3335e-04 - val_loss: 2.0081e-04\n",
      "Epoch 28/50\n",
      "119/119 [==============================] - 5s 41ms/step - loss: 8.3305e-04 - val_loss: 1.3597e-04\n",
      "Epoch 29/50\n",
      "119/119 [==============================] - 5s 40ms/step - loss: 8.4242e-04 - val_loss: 1.4847e-04\n",
      "Epoch 30/50\n",
      "119/119 [==============================] - 5s 38ms/step - loss: 8.2895e-04 - val_loss: 1.3576e-04\n",
      "Epoch 31/50\n",
      "119/119 [==============================] - 5s 39ms/step - loss: 8.3026e-04 - val_loss: 1.1684e-04\n",
      "Epoch 32/50\n",
      "119/119 [==============================] - 5s 40ms/step - loss: 8.0555e-04 - val_loss: 7.9202e-05\n",
      "Epoch 33/50\n",
      "119/119 [==============================] - 4s 37ms/step - loss: 8.2650e-04 - val_loss: 1.4448e-04\n",
      "Epoch 34/50\n",
      "119/119 [==============================] - 5s 40ms/step - loss: 8.2708e-04 - val_loss: 2.0909e-04\n",
      "Epoch 35/50\n",
      "119/119 [==============================] - 5s 38ms/step - loss: 8.3650e-04 - val_loss: 1.6132e-04\n",
      "Epoch 36/50\n",
      "119/119 [==============================] - 5s 40ms/step - loss: 8.1165e-04 - val_loss: 1.9711e-04\n",
      "Epoch 37/50\n",
      "119/119 [==============================] - 5s 38ms/step - loss: 8.1095e-04 - val_loss: 9.6160e-05\n",
      "Epoch 38/50\n",
      "119/119 [==============================] - 4s 34ms/step - loss: 8.1723e-04 - val_loss: 2.2310e-04\n",
      "Epoch 39/50\n",
      "119/119 [==============================] - 4s 34ms/step - loss: 8.3263e-04 - val_loss: 2.1647e-04\n",
      "Epoch 40/50\n",
      "119/119 [==============================] - 4s 35ms/step - loss: 8.1901e-04 - val_loss: 1.3070e-04\n",
      "Epoch 41/50\n",
      "119/119 [==============================] - 4s 35ms/step - loss: 8.1946e-04 - val_loss: 1.1431e-04\n",
      "Epoch 42/50\n",
      "119/119 [==============================] - 4s 34ms/step - loss: 8.1755e-04 - val_loss: 1.8146e-04\n",
      "Epoch 43/50\n",
      "119/119 [==============================] - 4s 34ms/step - loss: 8.2697e-04 - val_loss: 9.0234e-05\n",
      "Epoch 44/50\n",
      "119/119 [==============================] - 4s 34ms/step - loss: 8.1053e-04 - val_loss: 3.1525e-04\n",
      "Epoch 45/50\n",
      "119/119 [==============================] - 4s 35ms/step - loss: 8.2534e-04 - val_loss: 1.0895e-04\n",
      "Epoch 46/50\n",
      "119/119 [==============================] - 4s 35ms/step - loss: 8.2586e-04 - val_loss: 1.3263e-04\n",
      "Epoch 47/50\n",
      "119/119 [==============================] - 4s 35ms/step - loss: 8.0576e-04 - val_loss: 1.8618e-04\n",
      "Epoch 48/50\n",
      "119/119 [==============================] - 4s 34ms/step - loss: 8.0486e-04 - val_loss: 1.9761e-04\n",
      "Epoch 49/50\n",
      "119/119 [==============================] - 4s 34ms/step - loss: 8.2919e-04 - val_loss: 1.1083e-04\n",
      "Epoch 50/50\n",
      "119/119 [==============================] - 4s 34ms/step - loss: 8.2951e-04 - val_loss: 1.7661e-04\n"
     ]
    }
   ],
   "source": [
    "x_train=lc1_train\n",
    "\n",
    "y_train=energy_train\n",
    "x=run_experiment(baseline_model, x_train, y_train)"
   ]
  },
  {
   "cell_type": "code",
   "execution_count": 23,
   "metadata": {
    "id": "267imLDtGgt2"
   },
   "outputs": [
    {
     "name": "stdout",
     "output_type": "stream",
     "text": [
      "10097.97740604293 10205.808976085407\n"
     ]
    }
   ],
   "source": [
    "def check_data(n):\n",
    "  x=np.sum(layer_0_test[n])*nrm_l0+np.sum(layer_1_test[n])*nrm_l1+np.sum(layer_2_test[n])*nrm_l2\n",
    "  y=energy_test[n]*nrm_e*1000\n",
    "  print(x,y)\n",
    "check_data(5)\n",
    "\n"
   ]
  },
  {
   "cell_type": "code",
   "execution_count": 155,
   "metadata": {},
   "outputs": [
    {
     "name": "stdout",
     "output_type": "stream",
     "text": [
      "6250/6250 [==============================] - 91s 15ms/step\n"
     ]
    }
   ],
   "source": [
    "CNN_predict = cnn_model.predict(x=[layer_0_test_2D,layer_1_test_2D,layer_2_test2D], verbose=1)"
   ]
  },
  {
   "cell_type": "code",
   "execution_count": 153,
   "metadata": {
    "id": "64s3HBLVmxJl"
   },
   "outputs": [],
   "source": [
    "def display_learning_curves(history):\n",
    "    fig, (ax1) = plt.subplots(1, 2, figsize=(5, 5))\n",
    "\n",
    "    ax1[0].plot(x.history[\"loss\"])\n",
    "    ax1[0].plot(x.history[\"val_loss\"])\n",
    "    ax1[0].legend([\"train\", \"test\"], loc=\"upper right\")\n",
    "    ax1[0].set_xlabel(\"Epochs\")\n",
    "    ax1[0].set_ylabel(\"loss\")\n",
    "    ax1[1].plot(history_cnn.history[\"loss\"])\n",
    "    ax1[1].plot(history_cnn.history[\"val_loss\"])\n",
    "    ax1[1].legend([\"train\", \"test\"], loc=\"upper right\")\n",
    "    ax1[1].set_xlabel(\"Epochs\")\n",
    "    ax1[1].set_ylabel(\"loss\")\n",
    "    plt.ylim(top  = 0.01, bottom = 0.0)\n",
    " #   ax2.plot(history.history[\"loss\"])\n",
    " #   ax2.plot(history.history[\"mse\"])\n",
    " #   ax2.legend([\"train\", \"test\"], loc=\"upper right\")\n",
    " #   ax2.set_xlabel(\"Epochs\")\n",
    " #   ax2.set_ylabel(\"loss\")\n",
    "    plt.show()\n"
   ]
  },
  {
   "cell_type": "code",
   "execution_count": 154,
   "metadata": {},
   "outputs": [
    {
     "data": {
      "image/png": "[encoded data removed]",
      "text/plain": [
       "<Figure size 360x360 with 2 Axes>"
      ]
     },
     "metadata": {
      "needs_background": "light"
     },
     "output_type": "display_data"
    }
   ],
   "source": [
    "display_learning_curves(x)"
   ]
  },
  {
   "cell_type": "code",
   "execution_count": 137,
   "metadata": {
    "id": "BW0EWDIQ6Rhd"
   },
   "outputs": [],
   "source": [
    "label_predict = baseline_model.predict(x=lc1_test, verbose=0)"
   ]
  },
  {
   "cell_type": "code",
   "execution_count": 138,
   "metadata": {},
   "outputs": [
    {
     "data": {
      "text/plain": [
       "<matplotlib.legend.Legend at 0x29c3ebf2c70>"
      ]
     },
     "execution_count": 138,
     "metadata": {},
     "output_type": "execute_result"
    },
    {
     "data": {
      "image/png": "[encoded data removed]",
      "text/plain": [
       "<Figure size 360x360 with 1 Axes>"
      ]
     },
     "metadata": {
      "needs_background": "light"
     },
     "output_type": "display_data"
    }
   ],
   "source": [
    "energy = np.array(energy)\n",
    "label_predict = np.array(label_predict)\n",
    "fig, ax = plt.subplots(1,1,figsize=[5,5])\n",
    "\n",
    "ax.hist(energy,bins= 100, label=\"energy\") \n",
    "ax.hist(label_predict,bins= 100, label=\"predict\")\n",
    "plt.legend()\n"
   ]
  },
  {
   "cell_type": "code",
   "execution_count": 139,
   "metadata": {},
   "outputs": [
    {
     "name": "stdout",
     "output_type": "stream",
     "text": [
      "104028\n",
      "145430\n",
      "0.14234511233310548\n",
      "0.012249898073222111\n",
      "0.015733666986130553\n",
      "-6.856688916029345e-06\n"
     ]
    }
   ],
   "source": [
    "label_predict = label_predict.reshape(label_predict.shape[0])\n",
    "energy_cut  = 0 / (nrm_e * 1000)\n",
    "diff_pred = (label_predict[energy_test>energy_cut] - energy_test[energy_test>energy_cut])/ energy_test[energy_test>energy_cut]\n",
    "diff_sum = (np.sum(layer_0_test[energy_test>energy_cut],axis=1)*nrm_l0+np.sum(layer_1_test[energy_test>energy_cut],axis=1)*nrm_l1+np.sum(layer_2_test[energy_test>energy_cut],axis=1)*nrm_l2 - energy_test[energy_test>energy_cut]*nrm_e*1000 + 0.0068*energy_test[energy_test>energy_cut]*nrm_e*1000)/(energy_test[energy_test>energy_cut]*nrm_e*1000)\n",
    "print(np.argmin(diff_sum))\n",
    "print(np.sum(diff_sum>0))\n",
    "\n",
    "print(np.std(diff_pred))\n",
    "print(np.std(diff_sum))\n",
    "print(np.mean(diff_pred))\n",
    "print(np.mean(diff_sum))"
   ]
  },
  {
   "cell_type": "code",
   "execution_count": 157,
   "metadata": {},
   "outputs": [
    {
     "name": "stdout",
     "output_type": "stream",
     "text": [
      "[0.78064287] 0.870694666065143 0.8730703010934394\n"
     ]
    }
   ],
   "source": [
    "\n",
    "def check_predict(n):\n",
    "    print(CNN_predict[n], energy_test[n], (diff_sum[n]*energy_test[n]*nrm_e+energy_test[n]*nrm_e)/100)\n",
    "check_predict(100)"
   ]
  },
  {
   "cell_type": "code",
   "execution_count": 158,
   "metadata": {},
   "outputs": [],
   "source": [
    "Cnn_nparr=np.array([CNN_predict]).reshape(200000)"
   ]
  },
  {
   "cell_type": "code",
   "execution_count": 159,
   "metadata": {},
   "outputs": [
    {
     "data": {
      "text/plain": [
       "(array([2.0000e+00, 0.0000e+00, 0.0000e+00, 0.0000e+00, 0.0000e+00,\n",
       "        0.0000e+00, 1.0000e+00, 0.0000e+00, 0.0000e+00, 1.0000e+00,\n",
       "        0.0000e+00, 0.0000e+00, 0.0000e+00, 1.0000e+00, 0.0000e+00,\n",
       "        0.0000e+00, 2.0000e+00, 0.0000e+00, 0.0000e+00, 1.0000e+00,\n",
       "        0.0000e+00, 0.0000e+00, 0.0000e+00, 0.0000e+00, 0.0000e+00,\n",
       "        0.0000e+00, 2.0000e+00, 0.0000e+00, 0.0000e+00, 0.0000e+00,\n",
       "        0.0000e+00, 0.0000e+00, 2.0000e+00, 2.0000e+00, 1.0000e+00,\n",
       "        0.0000e+00, 0.0000e+00, 0.0000e+00, 0.0000e+00, 0.0000e+00,\n",
       "        1.0000e+00, 2.0000e+00, 1.0000e+00, 1.0000e+00, 0.0000e+00,\n",
       "        0.0000e+00, 0.0000e+00, 1.0000e+00, 2.0000e+00, 2.0000e+00,\n",
       "        2.0000e+00, 2.0000e+00, 0.0000e+00, 1.0000e+00, 0.0000e+00,\n",
       "        1.0000e+00, 0.0000e+00, 0.0000e+00, 3.0000e+00, 0.0000e+00,\n",
       "        2.0000e+00, 0.0000e+00, 2.0000e+00, 2.0000e+00, 1.0000e+00,\n",
       "        2.0000e+00, 1.0000e+00, 3.0000e+00, 0.0000e+00, 2.0000e+00,\n",
       "        1.0000e+00, 1.0000e+00, 1.0000e+00, 2.0000e+00, 3.0000e+00,\n",
       "        1.0000e+00, 5.0000e+00, 1.0000e+00, 3.0000e+00, 3.0000e+00,\n",
       "        3.0000e+00, 0.0000e+00, 4.0000e+00, 4.0000e+00, 3.0000e+00,\n",
       "        3.0000e+00, 8.0000e+00, 3.0000e+00, 6.0000e+00, 3.0000e+00,\n",
       "        4.0000e+00, 8.0000e+00, 1.0000e+01, 1.0000e+01, 9.0000e+00,\n",
       "        1.3000e+01, 1.6000e+01, 1.4000e+01, 2.9000e+01, 3.5000e+01,\n",
       "        5.4000e+01, 1.2100e+02, 3.7600e+02, 3.2880e+03, 1.3880e+04,\n",
       "        1.7211e+04, 1.4590e+04, 1.3715e+04, 1.4707e+04, 1.7940e+04,\n",
       "        2.2408e+04, 2.4736e+04, 1.8576e+04, 8.3920e+03, 3.5340e+03,\n",
       "        2.0330e+03, 1.6810e+03, 1.5900e+03, 1.4570e+03, 1.3790e+03,\n",
       "        1.2990e+03, 1.2050e+03, 1.1000e+03, 1.0120e+03, 8.4100e+02,\n",
       "        7.4100e+02, 6.1900e+02, 5.1000e+02, 4.5000e+02, 3.9900e+02,\n",
       "        3.6900e+02, 3.6600e+02, 3.5400e+02, 3.5100e+02, 4.0400e+02,\n",
       "        3.7100e+02, 3.4000e+02, 3.4400e+02, 3.4000e+02, 3.1200e+02,\n",
       "        3.2300e+02, 2.8600e+02, 2.6800e+02, 2.3700e+02, 2.4300e+02,\n",
       "        1.8300e+02, 2.0800e+02, 1.8300e+02, 1.8100e+02, 1.7300e+02,\n",
       "        1.4800e+02, 1.6800e+02, 1.2800e+02, 1.2700e+02, 1.2400e+02,\n",
       "        9.3000e+01, 8.9000e+01, 8.8000e+01, 8.7000e+01, 7.1000e+01,\n",
       "        6.6000e+01, 6.4000e+01, 7.0000e+01, 5.4000e+01, 5.6000e+01,\n",
       "        4.3000e+01, 4.6000e+01, 3.6000e+01, 3.9000e+01, 3.9000e+01,\n",
       "        4.2000e+01, 2.9000e+01, 2.6000e+01, 3.2000e+01, 3.9000e+01,\n",
       "        3.3000e+01, 3.1000e+01, 3.9000e+01, 3.1000e+01, 3.0000e+01,\n",
       "        2.7000e+01, 3.0000e+01, 2.8000e+01, 2.1000e+01, 3.5000e+01,\n",
       "        2.4000e+01, 3.2000e+01, 2.9000e+01, 2.3000e+01, 1.8000e+01,\n",
       "        4.5000e+01, 2.4000e+01, 2.5000e+01, 2.3000e+01, 2.7000e+01,\n",
       "        1.5000e+01, 1.9000e+01, 2.3000e+01, 2.4000e+01, 1.4000e+01,\n",
       "        1.7000e+01, 1.4000e+01, 2.0000e+01, 2.2000e+01, 2.2000e+01,\n",
       "        2.2000e+01, 1.8000e+01, 1.9000e+01, 3.1000e+01, 1.5000e+01,\n",
       "        1.8000e+01, 1.8000e+01, 1.3000e+01, 1.6000e+01, 2.1000e+01,\n",
       "        1.1000e+01, 1.8000e+01, 1.6000e+01, 2.6000e+01, 1.9000e+01,\n",
       "        1.2000e+01, 1.4000e+01, 1.5000e+01, 1.7000e+01, 1.1000e+01,\n",
       "        1.4000e+01, 1.7000e+01, 1.4000e+01, 2.2000e+01, 1.6000e+01,\n",
       "        1.3000e+01, 1.0000e+01, 1.6000e+01, 1.7000e+01, 1.1000e+01,\n",
       "        1.3000e+01, 1.2000e+01, 1.4000e+01, 1.6000e+01, 1.3000e+01,\n",
       "        2.1000e+01, 9.0000e+00, 1.0000e+01, 1.1000e+01, 1.1000e+01,\n",
       "        1.2000e+01, 1.4000e+01, 1.6000e+01, 8.0000e+00, 1.5000e+01,\n",
       "        2.0000e+01, 2.1000e+01, 1.2000e+01, 1.5000e+01, 1.5000e+01,\n",
       "        8.0000e+00, 9.0000e+00, 9.0000e+00, 1.0000e+01, 1.1000e+01,\n",
       "        9.0000e+00, 4.0000e+00, 9.0000e+00, 8.0000e+00, 1.1000e+01,\n",
       "        1.0000e+01, 1.8000e+01, 1.1000e+01, 1.4000e+01, 1.0000e+01,\n",
       "        1.2000e+01, 1.3000e+01, 8.0000e+00, 1.0000e+01, 1.2000e+01,\n",
       "        1.3000e+01, 8.0000e+00, 1.1000e+01, 5.0000e+00, 1.2000e+01,\n",
       "        9.0000e+00, 1.0000e+01, 4.0000e+00, 6.0000e+00, 6.0000e+00,\n",
       "        5.0000e+00, 6.0000e+00, 7.0000e+00, 9.0000e+00, 1.4000e+01,\n",
       "        7.0000e+00, 7.0000e+00, 1.3000e+01, 6.0000e+00, 6.0000e+00,\n",
       "        7.0000e+00, 1.0000e+01, 9.0000e+00, 6.0000e+00, 7.0000e+00,\n",
       "        6.0000e+00, 7.0000e+00, 7.0000e+00, 1.0000e+01, 6.0000e+00,\n",
       "        1.2000e+01, 1.0000e+01, 9.0000e+00, 1.0000e+01, 9.0000e+00,\n",
       "        4.0000e+00, 9.0000e+00, 4.0000e+00, 5.0000e+00, 8.0000e+00,\n",
       "        5.0000e+00, 7.0000e+00, 9.0000e+00, 1.0000e+01, 8.0000e+00,\n",
       "        5.0000e+00, 7.0000e+00, 6.0000e+00, 1.0000e+01, 7.0000e+00,\n",
       "        7.0000e+00, 5.0000e+00, 5.0000e+00, 9.0000e+00, 7.0000e+00,\n",
       "        3.0000e+00, 6.0000e+00, 1.2000e+01, 3.0000e+00, 5.0000e+00,\n",
       "        7.0000e+00, 3.0000e+00, 5.0000e+00, 4.0000e+00, 4.0000e+00,\n",
       "        2.0000e+00, 5.0000e+00, 2.0000e+00, 2.0000e+00, 2.0000e+00,\n",
       "        0.0000e+00, 4.0000e+00, 0.0000e+00, 2.0000e+00, 1.0000e+00,\n",
       "        1.0000e+00, 2.0000e+00, 2.0000e+00, 1.0000e+00, 0.0000e+00,\n",
       "        1.0000e+00, 2.0000e+00, 2.0000e+00, 1.0000e+00, 0.0000e+00,\n",
       "        0.0000e+00, 1.0000e+00, 0.0000e+00, 0.0000e+00, 0.0000e+00,\n",
       "        0.0000e+00, 0.0000e+00, 0.0000e+00, 0.0000e+00, 0.0000e+00,\n",
       "        0.0000e+00, 0.0000e+00, 0.0000e+00, 0.0000e+00, 0.0000e+00,\n",
       "        0.0000e+00, 0.0000e+00, 0.0000e+00, 0.0000e+00, 0.0000e+00,\n",
       "        0.0000e+00, 0.0000e+00, 0.0000e+00, 0.0000e+00, 0.0000e+00,\n",
       "        0.0000e+00, 0.0000e+00, 0.0000e+00, 0.0000e+00, 0.0000e+00,\n",
       "        0.0000e+00, 0.0000e+00, 0.0000e+00, 0.0000e+00, 0.0000e+00,\n",
       "        0.0000e+00, 0.0000e+00, 0.0000e+00, 0.0000e+00, 0.0000e+00,\n",
       "        0.0000e+00, 0.0000e+00, 0.0000e+00, 0.0000e+00, 0.0000e+00,\n",
       "        0.0000e+00, 0.0000e+00, 0.0000e+00, 0.0000e+00, 0.0000e+00,\n",
       "        0.0000e+00, 0.0000e+00, 0.0000e+00, 0.0000e+00, 0.0000e+00,\n",
       "        0.0000e+00, 0.0000e+00, 0.0000e+00, 0.0000e+00, 0.0000e+00,\n",
       "        0.0000e+00, 0.0000e+00, 0.0000e+00, 0.0000e+00, 0.0000e+00,\n",
       "        0.0000e+00, 0.0000e+00, 0.0000e+00, 0.0000e+00, 0.0000e+00,\n",
       "        0.0000e+00, 0.0000e+00, 0.0000e+00, 0.0000e+00, 0.0000e+00,\n",
       "        0.0000e+00, 0.0000e+00, 0.0000e+00, 0.0000e+00, 0.0000e+00,\n",
       "        0.0000e+00, 0.0000e+00, 0.0000e+00, 0.0000e+00, 0.0000e+00,\n",
       "        0.0000e+00, 0.0000e+00, 0.0000e+00, 0.0000e+00, 0.0000e+00,\n",
       "        0.0000e+00, 0.0000e+00, 0.0000e+00, 0.0000e+00, 0.0000e+00,\n",
       "        0.0000e+00, 0.0000e+00, 0.0000e+00, 0.0000e+00, 0.0000e+00,\n",
       "        0.0000e+00, 0.0000e+00, 0.0000e+00, 0.0000e+00, 0.0000e+00,\n",
       "        0.0000e+00, 0.0000e+00, 0.0000e+00, 0.0000e+00, 0.0000e+00,\n",
       "        0.0000e+00, 0.0000e+00, 0.0000e+00, 0.0000e+00, 0.0000e+00,\n",
       "        0.0000e+00, 0.0000e+00, 0.0000e+00, 0.0000e+00, 0.0000e+00,\n",
       "        0.0000e+00, 0.0000e+00, 0.0000e+00, 0.0000e+00, 0.0000e+00,\n",
       "        0.0000e+00, 0.0000e+00, 0.0000e+00, 0.0000e+00, 0.0000e+00,\n",
       "        0.0000e+00, 0.0000e+00, 0.0000e+00, 0.0000e+00, 0.0000e+00,\n",
       "        0.0000e+00, 0.0000e+00, 0.0000e+00, 0.0000e+00, 1.0000e+00]),\n",
       " array([-0.88913762, -0.88170064, -0.87426367, -0.86682669, -0.85938971,\n",
       "        -0.85195274, -0.84451576, -0.83707879, -0.82964181, -0.82220484,\n",
       "        -0.81476786, -0.80733089, -0.79989391, -0.79245694, -0.78501996,\n",
       "        -0.77758299, -0.77014601, -0.76270904, -0.75527206, -0.74783508,\n",
       "        -0.74039811, -0.73296113, -0.72552416, -0.71808718, -0.71065021,\n",
       "        -0.70321323, -0.69577626, -0.68833928, -0.68090231, -0.67346533,\n",
       "        -0.66602836, -0.65859138, -0.65115441, -0.64371743, -0.63628045,\n",
       "        -0.62884348, -0.6214065 , -0.61396953, -0.60653255, -0.59909558,\n",
       "        -0.5916586 , -0.58422163, -0.57678465, -0.56934768, -0.5619107 ,\n",
       "        -0.55447373, -0.54703675, -0.53959978, -0.5321628 , -0.52472582,\n",
       "        -0.51728885, -0.50985187, -0.5024149 , -0.49497792, -0.48754095,\n",
       "        -0.48010397, -0.472667  , -0.46523002, -0.45779305, -0.45035607,\n",
       "        -0.4429191 , -0.43548212, -0.42804515, -0.42060817, -0.41317119,\n",
       "        -0.40573422, -0.39829724, -0.39086027, -0.38342329, -0.37598632,\n",
       "        -0.36854934, -0.36111237, -0.35367539, -0.34623842, -0.33880144,\n",
       "        -0.33136447, -0.32392749, -0.31649052, -0.30905354, -0.30161656,\n",
       "        -0.29417959, -0.28674261, -0.27930564, -0.27186866, -0.26443169,\n",
       "        -0.25699471, -0.24955774, -0.24212076, -0.23468379, -0.22724681,\n",
       "        -0.21980984, -0.21237286, -0.20493589, -0.19749891, -0.19006193,\n",
       "        -0.18262496, -0.17518798, -0.16775101, -0.16031403, -0.15287706,\n",
       "        -0.14544008, -0.13800311, -0.13056613, -0.12312916, -0.11569218,\n",
       "        -0.10825521, -0.10081823, -0.09338126, -0.08594428, -0.0785073 ,\n",
       "        -0.07107033, -0.06363335, -0.05619638, -0.0487594 , -0.04132243,\n",
       "        -0.03388545, -0.02644848, -0.0190115 , -0.01157453, -0.00413755,\n",
       "         0.00329942,  0.0107364 ,  0.01817337,  0.02561035,  0.03304733,\n",
       "         0.0404843 ,  0.04792128,  0.05535825,  0.06279523,  0.0702322 ,\n",
       "         0.07766918,  0.08510615,  0.09254313,  0.0999801 ,  0.10741708,\n",
       "         0.11485405,  0.12229103,  0.129728  ,  0.13716498,  0.14460196,\n",
       "         0.15203893,  0.15947591,  0.16691288,  0.17434986,  0.18178683,\n",
       "         0.18922381,  0.19666078,  0.20409776,  0.21153473,  0.21897171,\n",
       "         0.22640868,  0.23384566,  0.24128263,  0.24871961,  0.25615659,\n",
       "         0.26359356,  0.27103054,  0.27846751,  0.28590449,  0.29334146,\n",
       "         0.30077844,  0.30821541,  0.31565239,  0.32308936,  0.33052634,\n",
       "         0.33796331,  0.34540029,  0.35283726,  0.36027424,  0.36771122,\n",
       "         0.37514819,  0.38258517,  0.39002214,  0.39745912,  0.40489609,\n",
       "         0.41233307,  0.41977004,  0.42720702,  0.43464399,  0.44208097,\n",
       "         0.44951794,  0.45695492,  0.46439189,  0.47182887,  0.47926585,\n",
       "         0.48670282,  0.4941398 ,  0.50157677,  0.50901375,  0.51645072,\n",
       "         0.5238877 ,  0.53132467,  0.53876165,  0.54619862,  0.5536356 ,\n",
       "         0.56107257,  0.56850955,  0.57594652,  0.5833835 ,  0.59082047,\n",
       "         0.59825745,  0.60569443,  0.6131314 ,  0.62056838,  0.62800535,\n",
       "         0.63544233,  0.6428793 ,  0.65031628,  0.65775325,  0.66519023,\n",
       "         0.6726272 ,  0.68006418,  0.68750115,  0.69493813,  0.7023751 ,\n",
       "         0.70981208,  0.71724906,  0.72468603,  0.73212301,  0.73955998,\n",
       "         0.74699696,  0.75443393,  0.76187091,  0.76930788,  0.77674486,\n",
       "         0.78418183,  0.79161881,  0.79905578,  0.80649276,  0.81392973,\n",
       "         0.82136671,  0.82880369,  0.83624066,  0.84367764,  0.85111461,\n",
       "         0.85855159,  0.86598856,  0.87342554,  0.88086251,  0.88829949,\n",
       "         0.89573646,  0.90317344,  0.91061041,  0.91804739,  0.92548436,\n",
       "         0.93292134,  0.94035832,  0.94779529,  0.95523227,  0.96266924,\n",
       "         0.97010622,  0.97754319,  0.98498017,  0.99241714,  0.99985412,\n",
       "         1.00729109,  1.01472807,  1.02216504,  1.02960202,  1.03703899,\n",
       "         1.04447597,  1.05191295,  1.05934992,  1.0667869 ,  1.07422387,\n",
       "         1.08166085,  1.08909782,  1.0965348 ,  1.10397177,  1.11140875,\n",
       "         1.11884572,  1.1262827 ,  1.13371967,  1.14115665,  1.14859362,\n",
       "         1.1560306 ,  1.16346758,  1.17090455,  1.17834153,  1.1857785 ,\n",
       "         1.19321548,  1.20065245,  1.20808943,  1.2155264 ,  1.22296338,\n",
       "         1.23040035,  1.23783733,  1.2452743 ,  1.25271128,  1.26014825,\n",
       "         1.26758523,  1.27502221,  1.28245918,  1.28989616,  1.29733313,\n",
       "         1.30477011,  1.31220708,  1.31964406,  1.32708103,  1.33451801,\n",
       "         1.34195498,  1.34939196,  1.35682893,  1.36426591,  1.37170288,\n",
       "         1.37913986,  1.38657684,  1.39401381,  1.40145079,  1.40888776,\n",
       "         1.41632474,  1.42376171,  1.43119869,  1.43863566,  1.44607264,\n",
       "         1.45350961,  1.46094659,  1.46838356,  1.47582054,  1.48325751,\n",
       "         1.49069449,  1.49813147,  1.50556844,  1.51300542,  1.52044239,\n",
       "         1.52787937,  1.53531634,  1.54275332,  1.55019029,  1.55762727,\n",
       "         1.56506424,  1.57250122,  1.57993819,  1.58737517,  1.59481214,\n",
       "         1.60224912,  1.6096861 ,  1.61712307,  1.62456005,  1.63199702,\n",
       "         1.639434  ,  1.64687097,  1.65430795,  1.66174492,  1.6691819 ,\n",
       "         1.67661887,  1.68405585,  1.69149282,  1.6989298 ,  1.70636677,\n",
       "         1.71380375,  1.72124073,  1.7286777 ,  1.73611468,  1.74355165,\n",
       "         1.75098863,  1.7584256 ,  1.76586258,  1.77329955,  1.78073653,\n",
       "         1.7881735 ,  1.79561048,  1.80304745,  1.81048443,  1.8179214 ,\n",
       "         1.82535838,  1.83279536,  1.84023233,  1.84766931,  1.85510628,\n",
       "         1.86254326,  1.86998023,  1.87741721,  1.88485418,  1.89229116,\n",
       "         1.89972813,  1.90716511,  1.91460208,  1.92203906,  1.92947603,\n",
       "         1.93691301,  1.94434999,  1.95178696,  1.95922394,  1.96666091,\n",
       "         1.97409789,  1.98153486,  1.98897184,  1.99640881,  2.00384579,\n",
       "         2.01128276,  2.01871974,  2.02615671,  2.03359369,  2.04103066,\n",
       "         2.04846764,  2.05590462,  2.06334159,  2.07077857,  2.07821554,\n",
       "         2.08565252,  2.09308949,  2.10052647,  2.10796344,  2.11540042,\n",
       "         2.12283739,  2.13027437,  2.13771134,  2.14514832,  2.15258529,\n",
       "         2.16002227,  2.16745925,  2.17489622,  2.1823332 ,  2.18977017,\n",
       "         2.19720715,  2.20464412,  2.2120811 ,  2.21951807,  2.22695505,\n",
       "         2.23439202,  2.241829  ,  2.24926597,  2.25670295,  2.26413992,\n",
       "         2.2715769 ,  2.27901388,  2.28645085,  2.29388783,  2.3013248 ,\n",
       "         2.30876178,  2.31619875,  2.32363573,  2.3310727 ,  2.33850968,\n",
       "         2.34594665,  2.35338363,  2.3608206 ,  2.36825758,  2.37569455,\n",
       "         2.38313153,  2.39056851,  2.39800548,  2.40544246,  2.41287943,\n",
       "         2.42031641,  2.42775338,  2.43519036,  2.44262733,  2.45006431,\n",
       "         2.45750128,  2.46493826,  2.47237523,  2.47981221,  2.48724918,\n",
       "         2.49468616,  2.50212314,  2.50956011,  2.51699709,  2.52443406,\n",
       "         2.53187104,  2.53930801,  2.54674499,  2.55418196,  2.56161894,\n",
       "         2.56905591,  2.57649289,  2.58392986,  2.59136684,  2.59880381,\n",
       "         2.60624079,  2.61367777,  2.62111474,  2.62855172,  2.63598869,\n",
       "         2.64342567,  2.65086264,  2.65829962,  2.66573659,  2.67317357,\n",
       "         2.68061054,  2.68804752,  2.69548449,  2.70292147,  2.71035844,\n",
       "         2.71779542,  2.7252324 ,  2.73266937,  2.74010635,  2.74754332,\n",
       "         2.7549803 ,  2.76241727,  2.76985425,  2.77729122,  2.7847282 ,\n",
       "         2.79216517,  2.79960215,  2.80703912,  2.8144761 ,  2.82191307,\n",
       "         2.82935005]),\n",
       " <BarContainer object of 500 artists>)"
      ]
     },
     "execution_count": 159,
     "metadata": {},
     "output_type": "execute_result"
    },
    {
     "data": {
      "image/png": "[encoded data removed]",
      "text/plain": [
       "<Figure size 432x288 with 1 Axes>"
      ]
     },
     "metadata": {
      "needs_background": "light"
     },
     "output_type": "display_data"
    }
   ],
   "source": [
    "cnn_predict=(Cnn_nparr[energy_test>energy_cut]-energy_test[energy_test>energy_cut])/energy_test[energy_test>energy_cut]\n",
    "plt.hist(cnn_predict, bins=500)"
   ]
  },
  {
   "cell_type": "code",
   "execution_count": 160,
   "metadata": {},
   "outputs": [],
   "source": [
    "cnn_ext=np.mean(cnn_predict)-np.mean(diff_pred)\n",
    "cnn_predict_mod=cnn_predict-cnn_ext"
   ]
  },
  {
   "cell_type": "code",
   "execution_count": 161,
   "metadata": {
    "id": "rVUjJx44mycm"
   },
   "outputs": [
    {
     "data": {
      "text/plain": [
       "<matplotlib.legend.Legend at 0x29e1a7a5e50>"
      ]
     },
     "execution_count": 161,
     "metadata": {},
     "output_type": "execute_result"
    },
    {
     "data": {
      "image/png": "[encoded data removed]",
      "text/plain": [
       "<Figure size 360x360 with 1 Axes>"
      ]
     },
     "metadata": {
      "needs_background": "light"
     },
     "output_type": "display_data"
    }
   ],
   "source": [
    "fig, ax = plt.subplots(1,1,figsize=[5,5])\n",
    "ax.hist(diff_pred, bins = 100, range=[-0.1,0.1], label = \"dnn pred\") \n",
    "ax.hist(diff_sum, alpha = 0.6, bins = 100, range=[-0.1,0.1], label = \"sum algo\", color=\"r\")\n",
    "ax.hist(cnn_predict_mod,  bins = 100, range=[-0.1,0.1],color=\"m\", label = \"cnn pred_mod\")\n",
    "ax.hist(cnn_predict,  bins = 100, range=[-0.1,0.1],color=\"g\", label = \"cnn pred\") \n",
    "ax.legend()"
   ]
  },
  {
   "cell_type": "code",
   "execution_count": null,
   "metadata": {},
   "outputs": [],
   "source": []
  },
  {
   "cell_type": "code",
   "execution_count": null,
   "metadata": {},
   "outputs": [],
   "source": []
  }
 ],
 "metadata": {
  "colab": {
   "collapsed_sections": [],
   "private_outputs": true,
   "provenance": []
  },
  "kernelspec": {
   "display_name": "Python 3 (ipykernel)",
   "language": "python",
   "name": "python3"
  },
  "language_info": {
   "codemirror_mode": {
    "name": "ipython",
    "version": 3
   },
   "file_extension": ".py",
   "mimetype": "text/x-python",
   "name": "python",
   "nbconvert_exporter": "python",
   "pygments_lexer": "ipython3",
   "version": "3.9.12"
  }
 },
 "nbformat": 4,
 "nbformat_minor": 4
}
